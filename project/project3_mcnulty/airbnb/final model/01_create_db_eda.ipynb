{
 "cells": [
  {
   "cell_type": "code",
   "execution_count": 3,
   "metadata": {},
   "outputs": [],
   "source": [
    "# Get pandas and postgres to work together\n",
    "import psycopg2 as pg\n",
    "import pandas as pd\n",
    "import numpy as np\n",
    "import pandas.io.sql as pd_sql\n",
    "import pickle\n",
    "\n",
    "# We are also going to do some basic viz\n",
    "import matplotlib.pyplot as plt\n",
    "%matplotlib inline"
   ]
  },
  {
   "cell_type": "code",
   "execution_count": null,
   "metadata": {
    "collapsed": true
   },
   "outputs": [],
   "source": [
    "# There is a bug in matplotlib. You cannot set the rc parameters in the same\n",
    "# cell that you use the \"%matplotlib inline\" magic command\n",
    "plt.style.use('ggplot')\n",
    "plt.rc('font', size=18) "
   ]
  },
  {
   "cell_type": "code",
   "execution_count": 6,
   "metadata": {},
   "outputs": [],
   "source": [
    "# Postgres info to connect\n",
    "\n",
    "connection_args = {\n",
    "    'host': '54.153.60.68', # You'll have to update this to your IP\n",
    "    'user': 'ubuntu',    # username\n",
    "    'dbname': 'airbnb',   # DB that we are connecting to\n",
    "    'port': 5432         # port we opened on AWS\n",
    "}\n",
    "\n",
    "# We will talk about this magic Python trick!\n",
    "connection = pg.connect(**connection_args)"
   ]
  },
  {
   "cell_type": "code",
   "execution_count": null,
   "metadata": {
    "collapsed": true
   },
   "outputs": [],
   "source": [
    "cursor = connection.cursor()"
   ]
  },
  {
   "cell_type": "code",
   "execution_count": null,
   "metadata": {
    "collapsed": true
   },
   "outputs": [],
   "source": [
    "query = \"\"\"\n",
    "CREATE TABLE trainuser (\n",
    "  id VARCHAR(10) PRIMARY KEY,\n",
    "  date_account_created TEXT,\n",
    "  timestamp_first_active NUMERIC,\n",
    "  date_first_booking TEXT,\n",
    "  gender TEXT,\n",
    "  age DOUBLE PRECISION,\n",
    "  signup_method TEXT,\n",
    "  signup_flow INT,\n",
    "  language TEXT,\n",
    "  affiliate_channel TEXT,\n",
    "  affiliate_provider TEXT,\n",
    "  first_affiliate_tracked TEXT,\n",
    "  signup_app TEXT,\n",
    "  first_device_type TEXT,\n",
    "  first_browser TEXT,\n",
    "  country_destination TEXT\n",
    ");\n",
    "\"\"\"\n",
    "cursor.execute(query)"
   ]
  },
  {
   "cell_type": "code",
   "execution_count": null,
   "metadata": {
    "collapsed": true
   },
   "outputs": [],
   "source": [
    "#cursor.execute('commit;')\n",
    "#cursor.execute(\"rollback;\")"
   ]
  },
  {
   "cell_type": "code",
   "execution_count": null,
   "metadata": {
    "collapsed": true
   },
   "outputs": [],
   "source": [
    "query = \"\"\"\n",
    "CREATE TABLE session (\n",
    "  user_id VARCHAR(10),\n",
    "  action TEXT,\n",
    "  action_type TEXT,\n",
    "  action_detail TEXT,\n",
    "  device_type TEXT,\n",
    "  secs_elapsed REAL\n",
    ");\n",
    "\"\"\"\n",
    "cursor.execute(query)"
   ]
  },
  {
   "cell_type": "code",
   "execution_count": null,
   "metadata": {
    "collapsed": true
   },
   "outputs": [],
   "source": [
    "query = \"\"\"\n",
    "CREATE TABLE country (\n",
    "  country_destination VARCHAR(2) PRIMARY KEY,\n",
    "  lat_destination REAL,\n",
    "  lng_destination REAL,\n",
    "  distance_km REAL,\n",
    "  destination_km2 REAL,\n",
    "  destination_language VARCHAR(3),\n",
    "  language_levenshtein_distance REAL\n",
    ");\n",
    "\"\"\"\n",
    "cursor.execute(query)"
   ]
  },
  {
   "cell_type": "code",
   "execution_count": null,
   "metadata": {
    "collapsed": true
   },
   "outputs": [],
   "source": [
    "query = \"\"\"\n",
    "CREATE TABLE population (\n",
    "  age_bucket TEXT,\n",
    "  country_destination VARCHAR(2) REFERENCES country,\n",
    "  gender TEXT,\n",
    "  population_in_thousands REAL,\n",
    "  year REAL\n",
    ");\n",
    "\"\"\"\n",
    "cursor.execute(query)"
   ]
  },
  {
   "cell_type": "code",
   "execution_count": null,
   "metadata": {
    "collapsed": true
   },
   "outputs": [],
   "source": [
    "\"\"\"\n",
    "To copy the data into the database\n",
    "scp user_subset.csv myaws:.\n",
    "\n",
    "Log on the database and run command\n",
    "COPY session FROM '/home/ubuntu/session_subset.csv' DELIMITER ',' CSV HEADER;\n",
    "\"\"\""
   ]
  },
  {
   "cell_type": "markdown",
   "metadata": {},
   "source": [
    "## Data cleaning"
   ]
  },
  {
   "cell_type": "code",
   "execution_count": null,
   "metadata": {
    "collapsed": true
   },
   "outputs": [],
   "source": [
    "def get_table_info(cursor, table):\n",
    "    # Check column data types\n",
    "    query = \"\"\"\n",
    "    SELECT column_name, data_type \n",
    "    FROM information_schema.columns\n",
    "    WHERE table_name = '{}'\n",
    "    \"\"\".format(table)\n",
    "\n",
    "    cursor.execute(query)\n",
    "    return cursor.fetchall()"
   ]
  },
  {
   "cell_type": "markdown",
   "metadata": {},
   "source": [
    "## Convert the date_account_created to date"
   ]
  },
  {
   "cell_type": "code",
   "execution_count": null,
   "metadata": {
    "collapsed": true
   },
   "outputs": [],
   "source": [
    "# Convert date_account_created from text to timestamp, for further processsing\n",
    "query = \"\"\"\n",
    "ALTER TABLE trainuser ALTER COLUMN date_account_created TYPE TIMESTAMP\n",
    "using to_date(date_account_created, 'YYYY-MM-DD');\n",
    "\"\"\"\n",
    "\n",
    "cursor.execute(query)"
   ]
  },
  {
   "cell_type": "code",
   "execution_count": null,
   "metadata": {
    "collapsed": true
   },
   "outputs": [],
   "source": [
    "# Convert the timestamp into continous variable\n",
    "query = \"\"\"\n",
    "ALTER TABLE trainuser ADD COLUMN account_age INT\n",
    "\"\"\"\n",
    "\n",
    "cursor.execute(query)"
   ]
  },
  {
   "cell_type": "code",
   "execution_count": null,
   "metadata": {
    "collapsed": true
   },
   "outputs": [],
   "source": [
    "query = \"\"\"\n",
    "UPDATE trainuser \n",
    "SET account_age = cast(12 * (date_part('year', date_account_created) - 1970) + date_part('month', date_account_created) AS int8)\n",
    "\"\"\"\n",
    "\n",
    "cursor.execute(query)"
   ]
  },
  {
   "cell_type": "markdown",
   "metadata": {},
   "source": [
    "## Convert timestamp_first_active"
   ]
  },
  {
   "cell_type": "code",
   "execution_count": null,
   "metadata": {
    "collapsed": true
   },
   "outputs": [],
   "source": [
    "## Convert date_account_created from text to timestamp, for further processsing\n",
    "query = \"\"\"\n",
    "ALTER TABLE trainuser ALTER COLUMN timestamp_first_active TYPE TIMESTAMP\n",
    "using to_date(cast(timestamp_first_active as text), 'YYYYMMDDHH24MISS');\n",
    "\"\"\"\n",
    "\n",
    "cursor.execute(query)"
   ]
  },
  {
   "cell_type": "code",
   "execution_count": null,
   "metadata": {
    "collapsed": true
   },
   "outputs": [],
   "source": [
    "# Convert the timestamp into continous variable\n",
    "query = \"\"\"\n",
    "ALTER TABLE trainuser ADD COLUMN active_age INT\n",
    "\"\"\"\n",
    "\n",
    "cursor.execute(query)"
   ]
  },
  {
   "cell_type": "code",
   "execution_count": null,
   "metadata": {
    "collapsed": true
   },
   "outputs": [],
   "source": [
    "query = \"\"\"\n",
    "UPDATE trainuser \n",
    "SET active_age = cast(12 * (date_part('year', timestamp_first_active) - 1970) + date_part('month', timestamp_first_active) AS int8)\n",
    "\"\"\"\n",
    "\n",
    "cursor.execute(query)"
   ]
  },
  {
   "cell_type": "markdown",
   "metadata": {},
   "source": [
    "## Convert date_first_booking"
   ]
  },
  {
   "cell_type": "code",
   "execution_count": null,
   "metadata": {
    "collapsed": true
   },
   "outputs": [],
   "source": [
    "# Seems Postgresql ignores none value pretty smartly\n",
    "query = \"\"\"\n",
    "ALTER TABLE trainuser ALTER COLUMN date_first_booking TYPE TIMESTAMP\n",
    "using to_date(date_first_booking, 'YYYY-MM-DD');\n",
    "\"\"\"\n",
    "\n",
    "cursor.execute(query);"
   ]
  },
  {
   "cell_type": "code",
   "execution_count": null,
   "metadata": {
    "collapsed": true
   },
   "outputs": [],
   "source": [
    "# Convert the timestamp into continous variable\n",
    "query = \"\"\"\n",
    "ALTER TABLE trainuser ADD COLUMN booking_age INT\n",
    "\"\"\"\n",
    "\n",
    "cursor.execute(query)"
   ]
  },
  {
   "cell_type": "code",
   "execution_count": null,
   "metadata": {
    "collapsed": true
   },
   "outputs": [],
   "source": [
    "# Convert the timestamp into continous variable\n",
    "query = \"\"\"\n",
    "UPDATE trainuser\n",
    "SET booking_age = CASE\n",
    "    WHEN date_first_booking IS NULL THEN 0\n",
    "    ELSE cast(12 * (date_part('year', date_first_booking) - 1970) + date_part('month', date_first_booking) AS int8)\n",
    "    END;\n",
    "\"\"\"\n",
    "\n",
    "cursor.execute(query)"
   ]
  },
  {
   "cell_type": "code",
   "execution_count": null,
   "metadata": {
    "collapsed": true
   },
   "outputs": [],
   "source": [
    "query = \"\"\"\n",
    "SELECT *\n",
    "FROM trainuser\n",
    "LIMIT 5;\n",
    "\"\"\"\n",
    "\n",
    "cursor.execute(query)\n",
    "pd.DataFrame(cursor.fetchall())"
   ]
  },
  {
   "cell_type": "code",
   "execution_count": null,
   "metadata": {
    "collapsed": true
   },
   "outputs": [],
   "source": [
    "cursor.execute(\"rollback\")"
   ]
  },
  {
   "cell_type": "markdown",
   "metadata": {},
   "source": [
    "## Check gender column"
   ]
  },
  {
   "cell_type": "code",
   "execution_count": null,
   "metadata": {
    "collapsed": true
   },
   "outputs": [],
   "source": [
    "query = \"\"\"\n",
    "SELECT gender, count(*)\n",
    "FROM trainuser\n",
    "GROUP BY gender\n",
    "\"\"\"\n",
    "\n",
    "cursor.execute(query)\n",
    "cursor.fetchall()\n",
    "\n",
    "# It is clear that gender needs further data cleaning"
   ]
  },
  {
   "cell_type": "markdown",
   "metadata": {},
   "source": [
    "## Check age range"
   ]
  },
  {
   "cell_type": "code",
   "execution_count": null,
   "metadata": {
    "collapsed": true
   },
   "outputs": [],
   "source": [
    "query = \"\"\"\n",
    "SELECT cast(age as int8) as age_int, count(*)\n",
    "FROM trainuser\n",
    "GROUP BY cast(age as int8)\n",
    "ORDER BY cast(age as int8) DESC\n",
    "\"\"\"\n",
    "\n",
    "cursor.execute(query)\n",
    "cursor.fetchall()\n",
    "\n",
    "# A lot of wrong values and missing values"
   ]
  },
  {
   "cell_type": "markdown",
   "metadata": {},
   "source": [
    "## Check signup method"
   ]
  },
  {
   "cell_type": "code",
   "execution_count": null,
   "metadata": {
    "collapsed": true
   },
   "outputs": [],
   "source": [
    "def check_col_hist(cursor, table, column):\n",
    "    query = \"\"\"\n",
    "    SELECT {}, count(*)\n",
    "    FROM {}\n",
    "    GROUP BY {}\n",
    "    ORDER BY count DESC\n",
    "    \"\"\".format(column, table, column)\n",
    "\n",
    "    cursor.execute(query)\n",
    "    return pd.DataFrame(cursor.fetchall())"
   ]
  },
  {
   "cell_type": "code",
   "execution_count": null,
   "metadata": {
    "collapsed": true
   },
   "outputs": [],
   "source": [
    "check_col_hist(cursor, 'trainuser', 'signup_method')"
   ]
  },
  {
   "cell_type": "markdown",
   "metadata": {},
   "source": [
    "## Check signup flow"
   ]
  },
  {
   "cell_type": "code",
   "execution_count": null,
   "metadata": {
    "collapsed": true
   },
   "outputs": [],
   "source": [
    "check_col_hist(cursor, 'trainuser', 'signup_flow')\n",
    "\n",
    "# What do these signup flow numbers mean? Index of signup pages - treat it as categorical variable"
   ]
  },
  {
   "cell_type": "markdown",
   "metadata": {},
   "source": [
    "## Check language"
   ]
  },
  {
   "cell_type": "code",
   "execution_count": null,
   "metadata": {
    "collapsed": true
   },
   "outputs": [],
   "source": [
    "check_col_hist(cursor, 'trainuser','language')"
   ]
  },
  {
   "cell_type": "code",
   "execution_count": null,
   "metadata": {
    "collapsed": true
   },
   "outputs": [],
   "source": [
    "check_col_hist(cursor, 'trainuser','affiliate_channel')\n",
    "\n",
    "#sem: search engine marketing\n",
    "#seo: SEO is a marketing discipline focused on growing visibility in organic (non-paid) search engine results.\n"
   ]
  },
  {
   "cell_type": "code",
   "execution_count": null,
   "metadata": {
    "collapsed": true
   },
   "outputs": [],
   "source": [
    "check_col_hist(cursor, 'trainuser','affiliate_provider')"
   ]
  },
  {
   "cell_type": "code",
   "execution_count": null,
   "metadata": {
    "collapsed": true
   },
   "outputs": [],
   "source": [
    "check_col_hist(cursor, 'trainuser','first_affiliate_tracked')"
   ]
  },
  {
   "cell_type": "code",
   "execution_count": null,
   "metadata": {
    "collapsed": true
   },
   "outputs": [],
   "source": [
    "check_col_hist(cursor, 'trainuser', 'signup_app')"
   ]
  },
  {
   "cell_type": "code",
   "execution_count": null,
   "metadata": {
    "collapsed": true
   },
   "outputs": [],
   "source": [
    "check_col_hist(cursor, 'trainuser', 'first_device_type')"
   ]
  },
  {
   "cell_type": "code",
   "execution_count": null,
   "metadata": {
    "collapsed": true
   },
   "outputs": [],
   "source": [
    "check_col_hist(cursor, 'trainuser', 'first_browser')"
   ]
  },
  {
   "cell_type": "code",
   "execution_count": null,
   "metadata": {
    "collapsed": true
   },
   "outputs": [],
   "source": [
    "check_col_hist(cursor, 'trainuser', 'country_destination')"
   ]
  },
  {
   "cell_type": "markdown",
   "metadata": {},
   "source": [
    "## Add splitseed to trainuser data"
   ]
  },
  {
   "cell_type": "code",
   "execution_count": null,
   "metadata": {
    "collapsed": true
   },
   "outputs": [],
   "source": [
    "# Insert a new column\n",
    "query = \"\"\"\n",
    "ALTER TABLE trainuser\n",
    "ADD COLUMN splitseed REAL;\n",
    "\"\"\"\n",
    "\n",
    "cursor.execute(query)"
   ]
  },
  {
   "cell_type": "code",
   "execution_count": null,
   "metadata": {
    "collapsed": true
   },
   "outputs": [],
   "source": [
    "# Insert data into new column\n",
    "query = \"\"\"\n",
    "UPDATE trainuser\n",
    "SET splitseed=random();\n",
    "\"\"\"\n",
    "\n",
    "cursor.execute(query)"
   ]
  },
  {
   "cell_type": "code",
   "execution_count": null,
   "metadata": {
    "collapsed": true
   },
   "outputs": [],
   "source": [
    "query = \"\"\"\n",
    "SELECT COUNT(*)\n",
    "FROM trainuser\n",
    "WHERE splitseed>.7;\n",
    "\"\"\"\n",
    "\n",
    "cursor.execute(query)\n",
    "cursor.fetchone()"
   ]
  },
  {
   "cell_type": "code",
   "execution_count": null,
   "metadata": {
    "collapsed": true
   },
   "outputs": [],
   "source": [
    "query = \"\"\"\n",
    "SELECT COUNT(*)\n",
    "FROM trainuser\n",
    "WHERE splitseed<=.7;\n",
    "\"\"\"\n",
    "\n",
    "cursor.execute(query)\n",
    "cursor.fetchone()"
   ]
  },
  {
   "cell_type": "markdown",
   "metadata": {},
   "source": [
    "## Check session data"
   ]
  },
  {
   "cell_type": "code",
   "execution_count": null,
   "metadata": {
    "collapsed": true
   },
   "outputs": [],
   "source": [
    "# CREATE VIEW\n",
    "query = \"\"\"\n",
    "DROP VIEW session_stats;\n",
    "\"\"\"\n",
    "\n",
    "cursor.execute(query)"
   ]
  },
  {
   "cell_type": "code",
   "execution_count": null,
   "metadata": {
    "collapsed": true
   },
   "outputs": [],
   "source": [
    "# CREATE VIEW\n",
    "query = \"\"\"\n",
    "CREATE VIEW session_stats AS\n",
    "SELECT user_id,  avg(secs_elapsed) AS mean_time, count(*) AS session_counts\n",
    "FROM session\n",
    "GROUP BY user_id;\n",
    "\"\"\"\n",
    "\n",
    "cursor.execute(query)"
   ]
  },
  {
   "cell_type": "code",
   "execution_count": null,
   "metadata": {
    "collapsed": true
   },
   "outputs": [],
   "source": [
    "query = \"\"\"\n",
    "SELECT *\n",
    "FROM session_stats\n",
    "ORDER BY session_counts DESC\n",
    "LIMIT 5;\n",
    "\"\"\"\n",
    "\n",
    "cursor.execute(query)\n",
    "pd.DataFrame(cursor.fetchall())"
   ]
  },
  {
   "cell_type": "code",
   "execution_count": null,
   "metadata": {
    "collapsed": true
   },
   "outputs": [],
   "source": [
    "get_table_info(cursor, 'session')"
   ]
  },
  {
   "cell_type": "code",
   "execution_count": null,
   "metadata": {
    "collapsed": true
   },
   "outputs": [],
   "source": [
    "check_col_hist(cursor, 'session', 'action')"
   ]
  },
  {
   "cell_type": "code",
   "execution_count": null,
   "metadata": {
    "collapsed": true
   },
   "outputs": [],
   "source": [
    "check_col_hist(cursor, 'session', 'action_type')"
   ]
  },
  {
   "cell_type": "code",
   "execution_count": null,
   "metadata": {
    "collapsed": true
   },
   "outputs": [],
   "source": [
    "check_col_hist(cursor, 'session', 'action_detail')"
   ]
  },
  {
   "cell_type": "code",
   "execution_count": null,
   "metadata": {
    "collapsed": true
   },
   "outputs": [],
   "source": [
    "check_col_hist(cursor, 'session', 'device_type')"
   ]
  },
  {
   "cell_type": "code",
   "execution_count": null,
   "metadata": {
    "collapsed": true
   },
   "outputs": [],
   "source": [
    "check_col_hist(cursor, 'session', 'secs_elapsed')"
   ]
  },
  {
   "cell_type": "code",
   "execution_count": null,
   "metadata": {
    "collapsed": true
   },
   "outputs": [],
   "source": [
    "query = \"\"\"\n",
    "SELECT count(*)\n",
    "FROM session;\n",
    "\"\"\"\n",
    "\n",
    "cursor.execute(query)\n",
    "cursor.fetchone()"
   ]
  },
  {
   "cell_type": "code",
   "execution_count": null,
   "metadata": {
    "collapsed": true
   },
   "outputs": [],
   "source": [
    "query = \"\"\"\n",
    "SELECT count(*)\n",
    "FROM trainuser;\n",
    "\"\"\"\n",
    "\n",
    "cursor.execute(query)\n",
    "cursor.fetchone()"
   ]
  },
  {
   "cell_type": "code",
   "execution_count": null,
   "metadata": {
    "collapsed": true
   },
   "outputs": [],
   "source": [
    "query = \"\"\"\n",
    "SELECT count(*)\n",
    "FROM session LEFT JOIN trainuser\n",
    "ON (session.user_id = trainuser.id)\n",
    "WHERE trainuser.splitseed <= 0.1\n",
    ";\n",
    "\"\"\"\n",
    "\n",
    "cursor.execute(query)\n",
    "cursor.fetchone()"
   ]
  },
  {
   "cell_type": "code",
   "execution_count": null,
   "metadata": {
    "collapsed": true
   },
   "outputs": [],
   "source": [
    "cursor.execute(\"rollback\")"
   ]
  },
  {
   "cell_type": "code",
   "execution_count": null,
   "metadata": {
    "collapsed": true
   },
   "outputs": [],
   "source": [
    "## Join two tables together\n",
    "\n",
    "query = \"\"\"\n",
    "CREATE VIEW session_booking AS\n",
    "SELECT session.*, trainuser.*\n",
    "FROM session LEFT JOIN trainuser \n",
    "ON (session.user_id = trainuser.id);\n",
    "\"\"\"\n",
    "\n",
    "cursor.execute(query)"
   ]
  },
  {
   "cell_type": "code",
   "execution_count": null,
   "metadata": {
    "collapsed": true
   },
   "outputs": [],
   "source": [
    "## Join two tables together\n",
    "\n",
    "query = \"\"\"\n",
    "SELECT *\n",
    "FROM session_booking\n",
    "WHERE splitseed <= 0.7;\n",
    "\"\"\"\n",
    "\n",
    "\n",
    "\n",
    "cursor.execute(query)\n",
    "data = cursor.fetchall()\n",
    "\n",
    "user_cols = [x[0] for x in get_table_info(cursor, 'trainuser')]\n",
    "session_cols = [x[0] for x in get_table_info(cursor, 'session')]\n",
    "\n",
    "train_session = pd.DataFrame(data, columns = user_cols+session_cols)\n"
   ]
  },
  {
   "cell_type": "code",
   "execution_count": null,
   "metadata": {
    "collapsed": true
   },
   "outputs": [],
   "source": [
    "query = \"\"\"\n",
    "SELECT *\n",
    "FROM session_booking_train\n",
    "LIMIT 5\n",
    "\"\"\"\n",
    "\n",
    "cursor.execute(query)\n",
    "pd.DataFrame(cursor.fetchall())"
   ]
  },
  {
   "cell_type": "markdown",
   "metadata": {},
   "source": [
    "## Try to export booking data into python to have a look"
   ]
  },
  {
   "cell_type": "code",
   "execution_count": null,
   "metadata": {
    "collapsed": true
   },
   "outputs": [],
   "source": [
    "query = \"\"\"\n",
    "SELECT *\n",
    "FROM trainuser\n",
    "WHERE splitseed <= 0.7;\n",
    "\"\"\"\n",
    "cursor.execute(query)\n",
    "train_data = cursor.fetchall()\n",
    "\n",
    "user_cols = [x[0] for x in get_table_info(cursor, 'trainuser')]\n",
    "\n",
    "train_user = pd.DataFrame(train_data, columns = user_cols)"
   ]
  },
  {
   "cell_type": "code",
   "execution_count": null,
   "metadata": {
    "collapsed": true
   },
   "outputs": [],
   "source": [
    "train_user.head()"
   ]
  },
  {
   "cell_type": "code",
   "execution_count": null,
   "metadata": {
    "collapsed": true
   },
   "outputs": [],
   "source": [
    "y_train = pd.DataFrame(train_user['country_destination'].values, columns=['country'], index=train_user['id'])\n",
    "X_train = train_user.drop(('country_destination'), axis=1)"
   ]
  },
  {
   "cell_type": "code",
   "execution_count": null,
   "metadata": {
    "collapsed": true
   },
   "outputs": [],
   "source": [
    "y_train.head()"
   ]
  },
  {
   "cell_type": "code",
   "execution_count": null,
   "metadata": {
    "collapsed": true
   },
   "outputs": [],
   "source": [
    "with open('./data/processed/X_train.pkl', 'wb') as picklefile:\n",
    "    pickle.dump(X_train, picklefile)"
   ]
  },
  {
   "cell_type": "code",
   "execution_count": null,
   "metadata": {
    "collapsed": true
   },
   "outputs": [],
   "source": [
    "with open('./data/processed/y_train.pkl', 'wb') as picklefile:\n",
    "    pickle.dump(y_train, picklefile)"
   ]
  },
  {
   "cell_type": "code",
   "execution_count": null,
   "metadata": {
    "collapsed": true
   },
   "outputs": [],
   "source": [
    "query = \"\"\"\n",
    "SELECT *\n",
    "FROM trainuser\n",
    "WHERE splitseed > 0.7;\n",
    "\"\"\"\n",
    "cursor.execute(query)\n",
    "test_data = cursor.fetchall()\n",
    "user_cols = [x[0] for x in get_table_info(cursor, 'trainuser')]\n",
    "test_user = pd.DataFrame(test_data, columns = user_cols)\n",
    "\n",
    "y_test = test_user['country_destination'][:,np.newaxis]\n",
    "X_test = test_user.drop(('country_destination'), axis=1)\n",
    "\n",
    "with open('./data/processed/X_test.pkl', 'wb') as picklefile:\n",
    "    pickle.dump(X_test, picklefile)\n",
    "    \n",
    "with open('./data/processed/y_test.pkl', 'wb') as picklefile:\n",
    "    pickle.dump(y_test, picklefile)"
   ]
  },
  {
   "cell_type": "markdown",
   "metadata": {},
   "source": [
    "### Deal with session data"
   ]
  },
  {
   "cell_type": "code",
   "execution_count": null,
   "metadata": {
    "collapsed": true
   },
   "outputs": [],
   "source": [
    "query = \"\"\"\n",
    "SELECT user_id, action, action_type, action_detail, device_type, secs_elapsed\n",
    "FROM session_booking\n",
    "WHERE splitseed <=0.7;\n",
    "\"\"\"\n",
    "\n",
    "cursor.execute(query)\n",
    "session_train = cursor.fetchall()"
   ]
  },
  {
   "cell_type": "code",
   "execution_count": null,
   "metadata": {
    "collapsed": true
   },
   "outputs": [],
   "source": [
    "session_cols = [x[0] for x in get_table_info(cursor, 'session')]\n",
    "\n",
    "session_train = pd.DataFrame(session_train, columns=session_cols)"
   ]
  },
  {
   "cell_type": "code",
   "execution_count": null,
   "metadata": {
    "collapsed": true
   },
   "outputs": [],
   "source": [
    "with open('./data/raw/session_train.pkl', 'wb') as picklefile:\n",
    "    pickle.dump(session_train, picklefile)"
   ]
  },
  {
   "cell_type": "code",
   "execution_count": null,
   "metadata": {
    "collapsed": true
   },
   "outputs": [],
   "source": [
    "query = \"\"\"\n",
    "SELECT user_id, action, action_type, action_detail, device_type, secs_elapsed\n",
    "FROM session_booking\n",
    "WHERE splitseed > 0.7;\n",
    "\"\"\"\n",
    "\n",
    "cursor.execute(query)\n",
    "session_test = cursor.fetchall()\n",
    "session_test = pd.DataFrame(session_test, columns=session_cols)\n",
    "\n",
    "with open('./data/raw/session_test.pkl', 'wb') as picklefile:\n",
    "    pickle.dump(session_test, picklefile)"
   ]
  },
  {
   "cell_type": "code",
   "execution_count": null,
   "metadata": {
    "collapsed": true
   },
   "outputs": [],
   "source": [
    "query = \"\"\"\n",
    "SELECT *\n",
    "FROM trainuser\n",
    "LIMIT 5\n",
    "\"\"\"\n",
    "\n",
    "cursor.execute(query)\n",
    "pd.DataFrame(cursor.fetchall())"
   ]
  },
  {
   "cell_type": "code",
   "execution_count": null,
   "metadata": {
    "collapsed": true
   },
   "outputs": [],
   "source": [
    "get_table_info(cursor, 'session')"
   ]
  },
  {
   "cell_type": "code",
   "execution_count": null,
   "metadata": {
    "collapsed": true
   },
   "outputs": [],
   "source": [
    "# Convert the timestamp into continous variable\n",
    "query = \"\"\"\n",
    "ALTER TABLE session ADD COLUMN session_under_2 INT\n",
    "\"\"\"\n",
    "cursor.execute(query)"
   ]
  },
  {
   "cell_type": "code",
   "execution_count": null,
   "metadata": {
    "collapsed": true
   },
   "outputs": [],
   "source": [
    "query = \"\"\"\n",
    "UPDATE session\n",
    "SET session_under_2 = \n",
    "CASE WHEN secs_elapsed <= 120 THEN 1\n",
    "ELSE 0 END;\n",
    "\"\"\"\n",
    "cursor.execute(query)"
   ]
  },
  {
   "cell_type": "code",
   "execution_count": null,
   "metadata": {
    "collapsed": true
   },
   "outputs": [],
   "source": [
    "# Convert the timestamp into continous variable\n",
    "query = \"\"\"\n",
    "ALTER TABLE session ADD COLUMN session_between_2_and_5 INT\n",
    "\"\"\"\n",
    "cursor.execute(query)"
   ]
  },
  {
   "cell_type": "code",
   "execution_count": null,
   "metadata": {
    "collapsed": true
   },
   "outputs": [],
   "source": [
    "query = \"\"\"\n",
    "UPDATE session\n",
    "SET session_between_2_and_5 = \n",
    "CASE WHEN (secs_elapsed >= 120 AND secs_elapsed <= 300) THEN 1\n",
    "ELSE 0 END;\n",
    "\"\"\"\n",
    "cursor.execute(query)"
   ]
  },
  {
   "cell_type": "code",
   "execution_count": null,
   "metadata": {
    "collapsed": true
   },
   "outputs": [],
   "source": [
    "query = \"\"\"\n",
    "SELECT secs_elapsed\n",
    "FROM session;\n",
    "\"\"\"\n",
    "\n",
    "cursor.execute(query)\n",
    "mins = cursor.fetchall()"
   ]
  }
 ],
 "metadata": {
  "kernelspec": {
   "display_name": "Python 3",
   "language": "python",
   "name": "python3"
  },
  "language_info": {
   "codemirror_mode": {
    "name": "ipython",
    "version": 3
   },
   "file_extension": ".py",
   "mimetype": "text/x-python",
   "name": "python",
   "nbconvert_exporter": "python",
   "pygments_lexer": "ipython3",
   "version": "3.5.4"
  }
 },
 "nbformat": 4,
 "nbformat_minor": 2
}
