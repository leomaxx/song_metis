{
 "cells": [
  {
   "cell_type": "code",
   "execution_count": 1,
   "metadata": {},
   "outputs": [
    {
     "name": "stdout",
     "output_type": "stream",
     "text": [
      "Checking whether there is an H2O instance running at http://localhost:54321. connected.\n"
     ]
    },
    {
     "data": {
      "text/html": [
       "<div style=\"overflow:auto\"><table style=\"width:50%\"><tr><td>H2O cluster uptime:</td>\n",
       "<td>12 mins 49 secs</td></tr>\n",
       "<tr><td>H2O cluster timezone:</td>\n",
       "<td>America/Los_Angeles</td></tr>\n",
       "<tr><td>H2O data parsing timezone:</td>\n",
       "<td>UTC</td></tr>\n",
       "<tr><td>H2O cluster version:</td>\n",
       "<td>3.20.0.3</td></tr>\n",
       "<tr><td>H2O cluster version age:</td>\n",
       "<td>19 days </td></tr>\n",
       "<tr><td>H2O cluster name:</td>\n",
       "<td>H2O_from_python_songlin_xr9ita</td></tr>\n",
       "<tr><td>H2O cluster total nodes:</td>\n",
       "<td>1</td></tr>\n",
       "<tr><td>H2O cluster free memory:</td>\n",
       "<td>2.658 Gb</td></tr>\n",
       "<tr><td>H2O cluster total cores:</td>\n",
       "<td>4</td></tr>\n",
       "<tr><td>H2O cluster allowed cores:</td>\n",
       "<td>4</td></tr>\n",
       "<tr><td>H2O cluster status:</td>\n",
       "<td>locked, healthy</td></tr>\n",
       "<tr><td>H2O connection url:</td>\n",
       "<td>http://localhost:54321</td></tr>\n",
       "<tr><td>H2O connection proxy:</td>\n",
       "<td>None</td></tr>\n",
       "<tr><td>H2O internal security:</td>\n",
       "<td>False</td></tr>\n",
       "<tr><td>H2O API Extensions:</td>\n",
       "<td>XGBoost, Algos, AutoML, Core V3, Core V4</td></tr>\n",
       "<tr><td>Python version:</td>\n",
       "<td>3.5.4 final</td></tr></table></div>"
      ],
      "text/plain": [
       "--------------------------  ----------------------------------------\n",
       "H2O cluster uptime:         12 mins 49 secs\n",
       "H2O cluster timezone:       America/Los_Angeles\n",
       "H2O data parsing timezone:  UTC\n",
       "H2O cluster version:        3.20.0.3\n",
       "H2O cluster version age:    19 days\n",
       "H2O cluster name:           H2O_from_python_songlin_xr9ita\n",
       "H2O cluster total nodes:    1\n",
       "H2O cluster free memory:    2.658 Gb\n",
       "H2O cluster total cores:    4\n",
       "H2O cluster allowed cores:  4\n",
       "H2O cluster status:         locked, healthy\n",
       "H2O connection url:         http://localhost:54321\n",
       "H2O connection proxy:\n",
       "H2O internal security:      False\n",
       "H2O API Extensions:         XGBoost, Algos, AutoML, Core V3, Core V4\n",
       "Python version:             3.5.4 final\n",
       "--------------------------  ----------------------------------------"
      ]
     },
     "metadata": {},
     "output_type": "display_data"
    },
    {
     "data": {
      "text/html": [
       "<div style=\"overflow:auto\"><table style=\"width:50%\"><tr><td>H2O cluster uptime:</td>\n",
       "<td>12 mins 49 secs</td></tr>\n",
       "<tr><td>H2O cluster timezone:</td>\n",
       "<td>America/Los_Angeles</td></tr>\n",
       "<tr><td>H2O data parsing timezone:</td>\n",
       "<td>UTC</td></tr>\n",
       "<tr><td>H2O cluster version:</td>\n",
       "<td>3.20.0.3</td></tr>\n",
       "<tr><td>H2O cluster version age:</td>\n",
       "<td>19 days </td></tr>\n",
       "<tr><td>H2O cluster name:</td>\n",
       "<td>H2O_from_python_songlin_xr9ita</td></tr>\n",
       "<tr><td>H2O cluster total nodes:</td>\n",
       "<td>1</td></tr>\n",
       "<tr><td>H2O cluster free memory:</td>\n",
       "<td>2.658 Gb</td></tr>\n",
       "<tr><td>H2O cluster total cores:</td>\n",
       "<td>4</td></tr>\n",
       "<tr><td>H2O cluster allowed cores:</td>\n",
       "<td>4</td></tr>\n",
       "<tr><td>H2O cluster status:</td>\n",
       "<td>locked, healthy</td></tr>\n",
       "<tr><td>H2O connection url:</td>\n",
       "<td>http://localhost:54321</td></tr>\n",
       "<tr><td>H2O connection proxy:</td>\n",
       "<td>None</td></tr>\n",
       "<tr><td>H2O internal security:</td>\n",
       "<td>False</td></tr>\n",
       "<tr><td>H2O API Extensions:</td>\n",
       "<td>XGBoost, Algos, AutoML, Core V3, Core V4</td></tr>\n",
       "<tr><td>Python version:</td>\n",
       "<td>3.5.4 final</td></tr></table></div>"
      ],
      "text/plain": [
       "--------------------------  ----------------------------------------\n",
       "H2O cluster uptime:         12 mins 49 secs\n",
       "H2O cluster timezone:       America/Los_Angeles\n",
       "H2O data parsing timezone:  UTC\n",
       "H2O cluster version:        3.20.0.3\n",
       "H2O cluster version age:    19 days\n",
       "H2O cluster name:           H2O_from_python_songlin_xr9ita\n",
       "H2O cluster total nodes:    1\n",
       "H2O cluster free memory:    2.658 Gb\n",
       "H2O cluster total cores:    4\n",
       "H2O cluster allowed cores:  4\n",
       "H2O cluster status:         locked, healthy\n",
       "H2O connection url:         http://localhost:54321\n",
       "H2O connection proxy:\n",
       "H2O internal security:      False\n",
       "H2O API Extensions:         XGBoost, Algos, AutoML, Core V3, Core V4\n",
       "Python version:             3.5.4 final\n",
       "--------------------------  ----------------------------------------"
      ]
     },
     "metadata": {},
     "output_type": "display_data"
    },
    {
     "name": "stdout",
     "output_type": "stream",
     "text": [
      "Parse progress: |█████████████████████████████████████████████████████████| 100%\n"
     ]
    }
   ],
   "source": [
    "import h2o\n",
    "from h2o.estimators.gbm import H2OGradientBoostingEstimator\n",
    "h2o.init()\n",
    "h2o.cluster().show_status()\n",
    "\n",
    "# import the cars dataset:\n",
    "# this dataset is used to classify whether or not a car is economical based on\n",
    "# the car's displacement, power, weight, and acceleration, and the year it was made\n",
    "cars = h2o.import_file(\"https://s3.amazonaws.com/h2o-public-test-data/smalldata/junit/cars_20mpg.csv\")\n"
   ]
  },
  {
   "cell_type": "code",
   "execution_count": 2,
   "metadata": {},
   "outputs": [
    {
     "data": {
      "text/plain": [
       "h2o.frame.H2OFrame"
      ]
     },
     "execution_count": 2,
     "metadata": {},
     "output_type": "execute_result"
    }
   ],
   "source": [
    "type(cars)"
   ]
  },
  {
   "cell_type": "code",
   "execution_count": 4,
   "metadata": {},
   "outputs": [
    {
     "data": {
      "text/html": [
       "<table>\n",
       "<thead>\n",
       "<tr><th>name                   </th><th style=\"text-align: right;\">  economy</th><th style=\"text-align: right;\">  cylinders</th><th style=\"text-align: right;\">  displacement</th><th style=\"text-align: right;\">  power</th><th style=\"text-align: right;\">  weight</th><th style=\"text-align: right;\">  acceleration</th><th style=\"text-align: right;\">  year</th><th style=\"text-align: right;\">  economy_20mpg</th></tr>\n",
       "</thead>\n",
       "<tbody>\n",
       "<tr><td>AMC Ambassador Brougham</td><td style=\"text-align: right;\">     13  </td><td style=\"text-align: right;\">          8</td><td style=\"text-align: right;\">           360</td><td style=\"text-align: right;\">    175</td><td style=\"text-align: right;\">    3821</td><td style=\"text-align: right;\">          11  </td><td style=\"text-align: right;\">    73</td><td style=\"text-align: right;\">              0</td></tr>\n",
       "<tr><td>AMC Ambassador DPL     </td><td style=\"text-align: right;\">     15  </td><td style=\"text-align: right;\">          8</td><td style=\"text-align: right;\">           390</td><td style=\"text-align: right;\">    190</td><td style=\"text-align: right;\">    3850</td><td style=\"text-align: right;\">           8.5</td><td style=\"text-align: right;\">    70</td><td style=\"text-align: right;\">              0</td></tr>\n",
       "<tr><td>AMC Ambassador SST     </td><td style=\"text-align: right;\">     17  </td><td style=\"text-align: right;\">          8</td><td style=\"text-align: right;\">           304</td><td style=\"text-align: right;\">    150</td><td style=\"text-align: right;\">    3672</td><td style=\"text-align: right;\">          11.5</td><td style=\"text-align: right;\">    72</td><td style=\"text-align: right;\">              0</td></tr>\n",
       "<tr><td>AMC Concord DL 6       </td><td style=\"text-align: right;\">     20.2</td><td style=\"text-align: right;\">          6</td><td style=\"text-align: right;\">           232</td><td style=\"text-align: right;\">     90</td><td style=\"text-align: right;\">    3265</td><td style=\"text-align: right;\">          18.2</td><td style=\"text-align: right;\">    79</td><td style=\"text-align: right;\">              1</td></tr>\n",
       "<tr><td>AMC Concord DL         </td><td style=\"text-align: right;\">     18.1</td><td style=\"text-align: right;\">          6</td><td style=\"text-align: right;\">           258</td><td style=\"text-align: right;\">    120</td><td style=\"text-align: right;\">    3410</td><td style=\"text-align: right;\">          15.1</td><td style=\"text-align: right;\">    78</td><td style=\"text-align: right;\">              0</td></tr>\n",
       "</tbody>\n",
       "</table>"
      ]
     },
     "metadata": {},
     "output_type": "display_data"
    },
    {
     "data": {
      "text/plain": []
     },
     "execution_count": 4,
     "metadata": {},
     "output_type": "execute_result"
    }
   ],
   "source": [
    "cars.head(5)"
   ]
  },
  {
   "cell_type": "code",
   "execution_count": null,
   "metadata": {},
   "outputs": [],
   "source": [
    "\n",
    "# convert response column to a factor\n",
    "cars[\"economy_20mpg\"] = cars[\"economy_20mpg\"].asfactor()\n",
    "\n",
    "# set the predictor names and the response column name\n",
    "predictors = [\"displacement\",\"power\",\"weight\",\"acceleration\",\"year\"]\n",
    "response = \"economy_20mpg\"\n",
    "\n",
    "# split into train and validation sets\n",
    "train, valid = cars.split_frame(ratios = [.8], seed = 1234)\n",
    "\n",
    "# try using the `y` parameter:\n",
    "# first initialize your estimator\n",
    "cars_gbm = H2OGradientBoostingEstimator(seed = 1234)\n",
    "\n",
    "# then train your model, where you specify your 'x' predictors, your 'y' the response column\n",
    "# training_frame and validation_frame\n",
    "cars_gbm.train(x = predictors, y = response, training_frame = train, validation_frame = valid)\n",
    "\n",
    "# print the auc for the validation data\n",
    "cars_gbm.auc(valid=True)"
   ]
  }
 ],
 "metadata": {
  "kernelspec": {
   "display_name": "Python 3",
   "language": "python",
   "name": "python3"
  },
  "language_info": {
   "codemirror_mode": {
    "name": "ipython",
    "version": 3
   },
   "file_extension": ".py",
   "mimetype": "text/x-python",
   "name": "python",
   "nbconvert_exporter": "python",
   "pygments_lexer": "ipython3",
   "version": "3.5.4"
  }
 },
 "nbformat": 4,
 "nbformat_minor": 2
}
