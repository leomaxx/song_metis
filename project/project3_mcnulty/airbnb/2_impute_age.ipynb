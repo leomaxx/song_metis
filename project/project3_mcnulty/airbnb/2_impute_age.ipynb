{
 "cells": [
  {
   "cell_type": "code",
   "execution_count": 254,
   "metadata": {},
   "outputs": [],
   "source": [
    "import pickle\n",
    "import h2o\n",
    "import numpy as np\n",
    "import pandas as pd\n",
    "import matplotlib.pyplot as plt\n",
    "import random\n",
    "\n",
    "from sklearn.cross_validation import train_test_split\n",
    "from sklearn.preprocessing import StandardScaler\n",
    "from sklearn.grid_search import GridSearchCV\n",
    "from sklearn.pipeline import Pipeline\n",
    "from sklearn.tree import DecisionTreeClassifier, export_graphviz\n",
    "from fancyimpute import MICE as MICE\n",
    "from copy import deepcopy\n",
    "from sklearn.ensemble import RandomForestRegressor\n",
    "from sklearn.metrics import accuracy_score\n",
    "\n",
    "from h2o.estimators.gbm import H2OGradientBoostingEstimator\n",
    "from h2o.estimators.random_forest import H2ORandomForestEstimator\n",
    "from h2o.grid.grid_search import H2OGridSearch\n",
    "\n",
    "from fancyimpute import MICE\n",
    "\n",
    "\n",
    "%matplotlib inline"
   ]
  },
  {
   "cell_type": "code",
   "execution_count": 125,
   "metadata": {},
   "outputs": [
    {
     "name": "stdout",
     "output_type": "stream",
     "text": [
      "Checking whether there is an H2O instance running at http://localhost:54321. connected.\n"
     ]
    },
    {
     "data": {
      "text/html": [
       "<div style=\"overflow:auto\"><table style=\"width:50%\"><tr><td>H2O cluster uptime:</td>\n",
       "<td>12 hours 5 mins</td></tr>\n",
       "<tr><td>H2O cluster timezone:</td>\n",
       "<td>America/Los_Angeles</td></tr>\n",
       "<tr><td>H2O data parsing timezone:</td>\n",
       "<td>UTC</td></tr>\n",
       "<tr><td>H2O cluster version:</td>\n",
       "<td>3.20.0.3</td></tr>\n",
       "<tr><td>H2O cluster version age:</td>\n",
       "<td>21 days, 17 hours and 22 minutes </td></tr>\n",
       "<tr><td>H2O cluster name:</td>\n",
       "<td>H2O_from_python_songlin_b3n9iz</td></tr>\n",
       "<tr><td>H2O cluster total nodes:</td>\n",
       "<td>1</td></tr>\n",
       "<tr><td>H2O cluster free memory:</td>\n",
       "<td>4.650 Gb</td></tr>\n",
       "<tr><td>H2O cluster total cores:</td>\n",
       "<td>4</td></tr>\n",
       "<tr><td>H2O cluster allowed cores:</td>\n",
       "<td>4</td></tr>\n",
       "<tr><td>H2O cluster status:</td>\n",
       "<td>locked, healthy</td></tr>\n",
       "<tr><td>H2O connection url:</td>\n",
       "<td>http://localhost:54321</td></tr>\n",
       "<tr><td>H2O connection proxy:</td>\n",
       "<td>None</td></tr>\n",
       "<tr><td>H2O internal security:</td>\n",
       "<td>False</td></tr>\n",
       "<tr><td>H2O API Extensions:</td>\n",
       "<td>XGBoost, Algos, AutoML, Core V3, Core V4</td></tr>\n",
       "<tr><td>Python version:</td>\n",
       "<td>3.5.4 final</td></tr></table></div>"
      ],
      "text/plain": [
       "--------------------------  ----------------------------------------\n",
       "H2O cluster uptime:         12 hours 5 mins\n",
       "H2O cluster timezone:       America/Los_Angeles\n",
       "H2O data parsing timezone:  UTC\n",
       "H2O cluster version:        3.20.0.3\n",
       "H2O cluster version age:    21 days, 17 hours and 22 minutes\n",
       "H2O cluster name:           H2O_from_python_songlin_b3n9iz\n",
       "H2O cluster total nodes:    1\n",
       "H2O cluster free memory:    4.650 Gb\n",
       "H2O cluster total cores:    4\n",
       "H2O cluster allowed cores:  4\n",
       "H2O cluster status:         locked, healthy\n",
       "H2O connection url:         http://localhost:54321\n",
       "H2O connection proxy:\n",
       "H2O internal security:      False\n",
       "H2O API Extensions:         XGBoost, Algos, AutoML, Core V3, Core V4\n",
       "Python version:             3.5.4 final\n",
       "--------------------------  ----------------------------------------"
      ]
     },
     "metadata": {},
     "output_type": "display_data"
    }
   ],
   "source": [
    "h2o.init(nthreads=-1, min_mem_size=\"2G\", max_mem_size = \"6G\")             #specify max number of bytes. uses all cores by default.\n",
    "h2o.remove_all()                          #clean slate, in case cluster was already running"
   ]
  },
  {
   "cell_type": "code",
   "execution_count": 126,
   "metadata": {},
   "outputs": [],
   "source": [
    "# This cell is just about making things look nice\n",
    "\n",
    "# Make plots bigger by default.\n",
    "# Has to occur after the %matplotlib inline in a different cell. Known issue\n",
    "plt.rc('figure', figsize=(16.0, 10.0))\n",
    "plt.rcParams.update({'font.size': 22})\n",
    "\n",
    "# Make numpy outputs easier to read\n",
    "np.set_printoptions(precision=3, formatter={'float': '{: 8.3f}'.format})"
   ]
  },
  {
   "cell_type": "markdown",
   "metadata": {},
   "source": [
    "## Import training data"
   ]
  },
  {
   "cell_type": "code",
   "execution_count": 350,
   "metadata": {},
   "outputs": [],
   "source": [
    "with open('./data/processed/X_train.pkl', 'rb') as picklefile:\n",
    "    X_train = pickle.load(picklefile)"
   ]
  },
  {
   "cell_type": "code",
   "execution_count": 128,
   "metadata": {},
   "outputs": [],
   "source": [
    "with open('./data/processed/y_train.pkl', 'rb') as picklefile:\n",
    "    y_train = pickle.load(picklefile)"
   ]
  },
  {
   "cell_type": "code",
   "execution_count": 129,
   "metadata": {},
   "outputs": [
    {
     "name": "stdout",
     "output_type": "stream",
     "text": [
      "<class 'pandas.core.frame.DataFrame'>\n",
      "RangeIndex: 14927 entries, 0 to 14926\n",
      "Data columns (total 16 columns):\n",
      "id                         14927 non-null object\n",
      "date_account_created       14927 non-null object\n",
      "timestamp_first_active     14927 non-null object\n",
      "date_first_booking         6259 non-null object\n",
      "gender                     14927 non-null object\n",
      "age                        8756 non-null float64\n",
      "signup_method              14927 non-null object\n",
      "signup_flow                14927 non-null int64\n",
      "language                   14927 non-null object\n",
      "affiliate_channel          14927 non-null object\n",
      "affiliate_provider         14927 non-null object\n",
      "first_affiliate_tracked    14500 non-null object\n",
      "signup_app                 14927 non-null object\n",
      "first_device_type          14927 non-null object\n",
      "first_browser              14927 non-null object\n",
      "splitseed                  14927 non-null float64\n",
      "dtypes: float64(2), int64(1), object(13)\n",
      "memory usage: 1.8+ MB\n"
     ]
    }
   ],
   "source": [
    "X_train.info()"
   ]
  },
  {
   "cell_type": "code",
   "execution_count": 130,
   "metadata": {},
   "outputs": [],
   "source": [
    "X_train.set_index('id', inplace=True)"
   ]
  },
  {
   "cell_type": "code",
   "execution_count": 133,
   "metadata": {},
   "outputs": [],
   "source": [
    "y_train = pd.DataFrame(y_train, columns=['country'], index=X_train.index)"
   ]
  },
  {
   "cell_type": "markdown",
   "metadata": {},
   "source": [
    "## Deal with wrong values and missing values"
   ]
  },
  {
   "cell_type": "code",
   "execution_count": 136,
   "metadata": {},
   "outputs": [
    {
     "name": "stdout",
     "output_type": "stream",
     "text": [
      "8585\n",
      "6342\n"
     ]
    }
   ],
   "source": [
    "# Impute wrong age values (<5 or >100) as avg age\n",
    "X_age_notnull = X_train[X_train['age'].notnull() & ((X_train['age'] > 10) & (X_train['age'] < 100))]\n",
    "print (X_age_notnull.shape[0])\n",
    "\n",
    "X_age_null = X_train[X_train['age'].isna() | (X_train['age'] <= 10) | (X_train['age'] >= 100)]\n",
    "print (X_age_null.shape[0])\n",
    "\n",
    "#mean_age = np.mean(X_age_notnull[(X_age_notnull['age']>5) & (X_age_notnull['age']<100)]['age'])\n",
    "# X_train.loc[(X_train['age']<5) | (X_train['age']>100), 'age'] = mean_age\n",
    "#X_age_notnull.loc[(X_age_notnull['age']<5) | (X_age_notnull['age']>100), 'age'] = mean_age"
   ]
  },
  {
   "cell_type": "code",
   "execution_count": 137,
   "metadata": {},
   "outputs": [
    {
     "name": "stderr",
     "output_type": "stream",
     "text": [
      "/Users/songlin/anaconda2/envs/Python35/lib/python3.5/site-packages/ipykernel_launcher.py:4: SettingWithCopyWarning: \n",
      "A value is trying to be set on a copy of a slice from a DataFrame\n",
      "\n",
      "See the caveats in the documentation: http://pandas.pydata.org/pandas-docs/stable/indexing.html#indexing-view-versus-copy\n",
      "  after removing the cwd from sys.path.\n"
     ]
    }
   ],
   "source": [
    "# Drop the irrelevant columns\n",
    "cols_to_drop = ['date_account_created', 'timestamp_first_active', 'date_first_booking', 'splitseed']\n",
    "X_train.drop(cols_to_drop, axis=1, inplace=True)\n",
    "X_age_notnull.drop(cols_to_drop, axis=1, inplace=True)"
   ]
  },
  {
   "cell_type": "markdown",
   "metadata": {},
   "source": [
    "## Predict missing age values"
   ]
  },
  {
   "cell_type": "code",
   "execution_count": 190,
   "metadata": {},
   "outputs": [],
   "source": [
    "y_age = (pd.DataFrame(X_age_notnull['age'], columns=['age']))\n",
    "X_age = deepcopy(X_age_notnull)\n",
    "X_age.drop('age', axis=1, inplace=True)"
   ]
  },
  {
   "cell_type": "code",
   "execution_count": 191,
   "metadata": {},
   "outputs": [],
   "source": [
    "df_age = pd.concat([X_age, y_age], axis=1)"
   ]
  },
  {
   "cell_type": "code",
   "execution_count": 192,
   "metadata": {},
   "outputs": [
    {
     "name": "stdout",
     "output_type": "stream",
     "text": [
      "Parse progress: |█████████████████████████████████████████████████████████| 100%\n"
     ]
    }
   ],
   "source": [
    "h2o_age = h2o.H2OFrame(df_age)"
   ]
  },
  {
   "cell_type": "markdown",
   "metadata": {},
   "source": [
    "**Apply h2o model**"
   ]
  },
  {
   "cell_type": "code",
   "execution_count": 193,
   "metadata": {},
   "outputs": [],
   "source": [
    "train, valid = h2o_age.split_frame([0.8], seed=1234)\n",
    "X = h2o_age.col_names[:-1]\n",
    "y = h2o_age.col_names[-1]"
   ]
  },
  {
   "cell_type": "code",
   "execution_count": 194,
   "metadata": {},
   "outputs": [],
   "source": [
    "rf_v1 = H2ORandomForestEstimator(\n",
    "    model_id=\"rf_age_v1\",\n",
    "    score_each_iteration=True,\n",
    "    seed=1000000)"
   ]
  },
  {
   "cell_type": "code",
   "execution_count": 195,
   "metadata": {},
   "outputs": [],
   "source": [
    "hyper_parameters = {'ntrees':[5, 10, 20, 30, 40, 50, 60, 70, 80, 90, 100], \n",
    "                    'max_depth':[5, 10, 20, 30, 40, 50, 60, 70, 80, 90, 100]}\n"
   ]
  },
  {
   "cell_type": "code",
   "execution_count": 196,
   "metadata": {},
   "outputs": [],
   "source": [
    "criteria = {\"strategy\": \"RandomDiscrete\", \n",
    "            \"stopping_rounds\": 10,\n",
    "            \"stopping_tolerance\": 0.00001,\n",
    "            \"stopping_metric\": \"MSE\"}"
   ]
  },
  {
   "cell_type": "code",
   "execution_count": 197,
   "metadata": {},
   "outputs": [],
   "source": [
    "grid_search = H2OGridSearch(model = rf_v1, \n",
    "                            hyper_params = hyper_parameters,\n",
    "                            search_criteria = criteria)"
   ]
  },
  {
   "cell_type": "code",
   "execution_count": 198,
   "metadata": {},
   "outputs": [
    {
     "name": "stdout",
     "output_type": "stream",
     "text": [
      "drf Grid Build progress: |████████████████████████████████████████████████| 100%\n"
     ]
    }
   ],
   "source": [
    "grid_search.train(X,\n",
    "                  y,\n",
    "                  training_frame = train,\n",
    "                  validation_frame = valid)"
   ]
  },
  {
   "cell_type": "code",
   "execution_count": 71,
   "metadata": {},
   "outputs": [
    {
     "name": "stdout",
     "output_type": "stream",
     "text": [
      "drf Model Build progress: |███████████████████████████████████████████████| 100%\n"
     ]
    }
   ],
   "source": [
    "# rf_v1.train(X, y, training_frame=train, validation_frame=valid)"
   ]
  },
  {
   "cell_type": "code",
   "execution_count": 204,
   "metadata": {},
   "outputs": [
    {
     "name": "stdout",
     "output_type": "stream",
     "text": [
      "Best mse........... 126.26994438104408\n",
      "Other mse........... 126.45057576506505\n"
     ]
    }
   ],
   "source": [
    "sorted_grid = grid_search.get_grid(sort_by='mse', decreasing=False)\n",
    "best_max_depth  = sorted_grid.sorted_metric_table()['max_depth'][0]\n",
    "best_ntrees     = sorted_grid.sorted_metric_table()['ntrees'][0]\n",
    "\n",
    "best_mse        = sorted_grid.sorted_metric_table()['mse'][0]\n",
    "print('Best mse...........', best_mse)\n",
    "\n",
    "other_mse        = sorted_grid.sorted_metric_table()['mse'][2]\n",
    "print('Other mse...........', other_mse)"
   ]
  },
  {
   "cell_type": "code",
   "execution_count": 205,
   "metadata": {},
   "outputs": [
    {
     "name": "stdout",
     "output_type": "stream",
     "text": [
      "100\n",
      "10\n"
     ]
    }
   ],
   "source": [
    "print (best_ntrees)\n",
    "print (best_max_depth)"
   ]
  },
  {
   "cell_type": "code",
   "execution_count": 206,
   "metadata": {},
   "outputs": [
    {
     "name": "stdout",
     "output_type": "stream",
     "text": [
      "drf Model Build progress: |███████████████████████████████████████████████| 100%\n"
     ]
    }
   ],
   "source": [
    "## Fit the best model on the whole training set!!\n",
    "\n",
    "best_rf = H2ORandomForestEstimator(\n",
    "    model_id = \"best_rf\",\n",
    "    ntrees = int(best_ntrees),\n",
    "    max_depth = int(best_max_depth),\n",
    "    stopping_rounds = 5,\n",
    "    score_each_iteration = True,\n",
    "    seed = 1000000)\n",
    "\n",
    "best_rf.train(X, y, training_frame=train, validation_frame=valid)"
   ]
  },
  {
   "cell_type": "code",
   "execution_count": 207,
   "metadata": {},
   "outputs": [
    {
     "name": "stdout",
     "output_type": "stream",
     "text": [
      "drf prediction progress: |████████████████████████████████████████████████| 100%\n"
     ]
    }
   ],
   "source": [
    "y_age_predict = best_rf.predict(valid)"
   ]
  },
  {
   "cell_type": "code",
   "execution_count": 208,
   "metadata": {},
   "outputs": [],
   "source": [
    "y_age_valid = valid[:,-1]"
   ]
  },
  {
   "cell_type": "code",
   "execution_count": 173,
   "metadata": {},
   "outputs": [
    {
     "name": "stdout",
     "output_type": "stream",
     "text": [
      "Model Details\n",
      "=============\n",
      "H2ORandomForestEstimator :  Distributed Random Forest\n",
      "Model Key:  best_rf\n",
      "\n",
      "\n",
      "ModelMetricsRegression: drf\n",
      "** Reported on train data. **\n",
      "\n",
      "MSE: 0.07903277793414012\n",
      "RMSE: 0.28112768973215735\n",
      "MAE: 0.2233326536581192\n",
      "RMSLE: 0.061098992926262474\n",
      "Mean Residual Deviance: 0.07903277793414012\n",
      "\n",
      "ModelMetricsRegression: drf\n",
      "** Reported on validation data. **\n",
      "\n",
      "MSE: 0.08293834137751381\n",
      "RMSE: 0.28799017583506875\n",
      "MAE: 0.2303275152437635\n",
      "RMSLE: 0.06287095431260663\n",
      "Mean Residual Deviance: 0.08293834137751381\n",
      "Scoring History: \n"
     ]
    },
    {
     "data": {
      "text/html": [
       "<div style=\"overflow:auto\"><table style=\"width:50%\"><tr><td><b></b></td>\n",
       "<td><b>timestamp</b></td>\n",
       "<td><b>duration</b></td>\n",
       "<td><b>number_of_trees</b></td>\n",
       "<td><b>training_rmse</b></td>\n",
       "<td><b>training_mae</b></td>\n",
       "<td><b>training_deviance</b></td>\n",
       "<td><b>validation_rmse</b></td>\n",
       "<td><b>validation_mae</b></td>\n",
       "<td><b>validation_deviance</b></td></tr>\n",
       "<tr><td></td>\n",
       "<td>2018-08-01 21:00:54</td>\n",
       "<td> 0.035 sec</td>\n",
       "<td>0.0</td>\n",
       "<td>nan</td>\n",
       "<td>nan</td>\n",
       "<td>nan</td>\n",
       "<td>nan</td>\n",
       "<td>nan</td>\n",
       "<td>nan</td></tr>\n",
       "<tr><td></td>\n",
       "<td>2018-08-01 21:00:54</td>\n",
       "<td> 0.079 sec</td>\n",
       "<td>1.0</td>\n",
       "<td>0.2942450</td>\n",
       "<td>0.2319714</td>\n",
       "<td>0.0865801</td>\n",
       "<td>0.3012892</td>\n",
       "<td>0.2391198</td>\n",
       "<td>0.0907752</td></tr>\n",
       "<tr><td></td>\n",
       "<td>2018-08-01 21:00:54</td>\n",
       "<td> 0.121 sec</td>\n",
       "<td>2.0</td>\n",
       "<td>0.2926760</td>\n",
       "<td>0.2307361</td>\n",
       "<td>0.0856592</td>\n",
       "<td>0.2930208</td>\n",
       "<td>0.2335911</td>\n",
       "<td>0.0858612</td></tr>\n",
       "<tr><td></td>\n",
       "<td>2018-08-01 21:00:54</td>\n",
       "<td> 0.166 sec</td>\n",
       "<td>3.0</td>\n",
       "<td>0.2917792</td>\n",
       "<td>0.2301876</td>\n",
       "<td>0.0851351</td>\n",
       "<td>0.2920070</td>\n",
       "<td>0.2331309</td>\n",
       "<td>0.0852681</td></tr>\n",
       "<tr><td></td>\n",
       "<td>2018-08-01 21:00:54</td>\n",
       "<td> 0.208 sec</td>\n",
       "<td>4.0</td>\n",
       "<td>0.2884073</td>\n",
       "<td>0.2278292</td>\n",
       "<td>0.0831788</td>\n",
       "<td>0.2919013</td>\n",
       "<td>0.2331808</td>\n",
       "<td>0.0852064</td></tr>\n",
       "<tr><td>---</td>\n",
       "<td>---</td>\n",
       "<td>---</td>\n",
       "<td>---</td>\n",
       "<td>---</td>\n",
       "<td>---</td>\n",
       "<td>---</td>\n",
       "<td>---</td>\n",
       "<td>---</td>\n",
       "<td>---</td></tr>\n",
       "<tr><td></td>\n",
       "<td>2018-08-01 21:00:55</td>\n",
       "<td> 0.966 sec</td>\n",
       "<td>22.0</td>\n",
       "<td>0.2812264</td>\n",
       "<td>0.2234099</td>\n",
       "<td>0.0790883</td>\n",
       "<td>0.2878967</td>\n",
       "<td>0.2303059</td>\n",
       "<td>0.0828845</td></tr>\n",
       "<tr><td></td>\n",
       "<td>2018-08-01 21:00:55</td>\n",
       "<td> 1.008 sec</td>\n",
       "<td>23.0</td>\n",
       "<td>0.2812872</td>\n",
       "<td>0.2234019</td>\n",
       "<td>0.0791225</td>\n",
       "<td>0.2880082</td>\n",
       "<td>0.2304365</td>\n",
       "<td>0.0829487</td></tr>\n",
       "<tr><td></td>\n",
       "<td>2018-08-01 21:00:55</td>\n",
       "<td> 1.040 sec</td>\n",
       "<td>24.0</td>\n",
       "<td>0.2811932</td>\n",
       "<td>0.2233041</td>\n",
       "<td>0.0790696</td>\n",
       "<td>0.2879436</td>\n",
       "<td>0.2303300</td>\n",
       "<td>0.0829115</td></tr>\n",
       "<tr><td></td>\n",
       "<td>2018-08-01 21:00:55</td>\n",
       "<td> 1.067 sec</td>\n",
       "<td>25.0</td>\n",
       "<td>0.2811128</td>\n",
       "<td>0.2232508</td>\n",
       "<td>0.0790244</td>\n",
       "<td>0.2879624</td>\n",
       "<td>0.2303157</td>\n",
       "<td>0.0829224</td></tr>\n",
       "<tr><td></td>\n",
       "<td>2018-08-01 21:00:55</td>\n",
       "<td> 1.094 sec</td>\n",
       "<td>26.0</td>\n",
       "<td>0.2811277</td>\n",
       "<td>0.2233327</td>\n",
       "<td>0.0790328</td>\n",
       "<td>0.2879902</td>\n",
       "<td>0.2303275</td>\n",
       "<td>0.0829383</td></tr></table></div>"
      ],
      "text/plain": [
       "     timestamp            duration    number_of_trees    training_rmse        training_mae         training_deviance    validation_rmse      validation_mae       validation_deviance\n",
       "---  -------------------  ----------  -----------------  -------------------  -------------------  -------------------  -------------------  -------------------  ---------------------\n",
       "     2018-08-01 21:00:54  0.035 sec   0.0                nan                  nan                  nan                  nan                  nan                  nan\n",
       "     2018-08-01 21:00:54  0.079 sec   1.0                0.29424500524299274  0.23197136186833223  0.08658012311044883  0.301289185633931    0.2391197799720922   0.09077517337995732\n",
       "     2018-08-01 21:00:54  0.121 sec   2.0                0.2926760108242796   0.23073608286773103  0.08565924731201383  0.2930207656089232   0.23359108633074052  0.0858611690780395\n",
       "     2018-08-01 21:00:54  0.166 sec   3.0                0.29177917840286216  0.23018756603474402  0.08513508894944927  0.2920069553625125   0.23313092307608832  0.08526806198008435\n",
       "     2018-08-01 21:00:54  0.208 sec   4.0                0.28840727664284543  0.22782923858321164  0.08317875722054278  0.29190130565513894  0.23318080157833695  0.08520637224317486\n",
       "---  ---                  ---         ---                ---                  ---                  ---                  ---                  ---                  ---\n",
       "     2018-08-01 21:00:55  0.966 sec   22.0               0.2812264323906014   0.22340993605644313  0.07908830627514551  0.28789672376101283  0.23030594131625623  0.08288452355232492\n",
       "     2018-08-01 21:00:55  1.008 sec   23.0               0.2812871547690795   0.22340189834249313  0.07912246343808409  0.2880081517452663   0.23043646229296483  0.08294869547172434\n",
       "     2018-08-01 21:00:55  1.040 sec   24.0               0.2811931790089148   0.22330411786000431  0.07906960392113958  0.2879435820827709   0.230329952088133    0.08291150646265741\n",
       "     2018-08-01 21:00:55  1.067 sec   25.0               0.2811127666834394   0.22325082174428712  0.07902438759241782  0.2879624378115032   0.23031568347527573  0.08292236559034384\n",
       "     2018-08-01 21:00:55  1.094 sec   26.0               0.28112768973215735  0.2233326536581192   0.07903277793414012  0.28799017583506875  0.2303275152437635   0.08293834137751381"
      ]
     },
     "metadata": {},
     "output_type": "display_data"
    },
    {
     "name": "stdout",
     "output_type": "stream",
     "text": [
      "\n",
      "See the whole table with table.as_data_frame()\n",
      "Variable Importances: \n"
     ]
    },
    {
     "data": {
      "text/html": [
       "<div style=\"overflow:auto\"><table style=\"width:50%\"><tr><td><b>variable</b></td>\n",
       "<td><b>relative_importance</b></td>\n",
       "<td><b>scaled_importance</b></td>\n",
       "<td><b>percentage</b></td></tr>\n",
       "<tr><td>first_browser</td>\n",
       "<td>476.6505432</td>\n",
       "<td>1.0</td>\n",
       "<td>0.2675826</td></tr>\n",
       "<tr><td>affiliate_provider</td>\n",
       "<td>250.0258636</td>\n",
       "<td>0.5245475</td>\n",
       "<td>0.1403598</td></tr>\n",
       "<tr><td>affiliate_channel</td>\n",
       "<td>225.3243713</td>\n",
       "<td>0.4727245</td>\n",
       "<td>0.1264928</td></tr>\n",
       "<tr><td>language</td>\n",
       "<td>181.1167297</td>\n",
       "<td>0.3799780</td>\n",
       "<td>0.1016755</td></tr>\n",
       "<tr><td>first_affiliate_tracked</td>\n",
       "<td>160.5339966</td>\n",
       "<td>0.3367960</td>\n",
       "<td>0.0901207</td></tr>\n",
       "<tr><td>first_device_type</td>\n",
       "<td>146.2531586</td>\n",
       "<td>0.3068352</td>\n",
       "<td>0.0821038</td></tr>\n",
       "<tr><td>gender</td>\n",
       "<td>115.1257935</td>\n",
       "<td>0.2415308</td>\n",
       "<td>0.0646294</td></tr>\n",
       "<tr><td>signup_flow</td>\n",
       "<td>97.5757065</td>\n",
       "<td>0.2047112</td>\n",
       "<td>0.0547772</td></tr>\n",
       "<tr><td>signup_method</td>\n",
       "<td>67.9700317</td>\n",
       "<td>0.1425993</td>\n",
       "<td>0.0381571</td></tr>\n",
       "<tr><td>signup_app</td>\n",
       "<td>60.7450333</td>\n",
       "<td>0.1274414</td>\n",
       "<td>0.0341011</td></tr></table></div>"
      ],
      "text/plain": [
       "variable                 relative_importance    scaled_importance    percentage\n",
       "-----------------------  ---------------------  -------------------  ------------\n",
       "first_browser            476.651                1                    0.267583\n",
       "affiliate_provider       250.026                0.524548             0.14036\n",
       "affiliate_channel        225.324                0.472724             0.126493\n",
       "language                 181.117                0.379978             0.101676\n",
       "first_affiliate_tracked  160.534                0.336796             0.0901207\n",
       "first_device_type        146.253                0.306835             0.0821038\n",
       "gender                   115.126                0.241531             0.0646294\n",
       "signup_flow              97.5757                0.204711             0.0547772\n",
       "signup_method            67.97                  0.142599             0.0381571\n",
       "signup_app               60.745                 0.127441             0.0341011"
      ]
     },
     "metadata": {},
     "output_type": "display_data"
    },
    {
     "data": {
      "text/plain": [
       "<bound method ModelBase.cross_validation_metrics_summary of >"
      ]
     },
     "execution_count": 173,
     "metadata": {},
     "output_type": "execute_result"
    }
   ],
   "source": [
    "best_rf.cross_validation_metrics_summary"
   ]
  },
  {
   "cell_type": "code",
   "execution_count": 209,
   "metadata": {},
   "outputs": [
    {
     "name": "stdout",
     "output_type": "stream",
     "text": [
      "RMSE of age imputation via h2o model is [  11.254]\n"
     ]
    }
   ],
   "source": [
    "print ('RMSE of age imputation via h2o model is {}'.format(np.sqrt(((y_age_predict - y_age_valid)**2).mean())))"
   ]
  },
  {
   "cell_type": "code",
   "execution_count": 187,
   "metadata": {},
   "outputs": [],
   "source": [
    "df_y_pred = np.exp(y_age_predict.as_data_frame())\n",
    "df_y_actual = np.exp(y_age_valid.as_data_frame())"
   ]
  },
  {
   "cell_type": "code",
   "execution_count": 210,
   "metadata": {},
   "outputs": [],
   "source": [
    "df_y_pred = (y_age_predict.as_data_frame())\n",
    "df_y_actual = (y_age_valid.as_data_frame())"
   ]
  },
  {
   "cell_type": "code",
   "execution_count": 201,
   "metadata": {},
   "outputs": [
    {
     "data": {
      "text/plain": [
       "array([[  39.959],\n",
       "       [  35.535],\n",
       "       [  32.453],\n",
       "       ...,\n",
       "       [  38.287],\n",
       "       [  31.299],\n",
       "       [  35.535]])"
      ]
     },
     "execution_count": 201,
     "metadata": {},
     "output_type": "execute_result"
    }
   ],
   "source": [
    "df_y_pred.values"
   ]
  },
  {
   "cell_type": "code",
   "execution_count": 202,
   "metadata": {},
   "outputs": [
    {
     "data": {
      "text/plain": [
       "11.310991420736338"
      ]
     },
     "execution_count": 202,
     "metadata": {},
     "output_type": "execute_result"
    }
   ],
   "source": [
    "np.sqrt(np.mean((df_y_pred.values - df_y_actual.values)**2))"
   ]
  },
  {
   "cell_type": "code",
   "execution_count": 211,
   "metadata": {},
   "outputs": [
    {
     "data": {
      "text/plain": [
       "Text(0,0.5,'Predicted age')"
      ]
     },
     "execution_count": 211,
     "metadata": {},
     "output_type": "execute_result"
    },
    {
     "data": {
      "image/png": "[encoded data removed]",
      "text/plain": [
       "<matplotlib.figure.Figure at 0x1470c3358>"
      ]
     },
     "metadata": {},
     "output_type": "display_data"
    }
   ],
   "source": [
    "plt.plot(df_y_actual, df_y_pred, 'go')\n",
    "plt.xlabel('Actual age')\n",
    "plt.ylabel('Predicted age')"
   ]
  },
  {
   "cell_type": "markdown",
   "metadata": {},
   "source": [
    "## Predict with random Forest"
   ]
  },
  {
   "cell_type": "code",
   "execution_count": 212,
   "metadata": {},
   "outputs": [],
   "source": [
    "y_age = pd.DataFrame(X_age_notnull['age'], columns=['age'])\n",
    "X_age = deepcopy(X_age_notnull)\n",
    "X_age.drop('age', axis=1, inplace=True)"
   ]
  },
  {
   "cell_type": "code",
   "execution_count": 213,
   "metadata": {},
   "outputs": [],
   "source": [
    "X_age_train, X_age_test, y_age_train, y_age_test = train_test_split(X_age, y_age, train_size=0.25)"
   ]
  },
  {
   "cell_type": "code",
   "execution_count": 220,
   "metadata": {},
   "outputs": [],
   "source": [
    "def custom_dummify(df, threshold, train_cols=None):\n",
    "    df_concat = pd.DataFrame()\n",
    "    df_noncat = df.select_dtypes(exclude='object')\n",
    "    # print(df_noncat.shape)\n",
    "    df = df.select_dtypes(include='object')\n",
    "    \n",
    "    all_cols = []\n",
    "        \n",
    "    for column in range(len(df.columns)):\n",
    "        col_name = df.columns[column]\n",
    "        levels = df.iloc[:,column].value_counts()\n",
    "        count_all = np.sum(levels)\n",
    "        significant_cols = []\n",
    "        for level_values in levels.index:\n",
    "            if (levels[level_values]/count_all < threshold):\n",
    "                pass\n",
    "            else:\n",
    "                significant_cols.append(level_values)\n",
    "        df_dummy = pd.get_dummies(df[col_name], prefix=col_name)\n",
    "\n",
    "        cols_to_keep = [(col_name+\"_\"+x) for x in significant_cols]\n",
    "        if (train_cols != None):\n",
    "            for x in cols_to_keep:\n",
    "                if x not in train_cols:\n",
    "                    cols_to_keep.remove(x)\n",
    "        all_cols.extend(cols_to_keep)\n",
    "        df_dummy_kept = pd.DataFrame(df_dummy[cols_to_keep], columns=cols_to_keep)\n",
    "        df_dummy_agg = df_dummy.drop((cols_to_keep), axis=1)\n",
    "        df_dummy_agg = pd.DataFrame(df_dummy_agg.sum(axis=1), columns=[col_name+'_catch_all'])\n",
    "        df_unify = pd.concat([df_dummy_kept, df_dummy_agg], axis=1)\n",
    "        df_concat = pd.concat([df_concat, df_unify], axis=1)\n",
    "    # print(df_concat.shape)\n",
    "    return pd.concat([df_noncat, df_concat], axis=1 ), all_cols"
   ]
  },
  {
   "cell_type": "code",
   "execution_count": 221,
   "metadata": {},
   "outputs": [],
   "source": [
    "X_age_train_dummy, train_cols = custom_dummify(X_age_train, 0.01)"
   ]
  },
  {
   "cell_type": "code",
   "execution_count": 216,
   "metadata": {},
   "outputs": [
    {
     "name": "stderr",
     "output_type": "stream",
     "text": [
      "/Users/songlin/anaconda2/envs/Python35/lib/python3.5/site-packages/sklearn/cross_validation.py:1675: DataConversionWarning: A column-vector y was passed when a 1d array was expected. Please change the shape of y to (n_samples,), for example using ravel().\n",
      "  estimator.fit(X_train, y_train, **fit_params)\n",
      "/Users/songlin/anaconda2/envs/Python35/lib/python3.5/site-packages/sklearn/cross_validation.py:1675: DataConversionWarning: A column-vector y was passed when a 1d array was expected. Please change the shape of y to (n_samples,), for example using ravel().\n",
      "  estimator.fit(X_train, y_train, **fit_params)\n",
      "/Users/songlin/anaconda2/envs/Python35/lib/python3.5/site-packages/sklearn/cross_validation.py:1675: DataConversionWarning: A column-vector y was passed when a 1d array was expected. Please change the shape of y to (n_samples,), for example using ravel().\n",
      "  estimator.fit(X_train, y_train, **fit_params)\n",
      "/Users/songlin/anaconda2/envs/Python35/lib/python3.5/site-packages/sklearn/cross_validation.py:1675: DataConversionWarning: A column-vector y was passed when a 1d array was expected. Please change the shape of y to (n_samples,), for example using ravel().\n",
      "  estimator.fit(X_train, y_train, **fit_params)\n",
      "/Users/songlin/anaconda2/envs/Python35/lib/python3.5/site-packages/sklearn/cross_validation.py:1675: DataConversionWarning: A column-vector y was passed when a 1d array was expected. Please change the shape of y to (n_samples,), for example using ravel().\n",
      "  estimator.fit(X_train, y_train, **fit_params)\n",
      "/Users/songlin/anaconda2/envs/Python35/lib/python3.5/site-packages/sklearn/cross_validation.py:1675: DataConversionWarning: A column-vector y was passed when a 1d array was expected. Please change the shape of y to (n_samples,), for example using ravel().\n",
      "  estimator.fit(X_train, y_train, **fit_params)\n",
      "/Users/songlin/anaconda2/envs/Python35/lib/python3.5/site-packages/sklearn/cross_validation.py:1675: DataConversionWarning: A column-vector y was passed when a 1d array was expected. Please change the shape of y to (n_samples,), for example using ravel().\n",
      "  estimator.fit(X_train, y_train, **fit_params)\n",
      "/Users/songlin/anaconda2/envs/Python35/lib/python3.5/site-packages/sklearn/cross_validation.py:1675: DataConversionWarning: A column-vector y was passed when a 1d array was expected. Please change the shape of y to (n_samples,), for example using ravel().\n",
      "  estimator.fit(X_train, y_train, **fit_params)\n",
      "/Users/songlin/anaconda2/envs/Python35/lib/python3.5/site-packages/sklearn/cross_validation.py:1675: DataConversionWarning: A column-vector y was passed when a 1d array was expected. Please change the shape of y to (n_samples,), for example using ravel().\n",
      "  estimator.fit(X_train, y_train, **fit_params)\n",
      "/Users/songlin/anaconda2/envs/Python35/lib/python3.5/site-packages/sklearn/cross_validation.py:1675: DataConversionWarning: A column-vector y was passed when a 1d array was expected. Please change the shape of y to (n_samples,), for example using ravel().\n",
      "  estimator.fit(X_train, y_train, **fit_params)\n",
      "/Users/songlin/anaconda2/envs/Python35/lib/python3.5/site-packages/sklearn/cross_validation.py:1675: DataConversionWarning: A column-vector y was passed when a 1d array was expected. Please change the shape of y to (n_samples,), for example using ravel().\n",
      "  estimator.fit(X_train, y_train, **fit_params)\n",
      "/Users/songlin/anaconda2/envs/Python35/lib/python3.5/site-packages/sklearn/cross_validation.py:1675: DataConversionWarning: A column-vector y was passed when a 1d array was expected. Please change the shape of y to (n_samples,), for example using ravel().\n",
      "  estimator.fit(X_train, y_train, **fit_params)\n",
      "/Users/songlin/anaconda2/envs/Python35/lib/python3.5/site-packages/sklearn/cross_validation.py:1675: DataConversionWarning: A column-vector y was passed when a 1d array was expected. Please change the shape of y to (n_samples,), for example using ravel().\n",
      "  estimator.fit(X_train, y_train, **fit_params)\n",
      "/Users/songlin/anaconda2/envs/Python35/lib/python3.5/site-packages/sklearn/cross_validation.py:1675: DataConversionWarning: A column-vector y was passed when a 1d array was expected. Please change the shape of y to (n_samples,), for example using ravel().\n",
      "  estimator.fit(X_train, y_train, **fit_params)\n",
      "/Users/songlin/anaconda2/envs/Python35/lib/python3.5/site-packages/sklearn/cross_validation.py:1675: DataConversionWarning: A column-vector y was passed when a 1d array was expected. Please change the shape of y to (n_samples,), for example using ravel().\n",
      "  estimator.fit(X_train, y_train, **fit_params)\n",
      "/Users/songlin/anaconda2/envs/Python35/lib/python3.5/site-packages/sklearn/cross_validation.py:1675: DataConversionWarning: A column-vector y was passed when a 1d array was expected. Please change the shape of y to (n_samples,), for example using ravel().\n",
      "  estimator.fit(X_train, y_train, **fit_params)\n",
      "/Users/songlin/anaconda2/envs/Python35/lib/python3.5/site-packages/sklearn/cross_validation.py:1675: DataConversionWarning: A column-vector y was passed when a 1d array was expected. Please change the shape of y to (n_samples,), for example using ravel().\n",
      "  estimator.fit(X_train, y_train, **fit_params)\n",
      "/Users/songlin/anaconda2/envs/Python35/lib/python3.5/site-packages/sklearn/cross_validation.py:1675: DataConversionWarning: A column-vector y was passed when a 1d array was expected. Please change the shape of y to (n_samples,), for example using ravel().\n",
      "  estimator.fit(X_train, y_train, **fit_params)\n",
      "/Users/songlin/anaconda2/envs/Python35/lib/python3.5/site-packages/sklearn/cross_validation.py:1675: DataConversionWarning: A column-vector y was passed when a 1d array was expected. Please change the shape of y to (n_samples,), for example using ravel().\n",
      "  estimator.fit(X_train, y_train, **fit_params)\n",
      "/Users/songlin/anaconda2/envs/Python35/lib/python3.5/site-packages/sklearn/cross_validation.py:1675: DataConversionWarning: A column-vector y was passed when a 1d array was expected. Please change the shape of y to (n_samples,), for example using ravel().\n",
      "  estimator.fit(X_train, y_train, **fit_params)\n",
      "/Users/songlin/anaconda2/envs/Python35/lib/python3.5/site-packages/sklearn/cross_validation.py:1675: DataConversionWarning: A column-vector y was passed when a 1d array was expected. Please change the shape of y to (n_samples,), for example using ravel().\n",
      "  estimator.fit(X_train, y_train, **fit_params)\n",
      "/Users/songlin/anaconda2/envs/Python35/lib/python3.5/site-packages/sklearn/cross_validation.py:1675: DataConversionWarning: A column-vector y was passed when a 1d array was expected. Please change the shape of y to (n_samples,), for example using ravel().\n",
      "  estimator.fit(X_train, y_train, **fit_params)\n",
      "/Users/songlin/anaconda2/envs/Python35/lib/python3.5/site-packages/sklearn/cross_validation.py:1675: DataConversionWarning: A column-vector y was passed when a 1d array was expected. Please change the shape of y to (n_samples,), for example using ravel().\n",
      "  estimator.fit(X_train, y_train, **fit_params)\n",
      "/Users/songlin/anaconda2/envs/Python35/lib/python3.5/site-packages/sklearn/cross_validation.py:1675: DataConversionWarning: A column-vector y was passed when a 1d array was expected. Please change the shape of y to (n_samples,), for example using ravel().\n",
      "  estimator.fit(X_train, y_train, **fit_params)\n",
      "/Users/songlin/anaconda2/envs/Python35/lib/python3.5/site-packages/sklearn/cross_validation.py:1675: DataConversionWarning: A column-vector y was passed when a 1d array was expected. Please change the shape of y to (n_samples,), for example using ravel().\n",
      "  estimator.fit(X_train, y_train, **fit_params)\n",
      "/Users/songlin/anaconda2/envs/Python35/lib/python3.5/site-packages/sklearn/cross_validation.py:1675: DataConversionWarning: A column-vector y was passed when a 1d array was expected. Please change the shape of y to (n_samples,), for example using ravel().\n",
      "  estimator.fit(X_train, y_train, **fit_params)\n",
      "/Users/songlin/anaconda2/envs/Python35/lib/python3.5/site-packages/sklearn/cross_validation.py:1675: DataConversionWarning: A column-vector y was passed when a 1d array was expected. Please change the shape of y to (n_samples,), for example using ravel().\n",
      "  estimator.fit(X_train, y_train, **fit_params)\n"
     ]
    },
    {
     "name": "stderr",
     "output_type": "stream",
     "text": [
      "/Users/songlin/anaconda2/envs/Python35/lib/python3.5/site-packages/sklearn/cross_validation.py:1675: DataConversionWarning: A column-vector y was passed when a 1d array was expected. Please change the shape of y to (n_samples,), for example using ravel().\n",
      "  estimator.fit(X_train, y_train, **fit_params)\n",
      "/Users/songlin/anaconda2/envs/Python35/lib/python3.5/site-packages/sklearn/cross_validation.py:1675: DataConversionWarning: A column-vector y was passed when a 1d array was expected. Please change the shape of y to (n_samples,), for example using ravel().\n",
      "  estimator.fit(X_train, y_train, **fit_params)\n",
      "/Users/songlin/anaconda2/envs/Python35/lib/python3.5/site-packages/sklearn/cross_validation.py:1675: DataConversionWarning: A column-vector y was passed when a 1d array was expected. Please change the shape of y to (n_samples,), for example using ravel().\n",
      "  estimator.fit(X_train, y_train, **fit_params)\n",
      "/Users/songlin/anaconda2/envs/Python35/lib/python3.5/site-packages/sklearn/cross_validation.py:1675: DataConversionWarning: A column-vector y was passed when a 1d array was expected. Please change the shape of y to (n_samples,), for example using ravel().\n",
      "  estimator.fit(X_train, y_train, **fit_params)\n",
      "/Users/songlin/anaconda2/envs/Python35/lib/python3.5/site-packages/sklearn/cross_validation.py:1675: DataConversionWarning: A column-vector y was passed when a 1d array was expected. Please change the shape of y to (n_samples,), for example using ravel().\n",
      "  estimator.fit(X_train, y_train, **fit_params)\n",
      "/Users/songlin/anaconda2/envs/Python35/lib/python3.5/site-packages/sklearn/cross_validation.py:1675: DataConversionWarning: A column-vector y was passed when a 1d array was expected. Please change the shape of y to (n_samples,), for example using ravel().\n",
      "  estimator.fit(X_train, y_train, **fit_params)\n",
      "/Users/songlin/anaconda2/envs/Python35/lib/python3.5/site-packages/sklearn/cross_validation.py:1675: DataConversionWarning: A column-vector y was passed when a 1d array was expected. Please change the shape of y to (n_samples,), for example using ravel().\n",
      "  estimator.fit(X_train, y_train, **fit_params)\n",
      "/Users/songlin/anaconda2/envs/Python35/lib/python3.5/site-packages/sklearn/cross_validation.py:1675: DataConversionWarning: A column-vector y was passed when a 1d array was expected. Please change the shape of y to (n_samples,), for example using ravel().\n",
      "  estimator.fit(X_train, y_train, **fit_params)\n",
      "/Users/songlin/anaconda2/envs/Python35/lib/python3.5/site-packages/sklearn/cross_validation.py:1675: DataConversionWarning: A column-vector y was passed when a 1d array was expected. Please change the shape of y to (n_samples,), for example using ravel().\n",
      "  estimator.fit(X_train, y_train, **fit_params)\n",
      "/Users/songlin/anaconda2/envs/Python35/lib/python3.5/site-packages/sklearn/cross_validation.py:1675: DataConversionWarning: A column-vector y was passed when a 1d array was expected. Please change the shape of y to (n_samples,), for example using ravel().\n",
      "  estimator.fit(X_train, y_train, **fit_params)\n",
      "/Users/songlin/anaconda2/envs/Python35/lib/python3.5/site-packages/sklearn/cross_validation.py:1675: DataConversionWarning: A column-vector y was passed when a 1d array was expected. Please change the shape of y to (n_samples,), for example using ravel().\n",
      "  estimator.fit(X_train, y_train, **fit_params)\n",
      "/Users/songlin/anaconda2/envs/Python35/lib/python3.5/site-packages/sklearn/cross_validation.py:1675: DataConversionWarning: A column-vector y was passed when a 1d array was expected. Please change the shape of y to (n_samples,), for example using ravel().\n",
      "  estimator.fit(X_train, y_train, **fit_params)\n",
      "/Users/songlin/anaconda2/envs/Python35/lib/python3.5/site-packages/sklearn/cross_validation.py:1675: DataConversionWarning: A column-vector y was passed when a 1d array was expected. Please change the shape of y to (n_samples,), for example using ravel().\n",
      "  estimator.fit(X_train, y_train, **fit_params)\n",
      "/Users/songlin/anaconda2/envs/Python35/lib/python3.5/site-packages/sklearn/cross_validation.py:1675: DataConversionWarning: A column-vector y was passed when a 1d array was expected. Please change the shape of y to (n_samples,), for example using ravel().\n",
      "  estimator.fit(X_train, y_train, **fit_params)\n",
      "/Users/songlin/anaconda2/envs/Python35/lib/python3.5/site-packages/sklearn/cross_validation.py:1675: DataConversionWarning: A column-vector y was passed when a 1d array was expected. Please change the shape of y to (n_samples,), for example using ravel().\n",
      "  estimator.fit(X_train, y_train, **fit_params)\n",
      "/Users/songlin/anaconda2/envs/Python35/lib/python3.5/site-packages/sklearn/cross_validation.py:1675: DataConversionWarning: A column-vector y was passed when a 1d array was expected. Please change the shape of y to (n_samples,), for example using ravel().\n",
      "  estimator.fit(X_train, y_train, **fit_params)\n",
      "/Users/songlin/anaconda2/envs/Python35/lib/python3.5/site-packages/sklearn/cross_validation.py:1675: DataConversionWarning: A column-vector y was passed when a 1d array was expected. Please change the shape of y to (n_samples,), for example using ravel().\n",
      "  estimator.fit(X_train, y_train, **fit_params)\n",
      "/Users/songlin/anaconda2/envs/Python35/lib/python3.5/site-packages/sklearn/cross_validation.py:1675: DataConversionWarning: A column-vector y was passed when a 1d array was expected. Please change the shape of y to (n_samples,), for example using ravel().\n",
      "  estimator.fit(X_train, y_train, **fit_params)\n",
      "/Users/songlin/anaconda2/envs/Python35/lib/python3.5/site-packages/sklearn/cross_validation.py:1675: DataConversionWarning: A column-vector y was passed when a 1d array was expected. Please change the shape of y to (n_samples,), for example using ravel().\n",
      "  estimator.fit(X_train, y_train, **fit_params)\n",
      "/Users/songlin/anaconda2/envs/Python35/lib/python3.5/site-packages/sklearn/cross_validation.py:1675: DataConversionWarning: A column-vector y was passed when a 1d array was expected. Please change the shape of y to (n_samples,), for example using ravel().\n",
      "  estimator.fit(X_train, y_train, **fit_params)\n",
      "/Users/songlin/anaconda2/envs/Python35/lib/python3.5/site-packages/sklearn/cross_validation.py:1675: DataConversionWarning: A column-vector y was passed when a 1d array was expected. Please change the shape of y to (n_samples,), for example using ravel().\n",
      "  estimator.fit(X_train, y_train, **fit_params)\n",
      "/Users/songlin/anaconda2/envs/Python35/lib/python3.5/site-packages/sklearn/cross_validation.py:1675: DataConversionWarning: A column-vector y was passed when a 1d array was expected. Please change the shape of y to (n_samples,), for example using ravel().\n",
      "  estimator.fit(X_train, y_train, **fit_params)\n",
      "/Users/songlin/anaconda2/envs/Python35/lib/python3.5/site-packages/sklearn/cross_validation.py:1675: DataConversionWarning: A column-vector y was passed when a 1d array was expected. Please change the shape of y to (n_samples,), for example using ravel().\n",
      "  estimator.fit(X_train, y_train, **fit_params)\n",
      "/Users/songlin/anaconda2/envs/Python35/lib/python3.5/site-packages/sklearn/cross_validation.py:1675: DataConversionWarning: A column-vector y was passed when a 1d array was expected. Please change the shape of y to (n_samples,), for example using ravel().\n",
      "  estimator.fit(X_train, y_train, **fit_params)\n",
      "/Users/songlin/anaconda2/envs/Python35/lib/python3.5/site-packages/sklearn/cross_validation.py:1675: DataConversionWarning: A column-vector y was passed when a 1d array was expected. Please change the shape of y to (n_samples,), for example using ravel().\n",
      "  estimator.fit(X_train, y_train, **fit_params)\n",
      "/Users/songlin/anaconda2/envs/Python35/lib/python3.5/site-packages/sklearn/cross_validation.py:1675: DataConversionWarning: A column-vector y was passed when a 1d array was expected. Please change the shape of y to (n_samples,), for example using ravel().\n",
      "  estimator.fit(X_train, y_train, **fit_params)\n",
      "/Users/songlin/anaconda2/envs/Python35/lib/python3.5/site-packages/sklearn/cross_validation.py:1675: DataConversionWarning: A column-vector y was passed when a 1d array was expected. Please change the shape of y to (n_samples,), for example using ravel().\n",
      "  estimator.fit(X_train, y_train, **fit_params)\n"
     ]
    },
    {
     "name": "stderr",
     "output_type": "stream",
     "text": [
      "/Users/songlin/anaconda2/envs/Python35/lib/python3.5/site-packages/sklearn/cross_validation.py:1675: DataConversionWarning: A column-vector y was passed when a 1d array was expected. Please change the shape of y to (n_samples,), for example using ravel().\n",
      "  estimator.fit(X_train, y_train, **fit_params)\n",
      "/Users/songlin/anaconda2/envs/Python35/lib/python3.5/site-packages/sklearn/cross_validation.py:1675: DataConversionWarning: A column-vector y was passed when a 1d array was expected. Please change the shape of y to (n_samples,), for example using ravel().\n",
      "  estimator.fit(X_train, y_train, **fit_params)\n",
      "/Users/songlin/anaconda2/envs/Python35/lib/python3.5/site-packages/sklearn/cross_validation.py:1675: DataConversionWarning: A column-vector y was passed when a 1d array was expected. Please change the shape of y to (n_samples,), for example using ravel().\n",
      "  estimator.fit(X_train, y_train, **fit_params)\n",
      "/Users/songlin/anaconda2/envs/Python35/lib/python3.5/site-packages/sklearn/cross_validation.py:1675: DataConversionWarning: A column-vector y was passed when a 1d array was expected. Please change the shape of y to (n_samples,), for example using ravel().\n",
      "  estimator.fit(X_train, y_train, **fit_params)\n",
      "/Users/songlin/anaconda2/envs/Python35/lib/python3.5/site-packages/sklearn/cross_validation.py:1675: DataConversionWarning: A column-vector y was passed when a 1d array was expected. Please change the shape of y to (n_samples,), for example using ravel().\n",
      "  estimator.fit(X_train, y_train, **fit_params)\n",
      "/Users/songlin/anaconda2/envs/Python35/lib/python3.5/site-packages/sklearn/cross_validation.py:1675: DataConversionWarning: A column-vector y was passed when a 1d array was expected. Please change the shape of y to (n_samples,), for example using ravel().\n",
      "  estimator.fit(X_train, y_train, **fit_params)\n",
      "/Users/songlin/anaconda2/envs/Python35/lib/python3.5/site-packages/sklearn/cross_validation.py:1675: DataConversionWarning: A column-vector y was passed when a 1d array was expected. Please change the shape of y to (n_samples,), for example using ravel().\n",
      "  estimator.fit(X_train, y_train, **fit_params)\n",
      "/Users/songlin/anaconda2/envs/Python35/lib/python3.5/site-packages/sklearn/cross_validation.py:1675: DataConversionWarning: A column-vector y was passed when a 1d array was expected. Please change the shape of y to (n_samples,), for example using ravel().\n",
      "  estimator.fit(X_train, y_train, **fit_params)\n",
      "/Users/songlin/anaconda2/envs/Python35/lib/python3.5/site-packages/sklearn/cross_validation.py:1675: DataConversionWarning: A column-vector y was passed when a 1d array was expected. Please change the shape of y to (n_samples,), for example using ravel().\n",
      "  estimator.fit(X_train, y_train, **fit_params)\n",
      "/Users/songlin/anaconda2/envs/Python35/lib/python3.5/site-packages/sklearn/cross_validation.py:1675: DataConversionWarning: A column-vector y was passed when a 1d array was expected. Please change the shape of y to (n_samples,), for example using ravel().\n",
      "  estimator.fit(X_train, y_train, **fit_params)\n",
      "/Users/songlin/anaconda2/envs/Python35/lib/python3.5/site-packages/sklearn/cross_validation.py:1675: DataConversionWarning: A column-vector y was passed when a 1d array was expected. Please change the shape of y to (n_samples,), for example using ravel().\n",
      "  estimator.fit(X_train, y_train, **fit_params)\n",
      "/Users/songlin/anaconda2/envs/Python35/lib/python3.5/site-packages/sklearn/cross_validation.py:1675: DataConversionWarning: A column-vector y was passed when a 1d array was expected. Please change the shape of y to (n_samples,), for example using ravel().\n",
      "  estimator.fit(X_train, y_train, **fit_params)\n",
      "/Users/songlin/anaconda2/envs/Python35/lib/python3.5/site-packages/sklearn/cross_validation.py:1675: DataConversionWarning: A column-vector y was passed when a 1d array was expected. Please change the shape of y to (n_samples,), for example using ravel().\n",
      "  estimator.fit(X_train, y_train, **fit_params)\n",
      "/Users/songlin/anaconda2/envs/Python35/lib/python3.5/site-packages/sklearn/cross_validation.py:1675: DataConversionWarning: A column-vector y was passed when a 1d array was expected. Please change the shape of y to (n_samples,), for example using ravel().\n",
      "  estimator.fit(X_train, y_train, **fit_params)\n",
      "/Users/songlin/anaconda2/envs/Python35/lib/python3.5/site-packages/sklearn/cross_validation.py:1675: DataConversionWarning: A column-vector y was passed when a 1d array was expected. Please change the shape of y to (n_samples,), for example using ravel().\n",
      "  estimator.fit(X_train, y_train, **fit_params)\n",
      "/Users/songlin/anaconda2/envs/Python35/lib/python3.5/site-packages/sklearn/cross_validation.py:1675: DataConversionWarning: A column-vector y was passed when a 1d array was expected. Please change the shape of y to (n_samples,), for example using ravel().\n",
      "  estimator.fit(X_train, y_train, **fit_params)\n",
      "/Users/songlin/anaconda2/envs/Python35/lib/python3.5/site-packages/sklearn/cross_validation.py:1675: DataConversionWarning: A column-vector y was passed when a 1d array was expected. Please change the shape of y to (n_samples,), for example using ravel().\n",
      "  estimator.fit(X_train, y_train, **fit_params)\n",
      "/Users/songlin/anaconda2/envs/Python35/lib/python3.5/site-packages/sklearn/cross_validation.py:1675: DataConversionWarning: A column-vector y was passed when a 1d array was expected. Please change the shape of y to (n_samples,), for example using ravel().\n",
      "  estimator.fit(X_train, y_train, **fit_params)\n",
      "/Users/songlin/anaconda2/envs/Python35/lib/python3.5/site-packages/sklearn/cross_validation.py:1675: DataConversionWarning: A column-vector y was passed when a 1d array was expected. Please change the shape of y to (n_samples,), for example using ravel().\n",
      "  estimator.fit(X_train, y_train, **fit_params)\n",
      "/Users/songlin/anaconda2/envs/Python35/lib/python3.5/site-packages/sklearn/cross_validation.py:1675: DataConversionWarning: A column-vector y was passed when a 1d array was expected. Please change the shape of y to (n_samples,), for example using ravel().\n",
      "  estimator.fit(X_train, y_train, **fit_params)\n",
      "/Users/songlin/anaconda2/envs/Python35/lib/python3.5/site-packages/sklearn/cross_validation.py:1675: DataConversionWarning: A column-vector y was passed when a 1d array was expected. Please change the shape of y to (n_samples,), for example using ravel().\n",
      "  estimator.fit(X_train, y_train, **fit_params)\n",
      "/Users/songlin/anaconda2/envs/Python35/lib/python3.5/site-packages/sklearn/cross_validation.py:1675: DataConversionWarning: A column-vector y was passed when a 1d array was expected. Please change the shape of y to (n_samples,), for example using ravel().\n",
      "  estimator.fit(X_train, y_train, **fit_params)\n",
      "/Users/songlin/anaconda2/envs/Python35/lib/python3.5/site-packages/sklearn/cross_validation.py:1675: DataConversionWarning: A column-vector y was passed when a 1d array was expected. Please change the shape of y to (n_samples,), for example using ravel().\n",
      "  estimator.fit(X_train, y_train, **fit_params)\n",
      "/Users/songlin/anaconda2/envs/Python35/lib/python3.5/site-packages/sklearn/cross_validation.py:1675: DataConversionWarning: A column-vector y was passed when a 1d array was expected. Please change the shape of y to (n_samples,), for example using ravel().\n",
      "  estimator.fit(X_train, y_train, **fit_params)\n",
      "/Users/songlin/anaconda2/envs/Python35/lib/python3.5/site-packages/sklearn/cross_validation.py:1675: DataConversionWarning: A column-vector y was passed when a 1d array was expected. Please change the shape of y to (n_samples,), for example using ravel().\n",
      "  estimator.fit(X_train, y_train, **fit_params)\n",
      "/Users/songlin/anaconda2/envs/Python35/lib/python3.5/site-packages/sklearn/cross_validation.py:1675: DataConversionWarning: A column-vector y was passed when a 1d array was expected. Please change the shape of y to (n_samples,), for example using ravel().\n",
      "  estimator.fit(X_train, y_train, **fit_params)\n",
      "/Users/songlin/anaconda2/envs/Python35/lib/python3.5/site-packages/sklearn/cross_validation.py:1675: DataConversionWarning: A column-vector y was passed when a 1d array was expected. Please change the shape of y to (n_samples,), for example using ravel().\n",
      "  estimator.fit(X_train, y_train, **fit_params)\n"
     ]
    },
    {
     "name": "stderr",
     "output_type": "stream",
     "text": [
      "/Users/songlin/anaconda2/envs/Python35/lib/python3.5/site-packages/sklearn/cross_validation.py:1675: DataConversionWarning: A column-vector y was passed when a 1d array was expected. Please change the shape of y to (n_samples,), for example using ravel().\n",
      "  estimator.fit(X_train, y_train, **fit_params)\n",
      "/Users/songlin/anaconda2/envs/Python35/lib/python3.5/site-packages/sklearn/cross_validation.py:1675: DataConversionWarning: A column-vector y was passed when a 1d array was expected. Please change the shape of y to (n_samples,), for example using ravel().\n",
      "  estimator.fit(X_train, y_train, **fit_params)\n",
      "/Users/songlin/anaconda2/envs/Python35/lib/python3.5/site-packages/sklearn/cross_validation.py:1675: DataConversionWarning: A column-vector y was passed when a 1d array was expected. Please change the shape of y to (n_samples,), for example using ravel().\n",
      "  estimator.fit(X_train, y_train, **fit_params)\n",
      "/Users/songlin/anaconda2/envs/Python35/lib/python3.5/site-packages/sklearn/cross_validation.py:1675: DataConversionWarning: A column-vector y was passed when a 1d array was expected. Please change the shape of y to (n_samples,), for example using ravel().\n",
      "  estimator.fit(X_train, y_train, **fit_params)\n",
      "/Users/songlin/anaconda2/envs/Python35/lib/python3.5/site-packages/sklearn/cross_validation.py:1675: DataConversionWarning: A column-vector y was passed when a 1d array was expected. Please change the shape of y to (n_samples,), for example using ravel().\n",
      "  estimator.fit(X_train, y_train, **fit_params)\n",
      "/Users/songlin/anaconda2/envs/Python35/lib/python3.5/site-packages/sklearn/cross_validation.py:1675: DataConversionWarning: A column-vector y was passed when a 1d array was expected. Please change the shape of y to (n_samples,), for example using ravel().\n",
      "  estimator.fit(X_train, y_train, **fit_params)\n",
      "/Users/songlin/anaconda2/envs/Python35/lib/python3.5/site-packages/sklearn/cross_validation.py:1675: DataConversionWarning: A column-vector y was passed when a 1d array was expected. Please change the shape of y to (n_samples,), for example using ravel().\n",
      "  estimator.fit(X_train, y_train, **fit_params)\n",
      "/Users/songlin/anaconda2/envs/Python35/lib/python3.5/site-packages/sklearn/cross_validation.py:1675: DataConversionWarning: A column-vector y was passed when a 1d array was expected. Please change the shape of y to (n_samples,), for example using ravel().\n",
      "  estimator.fit(X_train, y_train, **fit_params)\n",
      "/Users/songlin/anaconda2/envs/Python35/lib/python3.5/site-packages/sklearn/cross_validation.py:1675: DataConversionWarning: A column-vector y was passed when a 1d array was expected. Please change the shape of y to (n_samples,), for example using ravel().\n",
      "  estimator.fit(X_train, y_train, **fit_params)\n",
      "/Users/songlin/anaconda2/envs/Python35/lib/python3.5/site-packages/sklearn/cross_validation.py:1675: DataConversionWarning: A column-vector y was passed when a 1d array was expected. Please change the shape of y to (n_samples,), for example using ravel().\n",
      "  estimator.fit(X_train, y_train, **fit_params)\n",
      "/Users/songlin/anaconda2/envs/Python35/lib/python3.5/site-packages/sklearn/cross_validation.py:1675: DataConversionWarning: A column-vector y was passed when a 1d array was expected. Please change the shape of y to (n_samples,), for example using ravel().\n",
      "  estimator.fit(X_train, y_train, **fit_params)\n",
      "/Users/songlin/anaconda2/envs/Python35/lib/python3.5/site-packages/sklearn/cross_validation.py:1675: DataConversionWarning: A column-vector y was passed when a 1d array was expected. Please change the shape of y to (n_samples,), for example using ravel().\n",
      "  estimator.fit(X_train, y_train, **fit_params)\n",
      "/Users/songlin/anaconda2/envs/Python35/lib/python3.5/site-packages/sklearn/cross_validation.py:1675: DataConversionWarning: A column-vector y was passed when a 1d array was expected. Please change the shape of y to (n_samples,), for example using ravel().\n",
      "  estimator.fit(X_train, y_train, **fit_params)\n",
      "/Users/songlin/anaconda2/envs/Python35/lib/python3.5/site-packages/sklearn/cross_validation.py:1675: DataConversionWarning: A column-vector y was passed when a 1d array was expected. Please change the shape of y to (n_samples,), for example using ravel().\n",
      "  estimator.fit(X_train, y_train, **fit_params)\n",
      "/Users/songlin/anaconda2/envs/Python35/lib/python3.5/site-packages/sklearn/cross_validation.py:1675: DataConversionWarning: A column-vector y was passed when a 1d array was expected. Please change the shape of y to (n_samples,), for example using ravel().\n",
      "  estimator.fit(X_train, y_train, **fit_params)\n",
      "/Users/songlin/anaconda2/envs/Python35/lib/python3.5/site-packages/sklearn/cross_validation.py:1675: DataConversionWarning: A column-vector y was passed when a 1d array was expected. Please change the shape of y to (n_samples,), for example using ravel().\n",
      "  estimator.fit(X_train, y_train, **fit_params)\n",
      "/Users/songlin/anaconda2/envs/Python35/lib/python3.5/site-packages/sklearn/cross_validation.py:1675: DataConversionWarning: A column-vector y was passed when a 1d array was expected. Please change the shape of y to (n_samples,), for example using ravel().\n",
      "  estimator.fit(X_train, y_train, **fit_params)\n",
      "/Users/songlin/anaconda2/envs/Python35/lib/python3.5/site-packages/sklearn/cross_validation.py:1675: DataConversionWarning: A column-vector y was passed when a 1d array was expected. Please change the shape of y to (n_samples,), for example using ravel().\n",
      "  estimator.fit(X_train, y_train, **fit_params)\n",
      "/Users/songlin/anaconda2/envs/Python35/lib/python3.5/site-packages/sklearn/cross_validation.py:1675: DataConversionWarning: A column-vector y was passed when a 1d array was expected. Please change the shape of y to (n_samples,), for example using ravel().\n",
      "  estimator.fit(X_train, y_train, **fit_params)\n",
      "/Users/songlin/anaconda2/envs/Python35/lib/python3.5/site-packages/sklearn/cross_validation.py:1675: DataConversionWarning: A column-vector y was passed when a 1d array was expected. Please change the shape of y to (n_samples,), for example using ravel().\n",
      "  estimator.fit(X_train, y_train, **fit_params)\n",
      "/Users/songlin/anaconda2/envs/Python35/lib/python3.5/site-packages/sklearn/cross_validation.py:1675: DataConversionWarning: A column-vector y was passed when a 1d array was expected. Please change the shape of y to (n_samples,), for example using ravel().\n",
      "  estimator.fit(X_train, y_train, **fit_params)\n",
      "/Users/songlin/anaconda2/envs/Python35/lib/python3.5/site-packages/sklearn/cross_validation.py:1675: DataConversionWarning: A column-vector y was passed when a 1d array was expected. Please change the shape of y to (n_samples,), for example using ravel().\n",
      "  estimator.fit(X_train, y_train, **fit_params)\n",
      "/Users/songlin/anaconda2/envs/Python35/lib/python3.5/site-packages/sklearn/cross_validation.py:1675: DataConversionWarning: A column-vector y was passed when a 1d array was expected. Please change the shape of y to (n_samples,), for example using ravel().\n",
      "  estimator.fit(X_train, y_train, **fit_params)\n",
      "/Users/songlin/anaconda2/envs/Python35/lib/python3.5/site-packages/sklearn/cross_validation.py:1675: DataConversionWarning: A column-vector y was passed when a 1d array was expected. Please change the shape of y to (n_samples,), for example using ravel().\n",
      "  estimator.fit(X_train, y_train, **fit_params)\n",
      "/Users/songlin/anaconda2/envs/Python35/lib/python3.5/site-packages/sklearn/cross_validation.py:1675: DataConversionWarning: A column-vector y was passed when a 1d array was expected. Please change the shape of y to (n_samples,), for example using ravel().\n",
      "  estimator.fit(X_train, y_train, **fit_params)\n",
      "/Users/songlin/anaconda2/envs/Python35/lib/python3.5/site-packages/sklearn/cross_validation.py:1675: DataConversionWarning: A column-vector y was passed when a 1d array was expected. Please change the shape of y to (n_samples,), for example using ravel().\n",
      "  estimator.fit(X_train, y_train, **fit_params)\n",
      "/Users/songlin/anaconda2/envs/Python35/lib/python3.5/site-packages/sklearn/cross_validation.py:1675: DataConversionWarning: A column-vector y was passed when a 1d array was expected. Please change the shape of y to (n_samples,), for example using ravel().\n",
      "  estimator.fit(X_train, y_train, **fit_params)\n"
     ]
    },
    {
     "name": "stderr",
     "output_type": "stream",
     "text": [
      "/Users/songlin/anaconda2/envs/Python35/lib/python3.5/site-packages/sklearn/cross_validation.py:1675: DataConversionWarning: A column-vector y was passed when a 1d array was expected. Please change the shape of y to (n_samples,), for example using ravel().\n",
      "  estimator.fit(X_train, y_train, **fit_params)\n",
      "/Users/songlin/anaconda2/envs/Python35/lib/python3.5/site-packages/sklearn/cross_validation.py:1675: DataConversionWarning: A column-vector y was passed when a 1d array was expected. Please change the shape of y to (n_samples,), for example using ravel().\n",
      "  estimator.fit(X_train, y_train, **fit_params)\n",
      "/Users/songlin/anaconda2/envs/Python35/lib/python3.5/site-packages/sklearn/cross_validation.py:1675: DataConversionWarning: A column-vector y was passed when a 1d array was expected. Please change the shape of y to (n_samples,), for example using ravel().\n",
      "  estimator.fit(X_train, y_train, **fit_params)\n",
      "/Users/songlin/anaconda2/envs/Python35/lib/python3.5/site-packages/sklearn/cross_validation.py:1675: DataConversionWarning: A column-vector y was passed when a 1d array was expected. Please change the shape of y to (n_samples,), for example using ravel().\n",
      "  estimator.fit(X_train, y_train, **fit_params)\n",
      "/Users/songlin/anaconda2/envs/Python35/lib/python3.5/site-packages/sklearn/cross_validation.py:1675: DataConversionWarning: A column-vector y was passed when a 1d array was expected. Please change the shape of y to (n_samples,), for example using ravel().\n",
      "  estimator.fit(X_train, y_train, **fit_params)\n",
      "/Users/songlin/anaconda2/envs/Python35/lib/python3.5/site-packages/sklearn/cross_validation.py:1675: DataConversionWarning: A column-vector y was passed when a 1d array was expected. Please change the shape of y to (n_samples,), for example using ravel().\n",
      "  estimator.fit(X_train, y_train, **fit_params)\n",
      "/Users/songlin/anaconda2/envs/Python35/lib/python3.5/site-packages/sklearn/cross_validation.py:1675: DataConversionWarning: A column-vector y was passed when a 1d array was expected. Please change the shape of y to (n_samples,), for example using ravel().\n",
      "  estimator.fit(X_train, y_train, **fit_params)\n",
      "/Users/songlin/anaconda2/envs/Python35/lib/python3.5/site-packages/sklearn/cross_validation.py:1675: DataConversionWarning: A column-vector y was passed when a 1d array was expected. Please change the shape of y to (n_samples,), for example using ravel().\n",
      "  estimator.fit(X_train, y_train, **fit_params)\n",
      "/Users/songlin/anaconda2/envs/Python35/lib/python3.5/site-packages/sklearn/cross_validation.py:1675: DataConversionWarning: A column-vector y was passed when a 1d array was expected. Please change the shape of y to (n_samples,), for example using ravel().\n",
      "  estimator.fit(X_train, y_train, **fit_params)\n",
      "/Users/songlin/anaconda2/envs/Python35/lib/python3.5/site-packages/sklearn/cross_validation.py:1675: DataConversionWarning: A column-vector y was passed when a 1d array was expected. Please change the shape of y to (n_samples,), for example using ravel().\n",
      "  estimator.fit(X_train, y_train, **fit_params)\n",
      "/Users/songlin/anaconda2/envs/Python35/lib/python3.5/site-packages/sklearn/cross_validation.py:1675: DataConversionWarning: A column-vector y was passed when a 1d array was expected. Please change the shape of y to (n_samples,), for example using ravel().\n",
      "  estimator.fit(X_train, y_train, **fit_params)\n",
      "/Users/songlin/anaconda2/envs/Python35/lib/python3.5/site-packages/sklearn/cross_validation.py:1675: DataConversionWarning: A column-vector y was passed when a 1d array was expected. Please change the shape of y to (n_samples,), for example using ravel().\n",
      "  estimator.fit(X_train, y_train, **fit_params)\n",
      "/Users/songlin/anaconda2/envs/Python35/lib/python3.5/site-packages/sklearn/cross_validation.py:1675: DataConversionWarning: A column-vector y was passed when a 1d array was expected. Please change the shape of y to (n_samples,), for example using ravel().\n",
      "  estimator.fit(X_train, y_train, **fit_params)\n",
      "/Users/songlin/anaconda2/envs/Python35/lib/python3.5/site-packages/sklearn/cross_validation.py:1675: DataConversionWarning: A column-vector y was passed when a 1d array was expected. Please change the shape of y to (n_samples,), for example using ravel().\n",
      "  estimator.fit(X_train, y_train, **fit_params)\n",
      "/Users/songlin/anaconda2/envs/Python35/lib/python3.5/site-packages/sklearn/cross_validation.py:1675: DataConversionWarning: A column-vector y was passed when a 1d array was expected. Please change the shape of y to (n_samples,), for example using ravel().\n",
      "  estimator.fit(X_train, y_train, **fit_params)\n",
      "/Users/songlin/anaconda2/envs/Python35/lib/python3.5/site-packages/sklearn/cross_validation.py:1675: DataConversionWarning: A column-vector y was passed when a 1d array was expected. Please change the shape of y to (n_samples,), for example using ravel().\n",
      "  estimator.fit(X_train, y_train, **fit_params)\n",
      "/Users/songlin/anaconda2/envs/Python35/lib/python3.5/site-packages/sklearn/cross_validation.py:1675: DataConversionWarning: A column-vector y was passed when a 1d array was expected. Please change the shape of y to (n_samples,), for example using ravel().\n",
      "  estimator.fit(X_train, y_train, **fit_params)\n",
      "/Users/songlin/anaconda2/envs/Python35/lib/python3.5/site-packages/sklearn/grid_search.py:620: DataConversionWarning: A column-vector y was passed when a 1d array was expected. Please change the shape of y to (n_samples,), for example using ravel().\n",
      "  best_estimator.fit(X, y, **self.fit_params)\n"
     ]
    },
    {
     "data": {
      "text/plain": [
       "GridSearchCV(cv=5, error_score='raise',\n",
       "       estimator=RandomForestRegressor(bootstrap=True, criterion='mse', max_depth=None,\n",
       "           max_features='auto', max_leaf_nodes=None,\n",
       "           min_impurity_decrease=0.0, min_impurity_split=None,\n",
       "           min_samples_leaf=1, min_samples_split=2,\n",
       "           min_weight_fraction_leaf=0.0, n_estimators=10, n_jobs=1,\n",
       "           oob_score=False, random_state=None, verbose=0, warm_start=False),\n",
       "       fit_params={}, iid=True, n_jobs=-1,\n",
       "       param_grid=[{'n_estimators': array([ 50,  62,  75,  87, 100]), 'max_depth': array([  1,  25,  50,  75, 100])}],\n",
       "       pre_dispatch='2*n_jobs', refit=True, scoring=None, verbose=0)"
      ]
     },
     "execution_count": 216,
     "metadata": {},
     "output_type": "execute_result"
    }
   ],
   "source": [
    "# Create Gridsearch\n",
    "\n",
    "param_grid = [{\n",
    "        'max_depth': np.linspace(1, 100, 5).astype('int'),\n",
    "        'n_estimators': np.linspace(50, 100, 5).astype('int')\n",
    "    }]\n",
    "\n",
    "RF = RandomForestRegressor()\n",
    "grid = GridSearchCV(RF, cv=5, n_jobs=-1, param_grid=param_grid)\n",
    "\n",
    "grid.fit(X_age_train_dummy, y_age_train)"
   ]
  },
  {
   "cell_type": "code",
   "execution_count": 271,
   "metadata": {},
   "outputs": [],
   "source": [
    "# Store the best model\n",
    "with open('./data/model/age_prediction_sk.pkl', 'wb') as picklefile:\n",
    "    pickle.dump(grid, picklefile)"
   ]
  },
  {
   "cell_type": "code",
   "execution_count": 19,
   "metadata": {},
   "outputs": [],
   "source": [
    "with open('./data/model/age_prediction_sk.pkl', 'rb') as picklefile:\n",
    "    grid = pickle.load(picklefile)"
   ]
  },
  {
   "cell_type": "code",
   "execution_count": 223,
   "metadata": {},
   "outputs": [
    {
     "name": "stdout",
     "output_type": "stream",
     "text": [
      "RMSE of age imputation via random forest is age    11.484188\n",
      "dtype: float64\n"
     ]
    }
   ],
   "source": [
    "X_age_test_dummy, _ = custom_dummify(X_age_test, 0.01, train_cols)\n",
    "y_pred_test = grid.predict(X_age_test_dummy)\n",
    "rmse = np.sqrt(np.mean((y_pred_test[:,np.newaxis]-y_age_test)**2))\n",
    "print ('RMSE of age imputation via random forest is {}'.format(rmse))"
   ]
  },
  {
   "cell_type": "code",
   "execution_count": 226,
   "metadata": {},
   "outputs": [
    {
     "data": {
      "text/plain": [
       "[<matplotlib.lines.Line2D at 0x1319f00f0>]"
      ]
     },
     "execution_count": 226,
     "metadata": {},
     "output_type": "execute_result"
    },
    {
     "data": {
      "image/png": "[encoded data removed]",
      "text/plain": [
       "<matplotlib.figure.Figure at 0x131b20fd0>"
      ]
     },
     "metadata": {},
     "output_type": "display_data"
    }
   ],
   "source": [
    "plt.plot(y_age_test, y_pred_test, 'bo')"
   ]
  },
  {
   "cell_type": "markdown",
   "metadata": {},
   "source": [
    "**Note the RMSE from RF model is higher than h2o model, thus we will use h2o model to predict the age"
   ]
  },
  {
   "cell_type": "markdown",
   "metadata": {},
   "source": [
    "## Use MICE to impute age"
   ]
  },
  {
   "cell_type": "code",
   "execution_count": 312,
   "metadata": {},
   "outputs": [],
   "source": [
    "X_mice = deepcopy(X_age_notnull)"
   ]
  },
  {
   "cell_type": "code",
   "execution_count": 313,
   "metadata": {},
   "outputs": [],
   "source": [
    "random.seed(1234)\n",
    "na_index = random.sample(range(X_mice.shape[0]), int(X_mice.shape[0]*0.3))"
   ]
  },
  {
   "cell_type": "code",
   "execution_count": 314,
   "metadata": {},
   "outputs": [],
   "source": [
    "X_mice['age'] = np.log(X_mice['age'])"
   ]
  },
  {
   "cell_type": "code",
   "execution_count": 315,
   "metadata": {},
   "outputs": [
    {
     "data": {
      "text/html": [
       "<div>\n",
       "<style scoped>\n",
       "    .dataframe tbody tr th:only-of-type {\n",
       "        vertical-align: middle;\n",
       "    }\n",
       "\n",
       "    .dataframe tbody tr th {\n",
       "        vertical-align: top;\n",
       "    }\n",
       "\n",
       "    .dataframe thead th {\n",
       "        text-align: right;\n",
       "    }\n",
       "</style>\n",
       "<table border=\"1\" class=\"dataframe\">\n",
       "  <thead>\n",
       "    <tr style=\"text-align: right;\">\n",
       "      <th></th>\n",
       "      <th>gender</th>\n",
       "      <th>age</th>\n",
       "      <th>signup_method</th>\n",
       "      <th>signup_flow</th>\n",
       "      <th>language</th>\n",
       "      <th>affiliate_channel</th>\n",
       "      <th>affiliate_provider</th>\n",
       "      <th>first_affiliate_tracked</th>\n",
       "      <th>signup_app</th>\n",
       "      <th>first_device_type</th>\n",
       "      <th>first_browser</th>\n",
       "    </tr>\n",
       "    <tr>\n",
       "      <th>id</th>\n",
       "      <th></th>\n",
       "      <th></th>\n",
       "      <th></th>\n",
       "      <th></th>\n",
       "      <th></th>\n",
       "      <th></th>\n",
       "      <th></th>\n",
       "      <th></th>\n",
       "      <th></th>\n",
       "      <th></th>\n",
       "      <th></th>\n",
       "    </tr>\n",
       "  </thead>\n",
       "  <tbody>\n",
       "    <tr>\n",
       "      <th>036qtdh8u5</th>\n",
       "      <td>MALE</td>\n",
       "      <td>3.332205</td>\n",
       "      <td>basic</td>\n",
       "      <td>0</td>\n",
       "      <td>en</td>\n",
       "      <td>direct</td>\n",
       "      <td>direct</td>\n",
       "      <td>omg</td>\n",
       "      <td>Web</td>\n",
       "      <td>Mac Desktop</td>\n",
       "      <td>Chrome</td>\n",
       "    </tr>\n",
       "    <tr>\n",
       "      <th>h9rli9yvhx</th>\n",
       "      <td>FEMALE</td>\n",
       "      <td>3.332205</td>\n",
       "      <td>basic</td>\n",
       "      <td>0</td>\n",
       "      <td>en</td>\n",
       "      <td>direct</td>\n",
       "      <td>direct</td>\n",
       "      <td>omg</td>\n",
       "      <td>Web</td>\n",
       "      <td>Mac Desktop</td>\n",
       "      <td>Chrome</td>\n",
       "    </tr>\n",
       "    <tr>\n",
       "      <th>pporitxzzw</th>\n",
       "      <td>MALE</td>\n",
       "      <td>3.433987</td>\n",
       "      <td>facebook</td>\n",
       "      <td>0</td>\n",
       "      <td>en</td>\n",
       "      <td>remarketing</td>\n",
       "      <td>google</td>\n",
       "      <td>linked</td>\n",
       "      <td>Web</td>\n",
       "      <td>Mac Desktop</td>\n",
       "      <td>Safari</td>\n",
       "    </tr>\n",
       "    <tr>\n",
       "      <th>yp8cmoln1o</th>\n",
       "      <td>MALE</td>\n",
       "      <td>3.891820</td>\n",
       "      <td>facebook</td>\n",
       "      <td>0</td>\n",
       "      <td>en</td>\n",
       "      <td>sem-non-brand</td>\n",
       "      <td>google</td>\n",
       "      <td>omg</td>\n",
       "      <td>Web</td>\n",
       "      <td>Windows Desktop</td>\n",
       "      <td>IE</td>\n",
       "    </tr>\n",
       "    <tr>\n",
       "      <th>1lflm3c81h</th>\n",
       "      <td>MALE</td>\n",
       "      <td>3.218876</td>\n",
       "      <td>facebook</td>\n",
       "      <td>3</td>\n",
       "      <td>en</td>\n",
       "      <td>sem-brand</td>\n",
       "      <td>google</td>\n",
       "      <td>omg</td>\n",
       "      <td>Web</td>\n",
       "      <td>Windows Desktop</td>\n",
       "      <td>IE</td>\n",
       "    </tr>\n",
       "  </tbody>\n",
       "</table>\n",
       "</div>"
      ],
      "text/plain": [
       "            gender       age signup_method  signup_flow language  \\\n",
       "id                                                                 \n",
       "036qtdh8u5    MALE  3.332205         basic            0       en   \n",
       "h9rli9yvhx  FEMALE  3.332205         basic            0       en   \n",
       "pporitxzzw    MALE  3.433987      facebook            0       en   \n",
       "yp8cmoln1o    MALE  3.891820      facebook            0       en   \n",
       "1lflm3c81h    MALE  3.218876      facebook            3       en   \n",
       "\n",
       "           affiliate_channel affiliate_provider first_affiliate_tracked  \\\n",
       "id                                                                        \n",
       "036qtdh8u5            direct             direct                     omg   \n",
       "h9rli9yvhx            direct             direct                     omg   \n",
       "pporitxzzw       remarketing             google                  linked   \n",
       "yp8cmoln1o     sem-non-brand             google                     omg   \n",
       "1lflm3c81h         sem-brand             google                     omg   \n",
       "\n",
       "           signup_app first_device_type first_browser  \n",
       "id                                                     \n",
       "036qtdh8u5        Web       Mac Desktop        Chrome  \n",
       "h9rli9yvhx        Web       Mac Desktop        Chrome  \n",
       "pporitxzzw        Web       Mac Desktop        Safari  \n",
       "yp8cmoln1o        Web   Windows Desktop            IE  \n",
       "1lflm3c81h        Web   Windows Desktop            IE  "
      ]
     },
     "execution_count": 315,
     "metadata": {},
     "output_type": "execute_result"
    }
   ],
   "source": [
    "X_mice.head()"
   ]
  },
  {
   "cell_type": "code",
   "execution_count": 316,
   "metadata": {},
   "outputs": [],
   "source": [
    "X_mice.iloc[na_index, 1] = np.NAN"
   ]
  },
  {
   "cell_type": "code",
   "execution_count": 317,
   "metadata": {},
   "outputs": [],
   "source": [
    "X_mice_dummify, _ = custom_dummify(X_mice, 0.01)"
   ]
  },
  {
   "cell_type": "code",
   "execution_count": 318,
   "metadata": {},
   "outputs": [
    {
     "data": {
      "text/plain": [
       "(8585, 11)"
      ]
     },
     "execution_count": 318,
     "metadata": {},
     "output_type": "execute_result"
    }
   ],
   "source": [
    "X_mice.shape"
   ]
  },
  {
   "cell_type": "code",
   "execution_count": 319,
   "metadata": {},
   "outputs": [],
   "source": [
    "df_imput = MICE(n_imputations=200, impute_type='col', verbose=False).complete(X_mice_dummify.as_matrix())"
   ]
  },
  {
   "cell_type": "code",
   "execution_count": 321,
   "metadata": {},
   "outputs": [],
   "source": [
    "df_imputed = pd.DataFrame(df_imput)"
   ]
  },
  {
   "cell_type": "code",
   "execution_count": 325,
   "metadata": {},
   "outputs": [],
   "source": [
    "imputed = np.exp(df_imputed.iloc[na_index,0])"
   ]
  },
  {
   "cell_type": "code",
   "execution_count": 339,
   "metadata": {},
   "outputs": [],
   "source": [
    "actual = X_age_notnull.iloc[na_index,1]"
   ]
  },
  {
   "cell_type": "code",
   "execution_count": 341,
   "metadata": {},
   "outputs": [
    {
     "data": {
      "text/plain": [
       "[<matplotlib.lines.Line2D at 0x1472b3630>]"
      ]
     },
     "execution_count": 341,
     "metadata": {},
     "output_type": "execute_result"
    },
    {
     "data": {
      "image/png": "[encoded data removed]",
      "text/plain": [
       "<matplotlib.figure.Figure at 0x147441908>"
      ]
     },
     "metadata": {},
     "output_type": "display_data"
    }
   ],
   "source": [
    "plt.plot(actual, imputed, 'go')"
   ]
  },
  {
   "cell_type": "code",
   "execution_count": 342,
   "metadata": {},
   "outputs": [
    {
     "data": {
      "text/plain": [
       "11.136609323901409"
      ]
     },
     "execution_count": 342,
     "metadata": {},
     "output_type": "execute_result"
    }
   ],
   "source": [
    "np.sqrt(np.mean((actual.values - imputed.values)**2))"
   ]
  },
  {
   "cell_type": "markdown",
   "metadata": {},
   "source": [
    "### Predict age for entries without valid age info"
   ]
  },
  {
   "cell_type": "code",
   "execution_count": 352,
   "metadata": {},
   "outputs": [],
   "source": [
    "X_train_dummify, _ = custom_dummify(X_train, 0.01)\n",
    "df_imput = MICE(n_imputations=200, impute_type='col', verbose=False).complete(X_train_dummify.as_matrix())"
   ]
  },
  {
   "cell_type": "code",
   "execution_count": 353,
   "metadata": {},
   "outputs": [],
   "source": [
    "df_imputed = pd.DataFrame(df_imput)\n",
    "#X_train['age'] = df_imputed.iloc[:,0]"
   ]
  },
  {
   "cell_type": "code",
   "execution_count": 355,
   "metadata": {},
   "outputs": [],
   "source": [
    "X_train['age'] = df_imputed.iloc[:,0].values"
   ]
  },
  {
   "cell_type": "code",
   "execution_count": 356,
   "metadata": {},
   "outputs": [
    {
     "data": {
      "text/html": [
       "<div>\n",
       "<style scoped>\n",
       "    .dataframe tbody tr th:only-of-type {\n",
       "        vertical-align: middle;\n",
       "    }\n",
       "\n",
       "    .dataframe tbody tr th {\n",
       "        vertical-align: top;\n",
       "    }\n",
       "\n",
       "    .dataframe thead th {\n",
       "        text-align: right;\n",
       "    }\n",
       "</style>\n",
       "<table border=\"1\" class=\"dataframe\">\n",
       "  <thead>\n",
       "    <tr style=\"text-align: right;\">\n",
       "      <th></th>\n",
       "      <th>id</th>\n",
       "      <th>date_account_created</th>\n",
       "      <th>timestamp_first_active</th>\n",
       "      <th>date_first_booking</th>\n",
       "      <th>gender</th>\n",
       "      <th>age</th>\n",
       "      <th>signup_method</th>\n",
       "      <th>signup_flow</th>\n",
       "      <th>language</th>\n",
       "      <th>affiliate_channel</th>\n",
       "      <th>affiliate_provider</th>\n",
       "      <th>first_affiliate_tracked</th>\n",
       "      <th>signup_app</th>\n",
       "      <th>first_device_type</th>\n",
       "      <th>first_browser</th>\n",
       "      <th>splitseed</th>\n",
       "    </tr>\n",
       "  </thead>\n",
       "  <tbody>\n",
       "    <tr>\n",
       "      <th>0</th>\n",
       "      <td>ppr8sr6z33</td>\n",
       "      <td>2014-06-15</td>\n",
       "      <td>20140615004156</td>\n",
       "      <td>None</td>\n",
       "      <td>-unknown-</td>\n",
       "      <td>21.617223</td>\n",
       "      <td>basic</td>\n",
       "      <td>25</td>\n",
       "      <td>en</td>\n",
       "      <td>direct</td>\n",
       "      <td>direct</td>\n",
       "      <td>untracked</td>\n",
       "      <td>iOS</td>\n",
       "      <td>iPhone</td>\n",
       "      <td>-unknown-</td>\n",
       "      <td>0.478538</td>\n",
       "    </tr>\n",
       "    <tr>\n",
       "      <th>1</th>\n",
       "      <td>eiwzl341qa</td>\n",
       "      <td>2013-12-16</td>\n",
       "      <td>20131216153039</td>\n",
       "      <td>None</td>\n",
       "      <td>-unknown-</td>\n",
       "      <td>49.829503</td>\n",
       "      <td>basic</td>\n",
       "      <td>25</td>\n",
       "      <td>en</td>\n",
       "      <td>direct</td>\n",
       "      <td>direct</td>\n",
       "      <td>linked</td>\n",
       "      <td>iOS</td>\n",
       "      <td>Mac Desktop</td>\n",
       "      <td>Safari</td>\n",
       "      <td>0.629914</td>\n",
       "    </tr>\n",
       "    <tr>\n",
       "      <th>2</th>\n",
       "      <td>lor9srems2</td>\n",
       "      <td>2014-04-07</td>\n",
       "      <td>20140407202112</td>\n",
       "      <td>None</td>\n",
       "      <td>-unknown-</td>\n",
       "      <td>36.694278</td>\n",
       "      <td>basic</td>\n",
       "      <td>25</td>\n",
       "      <td>en</td>\n",
       "      <td>direct</td>\n",
       "      <td>direct</td>\n",
       "      <td>untracked</td>\n",
       "      <td>iOS</td>\n",
       "      <td>iPhone</td>\n",
       "      <td>-unknown-</td>\n",
       "      <td>0.180260</td>\n",
       "    </tr>\n",
       "    <tr>\n",
       "      <th>3</th>\n",
       "      <td>uk2031aezt</td>\n",
       "      <td>2014-01-11</td>\n",
       "      <td>20140111154240</td>\n",
       "      <td>None</td>\n",
       "      <td>-unknown-</td>\n",
       "      <td>76.955883</td>\n",
       "      <td>basic</td>\n",
       "      <td>25</td>\n",
       "      <td>en</td>\n",
       "      <td>direct</td>\n",
       "      <td>direct</td>\n",
       "      <td>untracked</td>\n",
       "      <td>iOS</td>\n",
       "      <td>iPad</td>\n",
       "      <td>-unknown-</td>\n",
       "      <td>0.561323</td>\n",
       "    </tr>\n",
       "    <tr>\n",
       "      <th>4</th>\n",
       "      <td>q7k5aflli0</td>\n",
       "      <td>2013-06-01</td>\n",
       "      <td>20130601223530</td>\n",
       "      <td>None</td>\n",
       "      <td>-unknown-</td>\n",
       "      <td>61.827731</td>\n",
       "      <td>basic</td>\n",
       "      <td>0</td>\n",
       "      <td>en</td>\n",
       "      <td>sem-non-brand</td>\n",
       "      <td>vast</td>\n",
       "      <td>omg</td>\n",
       "      <td>Web</td>\n",
       "      <td>Windows Desktop</td>\n",
       "      <td>Firefox</td>\n",
       "      <td>0.244916</td>\n",
       "    </tr>\n",
       "    <tr>\n",
       "      <th>5</th>\n",
       "      <td>eswm7wig2e</td>\n",
       "      <td>2014-03-04</td>\n",
       "      <td>20140304032206</td>\n",
       "      <td>None</td>\n",
       "      <td>-unknown-</td>\n",
       "      <td>65.709658</td>\n",
       "      <td>basic</td>\n",
       "      <td>0</td>\n",
       "      <td>en</td>\n",
       "      <td>direct</td>\n",
       "      <td>direct</td>\n",
       "      <td>linked</td>\n",
       "      <td>Web</td>\n",
       "      <td>Windows Desktop</td>\n",
       "      <td>IE</td>\n",
       "      <td>0.687217</td>\n",
       "    </tr>\n",
       "    <tr>\n",
       "      <th>6</th>\n",
       "      <td>036qtdh8u5</td>\n",
       "      <td>2014-03-08</td>\n",
       "      <td>20140308024141</td>\n",
       "      <td>None</td>\n",
       "      <td>MALE</td>\n",
       "      <td>28.000000</td>\n",
       "      <td>basic</td>\n",
       "      <td>0</td>\n",
       "      <td>en</td>\n",
       "      <td>direct</td>\n",
       "      <td>direct</td>\n",
       "      <td>omg</td>\n",
       "      <td>Web</td>\n",
       "      <td>Mac Desktop</td>\n",
       "      <td>Chrome</td>\n",
       "      <td>0.601401</td>\n",
       "    </tr>\n",
       "    <tr>\n",
       "      <th>7</th>\n",
       "      <td>8692718hr3</td>\n",
       "      <td>2013-04-22</td>\n",
       "      <td>20130422005654</td>\n",
       "      <td>None</td>\n",
       "      <td>MALE</td>\n",
       "      <td>63.778243</td>\n",
       "      <td>basic</td>\n",
       "      <td>0</td>\n",
       "      <td>en</td>\n",
       "      <td>direct</td>\n",
       "      <td>direct</td>\n",
       "      <td>untracked</td>\n",
       "      <td>Web</td>\n",
       "      <td>Mac Desktop</td>\n",
       "      <td>Safari</td>\n",
       "      <td>0.531830</td>\n",
       "    </tr>\n",
       "    <tr>\n",
       "      <th>8</th>\n",
       "      <td>iblg556q1g</td>\n",
       "      <td>2014-03-26</td>\n",
       "      <td>20140326194011</td>\n",
       "      <td>None</td>\n",
       "      <td>-unknown-</td>\n",
       "      <td>46.150304</td>\n",
       "      <td>basic</td>\n",
       "      <td>0</td>\n",
       "      <td>en</td>\n",
       "      <td>sem-brand</td>\n",
       "      <td>google</td>\n",
       "      <td>omg</td>\n",
       "      <td>Web</td>\n",
       "      <td>Mac Desktop</td>\n",
       "      <td>Chrome</td>\n",
       "      <td>0.375255</td>\n",
       "    </tr>\n",
       "    <tr>\n",
       "      <th>9</th>\n",
       "      <td>l6m0ygh6wi</td>\n",
       "      <td>2013-12-01</td>\n",
       "      <td>20131201204738</td>\n",
       "      <td>None</td>\n",
       "      <td>MALE</td>\n",
       "      <td>59.625217</td>\n",
       "      <td>basic</td>\n",
       "      <td>0</td>\n",
       "      <td>en</td>\n",
       "      <td>direct</td>\n",
       "      <td>direct</td>\n",
       "      <td>linked</td>\n",
       "      <td>Web</td>\n",
       "      <td>Windows Desktop</td>\n",
       "      <td>IE</td>\n",
       "      <td>0.126706</td>\n",
       "    </tr>\n",
       "  </tbody>\n",
       "</table>\n",
       "</div>"
      ],
      "text/plain": [
       "           id date_account_created timestamp_first_active date_first_booking  \\\n",
       "0  ppr8sr6z33           2014-06-15         20140615004156               None   \n",
       "1  eiwzl341qa           2013-12-16         20131216153039               None   \n",
       "2  lor9srems2           2014-04-07         20140407202112               None   \n",
       "3  uk2031aezt           2014-01-11         20140111154240               None   \n",
       "4  q7k5aflli0           2013-06-01         20130601223530               None   \n",
       "5  eswm7wig2e           2014-03-04         20140304032206               None   \n",
       "6  036qtdh8u5           2014-03-08         20140308024141               None   \n",
       "7  8692718hr3           2013-04-22         20130422005654               None   \n",
       "8  iblg556q1g           2014-03-26         20140326194011               None   \n",
       "9  l6m0ygh6wi           2013-12-01         20131201204738               None   \n",
       "\n",
       "      gender        age signup_method  signup_flow language affiliate_channel  \\\n",
       "0  -unknown-  21.617223         basic           25       en            direct   \n",
       "1  -unknown-  49.829503         basic           25       en            direct   \n",
       "2  -unknown-  36.694278         basic           25       en            direct   \n",
       "3  -unknown-  76.955883         basic           25       en            direct   \n",
       "4  -unknown-  61.827731         basic            0       en     sem-non-brand   \n",
       "5  -unknown-  65.709658         basic            0       en            direct   \n",
       "6       MALE  28.000000         basic            0       en            direct   \n",
       "7       MALE  63.778243         basic            0       en            direct   \n",
       "8  -unknown-  46.150304         basic            0       en         sem-brand   \n",
       "9       MALE  59.625217         basic            0       en            direct   \n",
       "\n",
       "  affiliate_provider first_affiliate_tracked signup_app first_device_type  \\\n",
       "0             direct               untracked        iOS            iPhone   \n",
       "1             direct                  linked        iOS       Mac Desktop   \n",
       "2             direct               untracked        iOS            iPhone   \n",
       "3             direct               untracked        iOS              iPad   \n",
       "4               vast                     omg        Web   Windows Desktop   \n",
       "5             direct                  linked        Web   Windows Desktop   \n",
       "6             direct                     omg        Web       Mac Desktop   \n",
       "7             direct               untracked        Web       Mac Desktop   \n",
       "8             google                     omg        Web       Mac Desktop   \n",
       "9             direct                  linked        Web   Windows Desktop   \n",
       "\n",
       "  first_browser  splitseed  \n",
       "0     -unknown-   0.478538  \n",
       "1        Safari   0.629914  \n",
       "2     -unknown-   0.180260  \n",
       "3     -unknown-   0.561323  \n",
       "4       Firefox   0.244916  \n",
       "5            IE   0.687217  \n",
       "6        Chrome   0.601401  \n",
       "7        Safari   0.531830  \n",
       "8        Chrome   0.375255  \n",
       "9            IE   0.126706  "
      ]
     },
     "execution_count": 356,
     "metadata": {},
     "output_type": "execute_result"
    }
   ],
   "source": [
    "X_train.head(10)"
   ]
  },
  {
   "cell_type": "code",
   "execution_count": 357,
   "metadata": {},
   "outputs": [],
   "source": [
    "## Store the imputed data for further processing\n",
    "\n",
    "with open('./data/processed/X_train_age_imputed.pkl', 'wb') as picklefile:\n",
    "    pickle.dump(X_train,picklefile)\n"
   ]
  }
 ],
 "metadata": {
  "kernelspec": {
   "display_name": "Python 3",
   "language": "python",
   "name": "python3"
  },
  "language_info": {
   "codemirror_mode": {
    "name": "ipython",
    "version": 3
   },
   "file_extension": ".py",
   "mimetype": "text/x-python",
   "name": "python",
   "nbconvert_exporter": "python",
   "pygments_lexer": "ipython3",
   "version": "3.5.4"
  }
 },
 "nbformat": 4,
 "nbformat_minor": 2
}
