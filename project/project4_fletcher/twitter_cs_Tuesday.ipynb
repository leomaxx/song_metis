{
 "cells": [
  {
   "cell_type": "markdown",
   "metadata": {},
   "source": [
    "**Project plan**\n",
    "\n",
    "*Data preprocessing\n",
    "1. DONE - Detect the english tweets\n",
    "https://github.com/rfk/pyenchant\n",
    "\n",
    "*Sentiment Analysis*\n",
    "1. Find a sentiment analysis NN to rate last tweets\n",
    "2. DONE - Extract the emoji's and incorporate the emoji sentiment <br>\n",
    "https://stackoverflow.com/questions/43852668/using-collections-counter-to-count-emojis-with-different-colors<br>\n",
    "https://stackoverflow.com/questions/48340622/extract-all-emojis-from-string-and-ignore-fitzpatrick-modifiers-skin-tones-etc\n",
    "\n",
    "*Build a pipeline for similar tweet recommender*\n",
    "1. DONE - Implement class for recommend engine\n",
    "2. DONE - Build a pipeline for word embedding, vectorizing, and recommendation\n",
    "3. Try out Glove, Google embedding.. etc\n",
    "\n",
    "*Expansion\n",
    "1. Narrow down recommendation to resolved tickets\n",
    "2. Perform 3 types of clustering\n",
    "3. Perform cluster summarization"
   ]
  },
  {
   "cell_type": "code",
   "execution_count": 1,
   "metadata": {},
   "outputs": [
    {
     "name": "stderr",
     "output_type": "stream",
     "text": [
      "/Users/songlin/anaconda2/envs/Python36/lib/python3.6/importlib/_bootstrap.py:219: RuntimeWarning: numpy.dtype size changed, may indicate binary incompatibility. Expected 96, got 88\n",
      "  return f(*args, **kwds)\n",
      "/Users/songlin/anaconda2/envs/Python36/lib/python3.6/importlib/_bootstrap.py:219: RuntimeWarning: numpy.dtype size changed, may indicate binary incompatibility. Expected 96, got 88\n",
      "  return f(*args, **kwds)\n",
      "/Users/songlin/anaconda2/envs/Python36/lib/python3.6/importlib/_bootstrap.py:219: RuntimeWarning: numpy.dtype size changed, may indicate binary incompatibility. Expected 96, got 88\n",
      "  return f(*args, **kwds)\n",
      "/Users/songlin/anaconda2/envs/Python36/lib/python3.6/importlib/_bootstrap.py:219: RuntimeWarning: numpy.dtype size changed, may indicate binary incompatibility. Expected 96, got 88\n",
      "  return f(*args, **kwds)\n",
      "/Users/songlin/anaconda2/envs/Python36/lib/python3.6/site-packages/nltk/twitter/__init__.py:20: UserWarning: The twython library has not been installed. Some functionality from the twitter package will not be available.\n",
      "  warnings.warn(\"The twython library has not been installed. \"\n",
      "/Users/songlin/anaconda2/envs/Python36/lib/python3.6/importlib/_bootstrap.py:219: RuntimeWarning: numpy.dtype size changed, may indicate binary incompatibility. Expected 96, got 88\n",
      "  return f(*args, **kwds)\n"
     ]
    }
   ],
   "source": [
    "import string\n",
    "import emoji\n",
    "import regex\n",
    "import pickle\n",
    "import re\n",
    "import enchant\n",
    "import math\n",
    "import inflect\n",
    "import gensim\n",
    "\n",
    "import numpy as np\n",
    "import pandas as pd\n",
    "import vaderSentiment\n",
    "\n",
    "import matplotlib.pyplot as plt\n",
    "\n",
    "from itertools import compress\n",
    "from tqdm import tqdm_notebook\n",
    "from termcolor import colored\n",
    "\n",
    "\n",
    "# gensim\n",
    "from gensim import corpora, models, similarities, matutils\n",
    "# sklearn\n",
    "from sklearn import datasets\n",
    "from sklearn.feature_extraction.text import CountVectorizer, TfidfVectorizer\n",
    "from sklearn.feature_extraction import text\n",
    "from sklearn.decomposition import NMF, TruncatedSVD\n",
    "import nltk.sentiment.vader\n",
    "from sklearn.neighbors import NearestNeighbors\n",
    "from vaderSentiment.vaderSentiment import SentimentIntensityAnalyzer\n",
    "from nltk.stem import WordNetLemmatizer\n",
    "    \n",
    "from sklearn.cluster import KMeans\n",
    "from nltk.tokenize import word_tokenize\n",
    "\n",
    "from sklearn.cluster import DBSCAN, SpectralClustering, MeanShift\n",
    "from sklearn.preprocessing import StandardScaler\n",
    "from sklearn.cluster import MeanShift, estimate_bandwidth\n",
    "from sklearn.cluster import KMeans\n",
    "from itertools import cycle\n",
    "import seaborn as sns\n",
    "\n",
    "from sklearn import metrics\n",
    "from sklearn.metrics import pairwise_distances\n",
    "from sklearn.metrics import silhouette_score\n",
    "\n",
    "%matplotlib inline"
   ]
  },
  {
   "cell_type": "code",
   "execution_count": 2,
   "metadata": {
    "collapsed": true
   },
   "outputs": [],
   "source": [
    "twitter = pd.read_csv(\"./customer-support-on-twitter/twcs.csv\")\n",
    "\n",
    "# Save original message for future recommendation display\n",
    "ticket_reserve = twitter[twitter['inbound'] == True]\n",
    "solution_reserve = twitter[twitter['inbound'] == False]"
   ]
  },
  {
   "cell_type": "code",
   "execution_count": 3,
   "metadata": {},
   "outputs": [],
   "source": [
    "pd.set_option('display.max_colwidth', -1)"
   ]
  },
  {
   "cell_type": "markdown",
   "metadata": {},
   "source": [
    "### Exclude tweets with non-English characters"
   ]
  },
  {
   "cell_type": "code",
   "execution_count": 45,
   "metadata": {},
   "outputs": [
    {
     "data": {
      "text/plain": [
       "'^23'"
      ]
     },
     "execution_count": 45,
     "metadata": {},
     "output_type": "execute_result"
    }
   ],
   "source": [
    "text = '^23'\n",
    "re.sub(r'^\\w+', 'jk', text)"
   ]
  },
  {
   "cell_type": "code",
   "execution_count": 37,
   "metadata": {},
   "outputs": [
    {
     "data": {
      "text/plain": [
       "170     sorry for this. let me request the expert to look into this asap as he is in office. ^raj\n",
       "Name: text, dtype: object"
      ]
     },
     "execution_count": 37,
     "metadata": {},
     "output_type": "execute_result"
    }
   ],
   "source": [
    "twitter.text[170:171].apply(lambda x:clean_text(x, cList))"
   ]
  },
  {
   "cell_type": "code",
   "execution_count": 36,
   "metadata": {
    "collapsed": true
   },
   "outputs": [],
   "source": [
    "def fixContractions(text, cList):\n",
    "    for word in text.split():\n",
    "        if word.lower() in cList:\n",
    "            text = text.replace(word, cList[word.lower()])\n",
    "    return text\n",
    "\n",
    "def clean_text(text, cList):\n",
    "    text = text.lower()\n",
    "    text = text.replace('\\n', '')\n",
    "    text = re.sub(r'https:\\/\\/t.co\\/\\w{10}', '', text) # Remove URL link\n",
    "    text = re.sub(r'@\\w+', '', text) # Remove @account\n",
    "    text = re.sub(r'^\\w+', '', text) # Remove @account\n",
    "    text = fixContractions(text, cList) # Expand contractions\n",
    "    return text"
   ]
  },
  {
   "cell_type": "code",
   "execution_count": 12,
   "metadata": {
    "collapsed": true
   },
   "outputs": [],
   "source": [
    "def get_emoji_free_text(text):\n",
    "    text = text.replace(u'\\u200d', '')\n",
    "    allchars = [str for str in text]\n",
    "    emoji_list = [c for c in allchars if c in emoji.UNICODE_EMOJI]\n",
    "    clean_text = ' '.join([str for str in text.split() if not any(i in str for i in emoji_list)])\n",
    "    if (len(emoji_list) == 0):\n",
    "        return np.NaN, clean_text\n",
    "    else:\n",
    "        return emoji_list, clean_text"
   ]
  },
  {
   "cell_type": "code",
   "execution_count": null,
   "metadata": {},
   "outputs": [],
   "source": [
    "with open('./data/helper/contraction_list.pkl', 'rb') as picklefile:\n",
    "    cList = pickle.load(picklefile)\n",
    "twitter['text'] = twitter['text'].apply(lambda x:clean_text(x, cList))\n",
    "twitter[['emoji','text']] = twitter['text'].apply(lambda x:pd.Series(get_emoji_free_text(x)))"
   ]
  },
  {
   "cell_type": "code",
   "execution_count": 123,
   "metadata": {
    "collapsed": true
   },
   "outputs": [],
   "source": [
    "with open('./data/processed/tweets_step1_emoji_extracted.pkl', 'wb')as picklefile:\n",
    "    pickle.dump(twitter, picklefile)"
   ]
  },
  {
   "cell_type": "code",
   "execution_count": null,
   "metadata": {
    "collapsed": true
   },
   "outputs": [],
   "source": [
    "with open('./data/processed/tweets_step1_emoji_extracted.pkl', 'rb')as picklefile:\n",
    "    twitter = pickle.load(picklefile)"
   ]
  },
  {
   "cell_type": "markdown",
   "metadata": {},
   "source": [
    "### Retrieve sentiment score for emoji's\n",
    "ref:http://kt.ijs.si/data/Emoji_sentiment_ranking/"
   ]
  },
  {
   "cell_type": "code",
   "execution_count": 125,
   "metadata": {
    "collapsed": true
   },
   "outputs": [],
   "source": [
    "def build_dict(emoji_table, emoji_sentiment_dict):\n",
    "    type_set = set()\n",
    "    for i in range(emoji_table.shape[0]):\n",
    "        code = emoji_table.loc[i, 'Python Code']\n",
    "        try:\n",
    "            key = chr(int(code[1:], 16))\n",
    "            emoji_sentiment_dict[key] = emoji_table.loc[i, 'Sentiment score']\n",
    "        except:\n",
    "            type_set.add(emoji_table.loc[i, 'Unicode block'])\n",
    "    return emoji_sentiment_dict"
   ]
  },
  {
   "cell_type": "code",
   "execution_count": 127,
   "metadata": {
    "collapsed": true
   },
   "outputs": [],
   "source": [
    "def get_emoji_sentiment(emoji_list):\n",
    "    score = 0\n",
    "    if (type(emoji_list) != float):\n",
    "        for emoji_item in emoji_list:\n",
    "            if (emoji_item in emoji_sentiment_dict.keys()):\n",
    "                score += emoji_sentiment_dict[emoji_item]\n",
    "        if (score == 0):\n",
    "            return np.NaN\n",
    "        else:\n",
    "            return score/len(emoji_list)\n",
    "    else:\n",
    "        return np.NaN"
   ]
  },
  {
   "cell_type": "code",
   "execution_count": 169,
   "metadata": {},
   "outputs": [
    {
     "name": "stdout",
     "output_type": "stream",
     "text": [
      "Number of tweets with emoji score:  161402\n",
      "Number of tweets with emoji but not score:  33223\n"
     ]
    }
   ],
   "source": [
    "emoji_sentiment = pd.read_csv('./data/raw/emoji_nodingbat.csv')\n",
    "emoji_other = pd.read_csv('./data/raw/emoji_other.csv')\n",
    "emoji_sentiment_dict = {}\n",
    "\n",
    "emoji_sentiment_dict = build_dict(emoji_sentiment, emoji_sentiment_dict)\n",
    "emoji_sentiment_dict = build_dict(emoji_other, emoji_sentiment_dict)\n",
    "\n",
    "twitter['emoji_score'] = twitter['emoji'].apply(lambda x:get_emoji_sentiment(x))\n",
    "print ('Number of tweets with emoji score: ', twitter[~twitter['emoji_score'].isnull()].shape[0])\n",
    "print ('Number of tweets with emoji but not score: ', twitter[twitter['emoji_score'].isnull() & (~twitter['emoji'].isnull())].shape[0])"
   ]
  },
  {
   "cell_type": "code",
   "execution_count": 129,
   "metadata": {
    "collapsed": true
   },
   "outputs": [],
   "source": [
    "with open('./data/processed/tweets_step2_emoji_sentiment.pkl', 'wb')as picklefile:\n",
    "    pickle.dump(twitter, picklefile)"
   ]
  },
  {
   "cell_type": "code",
   "execution_count": 167,
   "metadata": {
    "collapsed": true
   },
   "outputs": [],
   "source": [
    "with open('./data/processed/tweets_step2_emoji_sentiment.pkl', 'rb')as picklefile:\n",
    "    twitter = pickle.load(picklefile)"
   ]
  },
  {
   "cell_type": "markdown",
   "metadata": {},
   "source": [
    "### Remove non-English tweets"
   ]
  },
  {
   "cell_type": "code",
   "execution_count": 170,
   "metadata": {
    "collapsed": true
   },
   "outputs": [],
   "source": [
    "# Retrieve elements that are printable in English context - This is a \n",
    "# combination of digits, letters, punctuation, and whitespace.\n",
    "valid_content = set(string.printable)\n",
    "\n",
    "# Include some common non-English punctuations\n",
    "non_English_punctuation = ['‘', '’', 'é', '–','—','“','”','、','。','`','️', '£', '…', '$']\n",
    "\n",
    "# Keep tweets with common non-English punctuations\n",
    "[valid_content.add(x) for x in (non_English_punctuation)]\n",
    "    \n",
    "def isEnglish(tweet):\n",
    "    invalid_index = [x not in valid_content for x in tweet]\n",
    "    if (np.sum(invalid_index)==0):\n",
    "        return True\n",
    "    else:\n",
    "        return False\n",
    "\n",
    "## Removed 78k tweets with non-English characters\n",
    "english_tweets = twitter.text.apply(lambda x:isEnglish(x))\n",
    "tweets = twitter.loc[english_tweets, :]"
   ]
  },
  {
   "cell_type": "code",
   "execution_count": 171,
   "metadata": {
    "collapsed": true
   },
   "outputs": [],
   "source": [
    "# A quick tool to return non-English words\n",
    "def non_English(words):\n",
    "    print (list(compress(list(words), [x not in valid_content for x in words])))"
   ]
  },
  {
   "cell_type": "markdown",
   "metadata": {},
   "source": [
    "### Format the dates"
   ]
  },
  {
   "cell_type": "code",
   "execution_count": 173,
   "metadata": {},
   "outputs": [
    {
     "name": "stderr",
     "output_type": "stream",
     "text": [
      "/Users/songlin/anaconda2/envs/Python36/lib/python3.6/site-packages/ipykernel_launcher.py:2: SettingWithCopyWarning: \n",
      "A value is trying to be set on a copy of a slice from a DataFrame.\n",
      "Try using .loc[row_indexer,col_indexer] = value instead\n",
      "\n",
      "See the caveats in the documentation: http://pandas.pydata.org/pandas-docs/stable/indexing.html#indexing-view-versus-copy\n",
      "  \n"
     ]
    }
   ],
   "source": [
    "# Format the dates\n",
    "tweets['created_at'] = pd.to_datetime(tweets['created_at'], format='%a %b %d %H:%M:%S +0000 %Y')"
   ]
  },
  {
   "cell_type": "code",
   "execution_count": 174,
   "metadata": {},
   "outputs": [
    {
     "name": "stderr",
     "output_type": "stream",
     "text": [
      "/Users/songlin/anaconda2/envs/Python36/lib/python3.6/site-packages/ipykernel_launcher.py:1: SettingWithCopyWarning: \n",
      "A value is trying to be set on a copy of a slice from a DataFrame.\n",
      "Try using .loc[row_indexer,col_indexer] = value instead\n",
      "\n",
      "See the caveats in the documentation: http://pandas.pydata.org/pandas-docs/stable/indexing.html#indexing-view-versus-copy\n",
      "  \"\"\"Entry point for launching an IPython kernel.\n",
      "/Users/songlin/anaconda2/envs/Python36/lib/python3.6/site-packages/ipykernel_launcher.py:2: SettingWithCopyWarning: \n",
      "A value is trying to be set on a copy of a slice from a DataFrame.\n",
      "Try using .loc[row_indexer,col_indexer] = value instead\n",
      "\n",
      "See the caveats in the documentation: http://pandas.pydata.org/pandas-docs/stable/indexing.html#indexing-view-versus-copy\n",
      "  \n",
      "/Users/songlin/anaconda2/envs/Python36/lib/python3.6/site-packages/ipykernel_launcher.py:3: SettingWithCopyWarning: \n",
      "A value is trying to be set on a copy of a slice from a DataFrame.\n",
      "Try using .loc[row_indexer,col_indexer] = value instead\n",
      "\n",
      "See the caveats in the documentation: http://pandas.pydata.org/pandas-docs/stable/indexing.html#indexing-view-versus-copy\n",
      "  This is separate from the ipykernel package so we can avoid doing imports until\n"
     ]
    }
   ],
   "source": [
    "tweets['in_response_to_tweet_id'] = tweets['in_response_to_tweet_id'].fillna(-1)\n",
    "tweets['in_response_to_tweet_id'] = tweets['in_response_to_tweet_id'].astype(int)\n",
    "tweets['response_tweet_id'] = tweets['response_tweet_id'].fillna(-1)"
   ]
  },
  {
   "cell_type": "code",
   "execution_count": 175,
   "metadata": {
    "collapsed": true
   },
   "outputs": [],
   "source": [
    "with open('./data/processed/tweets_step3_english.pkl', 'wb')as picklefile:\n",
    "    pickle.dump(tweets, picklefile)"
   ]
  },
  {
   "cell_type": "code",
   "execution_count": 176,
   "metadata": {
    "collapsed": true
   },
   "outputs": [],
   "source": [
    "with open('./data/processed/tweets_step3_english.pkl', 'rb')as picklefile:\n",
    "    tweets = pickle.load(picklefile)"
   ]
  },
  {
   "cell_type": "markdown",
   "metadata": {},
   "source": [
    "### Add custom_id and brand_id columns"
   ]
  },
  {
   "cell_type": "code",
   "execution_count": 198,
   "metadata": {
    "collapsed": true
   },
   "outputs": [],
   "source": [
    "# Add custom_id column\n",
    "tweets = pd.merge(tweets,pd.DataFrame(tweets[['tweet_id', 'author_id']]),left_on='in_response_to_tweet_id', right_on='tweet_id', how='left')\n",
    "tweets.loc[tweets['inbound'] == True, 'author_id_y'] = tweets.loc[tweets['inbound'] == True, 'author_id_x']\n",
    "tweets['author_id_y'] = tweets['author_id_y'].fillna(-1)\n",
    "tweets.drop('tweet_id_y', axis=1, inplace=True)\n",
    "tweets.rename(columns={'author_id_y':'cust_id', \n",
    "                       'author_id_x':'author_id',\n",
    "                      'tweet_id_x':'tweet_id'}, inplace=True)\n",
    "\n",
    "# Drop the tweets without customer id, those are usually promotional tweets initiated by\n",
    "# brands agent or customers not in the datase: Number of such tweets: 71255\n",
    "tweets = tweets[~tweets['cust_id'].isnull()]"
   ]
  },
  {
   "cell_type": "code",
   "execution_count": 227,
   "metadata": {
    "collapsed": true
   },
   "outputs": [],
   "source": [
    "# Add brand_id column\n",
    "\n",
    "# Carve out the first tweet id when there are multiples in response_tweet_id\n",
    "tweets['processed_response_id'] = tweets['response_tweet_id'].apply(\n",
    "    lambda x: x if (isinstance(x,int)) else x.split(',')[0])\n",
    "tweets['processed_response_id'] = tweets['processed_response_id'].astype(int)\n",
    "\n",
    "# Retrieve the author id of the responde tweet\n",
    "tweets = pd.merge(tweets,pd.DataFrame(tweets[['tweet_id', 'author_id']]),\n",
    "                  left_on='processed_response_id', \n",
    "                  right_on='tweet_id', \n",
    "                  how='left')\n",
    "\n",
    "tweets.drop('tweet_id_y', axis=1, inplace=True)\n",
    "tweets.rename(columns={'author_id_y':'brand_id', \n",
    "                       'author_id_x':'author_id',\n",
    "                      'tweet_id_x':'tweet_id'}, inplace=True)\n",
    "\n",
    "tweets = pd.merge(tweets,pd.DataFrame(tweets[['tweet_id', 'author_id']]),left_on='in_response_to_tweet_id', right_on='tweet_id', how='left')\n",
    "tweets.loc[(tweets['inbound'] & (tweets['processed_response_id'] == -1)), 'brand_id'] = (\n",
    "    tweets.loc[(tweets['inbound'] & (tweets['processed_response_id'] == -1)), 'author_id_y'])\n",
    "tweets.rename(columns={'tweet_id_x':'tweet_id', \n",
    "                       'author_id_x':'author_id'}, inplace=True)\n",
    "\n",
    "tweets.loc[tweets['inbound'] == False, 'brand_id'] = tweets.loc[tweets['inbound'] == False, 'author_id']\n",
    "tweets.drop(['processed_response_id', 'tweet_id_y', 'author_id_y'], axis=1, inplace=True)\n",
    "\n",
    "# could use some more logic to extract the account name in tweet text"
   ]
  },
  {
   "cell_type": "code",
   "execution_count": 233,
   "metadata": {
    "collapsed": true
   },
   "outputs": [],
   "source": [
    "# Tweets with no response is 3880\n",
    "print (tweets[tweets['brand_id'].isnull() & (tweets['response_tweet_id'] == -1)].shape)\n",
    "\n",
    "# Tweets with response outside the dataset is 42764\n",
    "print (tweets[tweets['brand_id'].isnull() & (tweets['response_tweet_id'] != -1)].shape)\n",
    "\n",
    "# Drop the tweets without brand_id\n",
    "tweets = tweets[~tweets['brand_id'].isnull()]"
   ]
  },
  {
   "cell_type": "code",
   "execution_count": 6,
   "metadata": {
    "collapsed": true
   },
   "outputs": [],
   "source": [
    "# Identify which tweets are in the same conversation (customer case)\n",
    "tweets.sort_values(['cust_id', 'created_at'], inplace=True)\n",
    "tweets.reset_index(inplace=True)\n",
    "\n",
    "# Calculate the time difference (in seconds) bwetween a tweet and its previous tweet\n",
    "tweets['time_diff'] = tweets['created_at'].diff()\n",
    "tweets['time_diff'] = tweets['time_diff'].apply(lambda x:x.total_seconds())\n",
    "tweets['time_diff'] = tweets['time_diff'].apply(lambda x: 0 if x <0 else x)\n",
    "tweets['time_diff'] = tweets['time_diff'].fillna(0)\n",
    "\n",
    "tweets['case_id'] = 0\n",
    "tweets['time_diff'] = tweets['time_diff'].fillna(0) "
   ]
  },
  {
   "cell_type": "code",
   "execution_count": null,
   "metadata": {
    "collapsed": true
   },
   "outputs": [],
   "source": [
    "with open('./data/processed/tweets_step4_brand_cust.pkl', 'wb')as picklefile:\n",
    "    pickle.dump(tweets, picklefile)"
   ]
  },
  {
   "cell_type": "code",
   "execution_count": null,
   "metadata": {
    "collapsed": true
   },
   "outputs": [],
   "source": [
    "with open('./data/processed/tweets_step4_brand_cust.pkl', 'rb')as picklefile:\n",
    "    tweets = pickle.load(picklefile)"
   ]
  },
  {
   "cell_type": "markdown",
   "metadata": {},
   "source": [
    "### Carve out the support data for a particular brand"
   ]
  },
  {
   "cell_type": "code",
   "execution_count": 7,
   "metadata": {
    "collapsed": true
   },
   "outputs": [],
   "source": [
    "def analyze_brand(tweets, brand_cc_name):\n",
    "    ## Subset tweets according to brand\n",
    "    brand = tweets[tweets['brand_id'] == brand_cc_name]\n",
    "    brand.reset_index(inplace=True)\n",
    "    \n",
    "    ## Assign unique caseid for each conversation (interchange of tweets)\n",
    "    ## To avoid grouping different cases raised by the same customer at different time\n",
    "    ## We set the max threshold between subsequent tweets in a conversation as 2 days\n",
    "    caseid = 1\n",
    "    brand.loc[0, 'case_id'] = caseid\n",
    "    for row in range(1, brand.shape[0]):\n",
    "        if (row%1000 == 0):\n",
    "            print (row)\n",
    "        if ((brand.loc[row, 'cust_id'] != brand.loc[row-1, 'cust_id']) |\n",
    "            (brand.loc[row, 'time_diff'] > 3600*24*2)):\n",
    "            caseid = caseid + 1\n",
    "            brand.loc[row, 'time_diff'] = 0 # Set time between conversations as 0\n",
    "            brand.loc[row, 'case_id'] = caseid\n",
    "        else:\n",
    "            brand.loc[row, 'case_id'] = caseid\n",
    "    return brand"
   ]
  },
  {
   "cell_type": "code",
   "execution_count": 8,
   "metadata": {},
   "outputs": [
    {
     "name": "stderr",
     "output_type": "stream",
     "text": [
      "/Users/songlin/anaconda2/envs/Python36/lib/python3.6/site-packages/pandas/core/indexing.py:517: SettingWithCopyWarning: \n",
      "A value is trying to be set on a copy of a slice from a DataFrame.\n",
      "Try using .loc[row_indexer,col_indexer] = value instead\n",
      "\n",
      "See the caveats in the documentation: http://pandas.pydata.org/pandas-docs/stable/indexing.html#indexing-view-versus-copy\n",
      "  self.obj[item] = s\n"
     ]
    },
    {
     "name": "stdout",
     "output_type": "stream",
     "text": [
      "1000\n",
      "2000\n",
      "3000\n",
      "4000\n",
      "5000\n",
      "6000\n",
      "7000\n",
      "8000\n",
      "9000\n",
      "10000\n",
      "11000\n",
      "12000\n",
      "13000\n",
      "14000\n",
      "15000\n",
      "16000\n",
      "17000\n",
      "18000\n",
      "19000\n",
      "20000\n",
      "21000\n",
      "22000\n",
      "23000\n",
      "24000\n",
      "25000\n",
      "26000\n",
      "27000\n",
      "28000\n",
      "29000\n",
      "30000\n",
      "31000\n",
      "32000\n",
      "33000\n",
      "34000\n",
      "35000\n",
      "36000\n",
      "37000\n",
      "38000\n",
      "39000\n",
      "40000\n",
      "41000\n",
      "42000\n",
      "43000\n",
      "44000\n",
      "45000\n",
      "46000\n",
      "47000\n",
      "48000\n",
      "49000\n",
      "50000\n",
      "51000\n",
      "52000\n",
      "53000\n",
      "54000\n",
      "55000\n",
      "56000\n",
      "57000\n",
      "58000\n",
      "59000\n",
      "60000\n",
      "61000\n",
      "62000\n",
      "63000\n",
      "64000\n",
      "65000\n",
      "66000\n",
      "67000\n",
      "68000\n",
      "69000\n",
      "70000\n",
      "71000\n",
      "72000\n",
      "73000\n",
      "74000\n",
      "75000\n",
      "76000\n",
      "77000\n",
      "78000\n",
      "79000\n",
      "80000\n",
      "81000\n",
      "82000\n",
      "83000\n",
      "84000\n",
      "85000\n",
      "86000\n"
     ]
    }
   ],
   "source": [
    "# CAUTION! This function takes SUPER LONG TIME to run, 80k row takes 3 hours!\n",
    "spotify = analyze_brand(tweets, 'SpotifyCares')"
   ]
  },
  {
   "cell_type": "code",
   "execution_count": 9,
   "metadata": {
    "collapsed": true
   },
   "outputs": [],
   "source": [
    "with open('./data/processed/spotify.pkl', 'wb')as picklefile:\n",
    "    pickle.dump(spotify, picklefile)"
   ]
  },
  {
   "cell_type": "code",
   "execution_count": 3,
   "metadata": {
    "collapsed": true
   },
   "outputs": [],
   "source": [
    "with open('./data/processed/spotify.pkl', 'rb')as picklefile:\n",
    "    spotify = pickle.load(picklefile)"
   ]
  },
  {
   "cell_type": "markdown",
   "metadata": {},
   "source": [
    "### Remove ticket without solution and solution without ticket"
   ]
  },
  {
   "cell_type": "code",
   "execution_count": 4,
   "metadata": {
    "collapsed": true
   },
   "outputs": [],
   "source": [
    "conv_count = spotify.groupby('case_id')['case_id'].count()\n",
    "single_conv_index = conv_count[conv_count==1].index.tolist()\n",
    "spotify['single_conv'] = spotify['case_id'].apply(\n",
    "    lambda x: True if x in single_conv_index else False)\n",
    "\n",
    "# Remove the conversations with only one tweet (424 ) \n",
    "spotify = spotify[~spotify['single_conv']]\n",
    "spotify.drop('single_conv', axis=1, inplace=True)\n",
    "\n",
    "spotify.drop(['level_0', 'index'], axis=1, inplace=True)"
   ]
  },
  {
   "cell_type": "code",
   "execution_count": 5,
   "metadata": {
    "collapsed": true
   },
   "outputs": [],
   "source": [
    "ticket = spotify[spotify['inbound'] == True]\n",
    "solution = spotify[spotify['inbound'] == False]"
   ]
  },
  {
   "cell_type": "code",
   "execution_count": 10,
   "metadata": {},
   "outputs": [
    {
     "name": "stdout",
     "output_type": "stream",
     "text": [
      "28796\n"
     ]
    },
    {
     "data": {
      "text/plain": [
       "28794"
      ]
     },
     "execution_count": 10,
     "metadata": {},
     "output_type": "execute_result"
    }
   ],
   "source": [
    "print (len(ticket.case_id.unique()))\n",
    "len(solution.case_id.unique())"
   ]
  },
  {
   "cell_type": "code",
   "execution_count": 11,
   "metadata": {
    "collapsed": true
   },
   "outputs": [],
   "source": [
    "# Remove ticket without solution or solution without ticket \n",
    "# conversations with tweets from only customer or customer agents\n",
    "\n",
    "ticket = ticket.apply(\n",
    "    lambda x: x if (x[12] in solution['case_id'].unique()) else None, axis = 1)\n",
    "solution = solution.apply(\n",
    "    lambda x: x if (x[12] in ticket['case_id'].unique()) else None, axis = 1)"
   ]
  },
  {
   "cell_type": "code",
   "execution_count": 14,
   "metadata": {},
   "outputs": [
    {
     "data": {
      "text/html": [
       "<div>\n",
       "<style>\n",
       "    .dataframe thead tr:only-child th {\n",
       "        text-align: right;\n",
       "    }\n",
       "\n",
       "    .dataframe thead th {\n",
       "        text-align: left;\n",
       "    }\n",
       "\n",
       "    .dataframe tbody tr th {\n",
       "        vertical-align: top;\n",
       "    }\n",
       "</style>\n",
       "<table border=\"1\" class=\"dataframe\">\n",
       "  <thead>\n",
       "    <tr style=\"text-align: right;\">\n",
       "      <th></th>\n",
       "      <th>tweet_id</th>\n",
       "      <th>text</th>\n",
       "      <th>case_id</th>\n",
       "    </tr>\n",
       "  </thead>\n",
       "  <tbody>\n",
       "    <tr>\n",
       "      <th>0</th>\n",
       "      <td>2747480.0</td>\n",
       "      <td>uh why is there a limit on how many songs i ca...</td>\n",
       "      <td>1.0</td>\n",
       "    </tr>\n",
       "    <tr>\n",
       "      <th>2</th>\n",
       "      <td>2747479.0</td>\n",
       "      <td>cool cool cool i think i am finally ready to s...</td>\n",
       "      <td>1.0</td>\n",
       "    </tr>\n",
       "    <tr>\n",
       "      <th>4</th>\n",
       "      <td>2606352.0</td>\n",
       "      <td>there used to be a useful feature in ios app t...</td>\n",
       "      <td>2.0</td>\n",
       "    </tr>\n",
       "    <tr>\n",
       "      <th>6</th>\n",
       "      <td>2606351.0</td>\n",
       "      <td>taking features away will only make it easier ...</td>\n",
       "      <td>2.0</td>\n",
       "    </tr>\n",
       "    <tr>\n",
       "      <th>8</th>\n",
       "      <td>855.0</td>\n",
       "      <td>i’m pissed my shuffle and repeat button just d...</td>\n",
       "      <td>3.0</td>\n",
       "    </tr>\n",
       "    <tr>\n",
       "      <th>10</th>\n",
       "      <td>853.0</td>\n",
       "      <td>iphone 7+ and i have the most recent update fo...</td>\n",
       "      <td>3.0</td>\n",
       "    </tr>\n",
       "    <tr>\n",
       "      <th>12</th>\n",
       "      <td>850.0</td>\n",
       "      <td>premium &amp;amp; when i️ have it on shuffle it tu...</td>\n",
       "      <td>3.0</td>\n",
       "    </tr>\n",
       "    <tr>\n",
       "      <th>14</th>\n",
       "      <td>849.0</td>\n",
       "      <td>doesn’t work and i even tried deleting the app</td>\n",
       "      <td>3.0</td>\n",
       "    </tr>\n",
       "    <tr>\n",
       "      <th>16</th>\n",
       "      <td>862.0</td>\n",
       "      <td>groove music quits &amp;amp; redirect to spotify. ...</td>\n",
       "      <td>4.0</td>\n",
       "    </tr>\n",
       "    <tr>\n",
       "      <th>18</th>\n",
       "      <td>861.0</td>\n",
       "      <td>version is 5.2.4.0. 7 of 10 app starts it says...</td>\n",
       "      <td>4.0</td>\n",
       "    </tr>\n",
       "    <tr>\n",
       "      <th>19</th>\n",
       "      <td>858.0</td>\n",
       "      <td>2/2... and there is no way to manage albums (r...</td>\n",
       "      <td>4.0</td>\n",
       "    </tr>\n",
       "    <tr>\n",
       "      <th>21</th>\n",
       "      <td>857.0</td>\n",
       "      <td>yes, multiple times. no changes. i am premium ...</td>\n",
       "      <td>4.0</td>\n",
       "    </tr>\n",
       "    <tr>\n",
       "      <th>23</th>\n",
       "      <td>866.0</td>\n",
       "      <td>is there a way to find non-explicit songs that...</td>\n",
       "      <td>5.0</td>\n",
       "    </tr>\n",
       "    <tr>\n",
       "      <th>25</th>\n",
       "      <td>864.0</td>\n",
       "      <td>ok thx</td>\n",
       "      <td>5.0</td>\n",
       "    </tr>\n",
       "    <tr>\n",
       "      <th>27</th>\n",
       "      <td>893083.0</td>\n",
       "      <td>hey, im in need of assistance.</td>\n",
       "      <td>6.0</td>\n",
       "    </tr>\n",
       "    <tr>\n",
       "      <th>29</th>\n",
       "      <td>893082.0</td>\n",
       "      <td>i recently applied for student discount and wa...</td>\n",
       "      <td>6.0</td>\n",
       "    </tr>\n",
       "    <tr>\n",
       "      <th>31</th>\n",
       "      <td>893085.0</td>\n",
       "      <td>just sent</td>\n",
       "      <td>6.0</td>\n",
       "    </tr>\n",
       "    <tr>\n",
       "      <th>32</th>\n",
       "      <td>617753.0</td>\n",
       "      <td>i have a question</td>\n",
       "      <td>7.0</td>\n",
       "    </tr>\n",
       "    <tr>\n",
       "      <th>34</th>\n",
       "      <td>1875.0</td>\n",
       "      <td>why are my devices not doing the cool thing wh...</td>\n",
       "      <td>8.0</td>\n",
       "    </tr>\n",
       "    <tr>\n",
       "      <th>36</th>\n",
       "      <td>1869.0</td>\n",
       "      <td>using a macbook pro with os x el capitan and t...</td>\n",
       "      <td>8.0</td>\n",
       "    </tr>\n",
       "    <tr>\n",
       "      <th>38</th>\n",
       "      <td>1870.0</td>\n",
       "      <td>desktop app still not working, but i got to se...</td>\n",
       "      <td>8.0</td>\n",
       "    </tr>\n",
       "    <tr>\n",
       "      <th>40</th>\n",
       "      <td>1872.0</td>\n",
       "      <td>1.0.65.320.gac7a8e02</td>\n",
       "      <td>8.0</td>\n",
       "    </tr>\n",
       "    <tr>\n",
       "      <th>42</th>\n",
       "      <td>1878.0</td>\n",
       "      <td>why are nena's releases between 2002 and 2012 ...</td>\n",
       "      <td>9.0</td>\n",
       "    </tr>\n",
       "    <tr>\n",
       "      <th>44</th>\n",
       "      <td>1877.0</td>\n",
       "      <td>made in germany, du bist gut, cover me and 20 ...</td>\n",
       "      <td>9.0</td>\n",
       "    </tr>\n",
       "    <tr>\n",
       "      <th>47</th>\n",
       "      <td>2799.0</td>\n",
       "      <td>in other news should probs upgrade from shitty...</td>\n",
       "      <td>10.0</td>\n",
       "    </tr>\n",
       "    <tr>\n",
       "      <th>49</th>\n",
       "      <td>637662.0</td>\n",
       "      <td>so, , why did you even send me this email? you...</td>\n",
       "      <td>11.0</td>\n",
       "    </tr>\n",
       "    <tr>\n",
       "      <th>51</th>\n",
       "      <td>637660.0</td>\n",
       "      <td>you could offer the deal in quebec. why isn’t ...</td>\n",
       "      <td>11.0</td>\n",
       "    </tr>\n",
       "    <tr>\n",
       "      <th>53</th>\n",
       "      <td>637658.0</td>\n",
       "      <td>are you saying you can’t say why you’re not of...</td>\n",
       "      <td>11.0</td>\n",
       "    </tr>\n",
       "    <tr>\n",
       "      <th>55</th>\n",
       "      <td>2804.0</td>\n",
       "      <td>so : three days later you’re still advertising...</td>\n",
       "      <td>12.0</td>\n",
       "    </tr>\n",
       "    <tr>\n",
       "      <th>57</th>\n",
       "      <td>2802.0</td>\n",
       "      <td>montreal, where the ad itself says i’m not all...</td>\n",
       "      <td>12.0</td>\n",
       "    </tr>\n",
       "    <tr>\n",
       "      <th>...</th>\n",
       "      <td>...</td>\n",
       "      <td>...</td>\n",
       "      <td>...</td>\n",
       "    </tr>\n",
       "    <tr>\n",
       "      <th>86025</th>\n",
       "      <td>2984782.0</td>\n",
       "      <td>is your website down? keep getting the ‘uh oh’...</td>\n",
       "      <td>29203.0</td>\n",
       "    </tr>\n",
       "    <tr>\n",
       "      <th>86027</th>\n",
       "      <td>2984784.0</td>\n",
       "      <td>dude, i miss the message feature on spotify so...</td>\n",
       "      <td>29204.0</td>\n",
       "    </tr>\n",
       "    <tr>\n",
       "      <th>86029</th>\n",
       "      <td>2985574.0</td>\n",
       "      <td>i cannot find the email address linked to my p...</td>\n",
       "      <td>29205.0</td>\n",
       "    </tr>\n",
       "    <tr>\n",
       "      <th>86031</th>\n",
       "      <td>2985576.0</td>\n",
       "      <td>is there any possible way to shuffle a playlis...</td>\n",
       "      <td>29206.0</td>\n",
       "    </tr>\n",
       "    <tr>\n",
       "      <th>86033</th>\n",
       "      <td>2985578.0</td>\n",
       "      <td>so my spotify activity to facebook mysteriousl...</td>\n",
       "      <td>29207.0</td>\n",
       "    </tr>\n",
       "    <tr>\n",
       "      <th>86035</th>\n",
       "      <td>2985582.0</td>\n",
       "      <td>having trouble logging into my account</td>\n",
       "      <td>29208.0</td>\n",
       "    </tr>\n",
       "    <tr>\n",
       "      <th>86037</th>\n",
       "      <td>2986325.0</td>\n",
       "      <td>i created an account today. i cashed total 14,...</td>\n",
       "      <td>29209.0</td>\n",
       "    </tr>\n",
       "    <tr>\n",
       "      <th>86039</th>\n",
       "      <td>688097.0</td>\n",
       "      <td>49 ribu kalee</td>\n",
       "      <td>29210.0</td>\n",
       "    </tr>\n",
       "    <tr>\n",
       "      <th>86041</th>\n",
       "      <td>2986421.0</td>\n",
       "      <td>i was charged the full spotify premium fee but...</td>\n",
       "      <td>29211.0</td>\n",
       "    </tr>\n",
       "    <tr>\n",
       "      <th>86043</th>\n",
       "      <td>2986432.0</td>\n",
       "      <td>release radar is going off</td>\n",
       "      <td>29212.0</td>\n",
       "    </tr>\n",
       "    <tr>\n",
       "      <th>86045</th>\n",
       "      <td>2986431.0</td>\n",
       "      <td>“going off” meaning playing the good songs</td>\n",
       "      <td>29212.0</td>\n",
       "    </tr>\n",
       "    <tr>\n",
       "      <th>86048</th>\n",
       "      <td>2986557.0</td>\n",
       "      <td>i want to know how to use spotify with the pre...</td>\n",
       "      <td>29214.0</td>\n",
       "    </tr>\n",
       "    <tr>\n",
       "      <th>86050</th>\n",
       "      <td>2986555.0</td>\n",
       "      <td>thank you :*</td>\n",
       "      <td>29214.0</td>\n",
       "    </tr>\n",
       "    <tr>\n",
       "      <th>86052</th>\n",
       "      <td>2986582.0</td>\n",
       "      <td>how does the $0.99 cdn/mth promo work if i am ...</td>\n",
       "      <td>29215.0</td>\n",
       "    </tr>\n",
       "    <tr>\n",
       "      <th>86054</th>\n",
       "      <td>2986599.0</td>\n",
       "      <td>fb error reads “there is an error logging into...</td>\n",
       "      <td>29216.0</td>\n",
       "    </tr>\n",
       "    <tr>\n",
       "      <th>86056</th>\n",
       "      <td>2987399.0</td>\n",
       "      <td>what do i do???</td>\n",
       "      <td>29216.0</td>\n",
       "    </tr>\n",
       "    <tr>\n",
       "      <th>86058</th>\n",
       "      <td>2986606.0</td>\n",
       "      <td>hey i have a question.</td>\n",
       "      <td>29217.0</td>\n",
       "    </tr>\n",
       "    <tr>\n",
       "      <th>86060</th>\n",
       "      <td>2986604.0</td>\n",
       "      <td>well, i’m a premium member of spotify because ...</td>\n",
       "      <td>29217.0</td>\n",
       "    </tr>\n",
       "    <tr>\n",
       "      <th>86062</th>\n",
       "      <td>2987175.0</td>\n",
       "      <td>need help emailed and no the suggestions apply...</td>\n",
       "      <td>29218.0</td>\n",
       "    </tr>\n",
       "    <tr>\n",
       "      <th>86064</th>\n",
       "      <td>2987386.0</td>\n",
       "      <td>just got a 3,000 minute long spotify ad. pleas...</td>\n",
       "      <td>29219.0</td>\n",
       "    </tr>\n",
       "    <tr>\n",
       "      <th>86066</th>\n",
       "      <td>2987390.0</td>\n",
       "      <td>since the update 7 hours ago my app in android...</td>\n",
       "      <td>29220.0</td>\n",
       "    </tr>\n",
       "    <tr>\n",
       "      <th>86068</th>\n",
       "      <td>2987388.0</td>\n",
       "      <td>simple restart of my phone seems to have fixed...</td>\n",
       "      <td>29220.0</td>\n",
       "    </tr>\n",
       "    <tr>\n",
       "      <th>86070</th>\n",
       "      <td>2987392.0</td>\n",
       "      <td>i cannot seem to delete a playlist, and it is ...</td>\n",
       "      <td>29221.0</td>\n",
       "    </tr>\n",
       "    <tr>\n",
       "      <th>86072</th>\n",
       "      <td>2987397.0</td>\n",
       "      <td>got invited to a special invite but my email i...</td>\n",
       "      <td>29222.0</td>\n",
       "    </tr>\n",
       "    <tr>\n",
       "      <th>86074</th>\n",
       "      <td>2987396.0</td>\n",
       "      <td>just messaged!</td>\n",
       "      <td>29222.0</td>\n",
       "    </tr>\n",
       "    <tr>\n",
       "      <th>86075</th>\n",
       "      <td>2987401.0</td>\n",
       "      <td>hey guys, my family members cannot seem to be ...</td>\n",
       "      <td>29223.0</td>\n",
       "    </tr>\n",
       "    <tr>\n",
       "      <th>86077</th>\n",
       "      <td>2987685.0</td>\n",
       "      <td>i tried on many devices and browsers but does ...</td>\n",
       "      <td>29224.0</td>\n",
       "    </tr>\n",
       "    <tr>\n",
       "      <th>86079</th>\n",
       "      <td>2574107.0</td>\n",
       "      <td>here's the latest page, . if yr curious.</td>\n",
       "      <td>29225.0</td>\n",
       "    </tr>\n",
       "    <tr>\n",
       "      <th>86081</th>\n",
       "      <td>2574108.0</td>\n",
       "      <td>to be clear: i do not have you app installed n...</td>\n",
       "      <td>29225.0</td>\n",
       "    </tr>\n",
       "    <tr>\n",
       "      <th>86083</th>\n",
       "      <td>1490391.0</td>\n",
       "      <td></td>\n",
       "      <td>29226.0</td>\n",
       "    </tr>\n",
       "  </tbody>\n",
       "</table>\n",
       "<p>43363 rows × 3 columns</p>\n",
       "</div>"
      ],
      "text/plain": [
       "        tweet_id                                               text  case_id\n",
       "0      2747480.0  uh why is there a limit on how many songs i ca...      1.0\n",
       "2      2747479.0  cool cool cool i think i am finally ready to s...      1.0\n",
       "4      2606352.0  there used to be a useful feature in ios app t...      2.0\n",
       "6      2606351.0  taking features away will only make it easier ...      2.0\n",
       "8          855.0  i’m pissed my shuffle and repeat button just d...      3.0\n",
       "10         853.0  iphone 7+ and i have the most recent update fo...      3.0\n",
       "12         850.0  premium &amp; when i️ have it on shuffle it tu...      3.0\n",
       "14         849.0     doesn’t work and i even tried deleting the app      3.0\n",
       "16         862.0  groove music quits &amp; redirect to spotify. ...      4.0\n",
       "18         861.0  version is 5.2.4.0. 7 of 10 app starts it says...      4.0\n",
       "19         858.0  2/2... and there is no way to manage albums (r...      4.0\n",
       "21         857.0  yes, multiple times. no changes. i am premium ...      4.0\n",
       "23         866.0  is there a way to find non-explicit songs that...      5.0\n",
       "25         864.0                                             ok thx      5.0\n",
       "27      893083.0                     hey, im in need of assistance.      6.0\n",
       "29      893082.0  i recently applied for student discount and wa...      6.0\n",
       "31      893085.0                                          just sent      6.0\n",
       "32      617753.0                                  i have a question      7.0\n",
       "34        1875.0  why are my devices not doing the cool thing wh...      8.0\n",
       "36        1869.0  using a macbook pro with os x el capitan and t...      8.0\n",
       "38        1870.0  desktop app still not working, but i got to se...      8.0\n",
       "40        1872.0                               1.0.65.320.gac7a8e02      8.0\n",
       "42        1878.0  why are nena's releases between 2002 and 2012 ...      9.0\n",
       "44        1877.0  made in germany, du bist gut, cover me and 20 ...      9.0\n",
       "47        2799.0  in other news should probs upgrade from shitty...     10.0\n",
       "49      637662.0  so, , why did you even send me this email? you...     11.0\n",
       "51      637660.0  you could offer the deal in quebec. why isn’t ...     11.0\n",
       "53      637658.0  are you saying you can’t say why you’re not of...     11.0\n",
       "55        2804.0  so : three days later you’re still advertising...     12.0\n",
       "57        2802.0  montreal, where the ad itself says i’m not all...     12.0\n",
       "...          ...                                                ...      ...\n",
       "86025  2984782.0  is your website down? keep getting the ‘uh oh’...  29203.0\n",
       "86027  2984784.0  dude, i miss the message feature on spotify so...  29204.0\n",
       "86029  2985574.0  i cannot find the email address linked to my p...  29205.0\n",
       "86031  2985576.0  is there any possible way to shuffle a playlis...  29206.0\n",
       "86033  2985578.0  so my spotify activity to facebook mysteriousl...  29207.0\n",
       "86035  2985582.0             having trouble logging into my account  29208.0\n",
       "86037  2986325.0  i created an account today. i cashed total 14,...  29209.0\n",
       "86039   688097.0                                      49 ribu kalee  29210.0\n",
       "86041  2986421.0  i was charged the full spotify premium fee but...  29211.0\n",
       "86043  2986432.0                         release radar is going off  29212.0\n",
       "86045  2986431.0         “going off” meaning playing the good songs  29212.0\n",
       "86048  2986557.0  i want to know how to use spotify with the pre...  29214.0\n",
       "86050  2986555.0                                       thank you :*  29214.0\n",
       "86052  2986582.0  how does the $0.99 cdn/mth promo work if i am ...  29215.0\n",
       "86054  2986599.0  fb error reads “there is an error logging into...  29216.0\n",
       "86056  2987399.0                                    what do i do???  29216.0\n",
       "86058  2986606.0                             hey i have a question.  29217.0\n",
       "86060  2986604.0  well, i’m a premium member of spotify because ...  29217.0\n",
       "86062  2987175.0  need help emailed and no the suggestions apply...  29218.0\n",
       "86064  2987386.0  just got a 3,000 minute long spotify ad. pleas...  29219.0\n",
       "86066  2987390.0  since the update 7 hours ago my app in android...  29220.0\n",
       "86068  2987388.0  simple restart of my phone seems to have fixed...  29220.0\n",
       "86070  2987392.0  i cannot seem to delete a playlist, and it is ...  29221.0\n",
       "86072  2987397.0  got invited to a special invite but my email i...  29222.0\n",
       "86074  2987396.0                                     just messaged!  29222.0\n",
       "86075  2987401.0  hey guys, my family members cannot seem to be ...  29223.0\n",
       "86077  2987685.0  i tried on many devices and browsers but does ...  29224.0\n",
       "86079  2574107.0           here's the latest page, . if yr curious.  29225.0\n",
       "86081  2574108.0  to be clear: i do not have you app installed n...  29225.0\n",
       "86083  1490391.0                                                     29226.0\n",
       "\n",
       "[43363 rows x 3 columns]"
      ]
     },
     "execution_count": 14,
     "metadata": {},
     "output_type": "execute_result"
    }
   ],
   "source": [
    "ticket[['tweet_id', 'text', 'case_id']]"
   ]
  },
  {
   "cell_type": "code",
   "execution_count": 15,
   "metadata": {
    "collapsed": true
   },
   "outputs": [],
   "source": [
    "#ticket.text.fillna('', inplace=True)\n",
    "#solution.text.fillna('', inplace=True)\n",
    "ticket_agg = ticket.groupby('case_id')['text'].agg(lambda x:' '.join(x))\n",
    "solution_agg = solution.groupby('case_id')['text'].agg(lambda x:' '.join(x))"
   ]
  },
  {
   "cell_type": "code",
   "execution_count": null,
   "metadata": {
    "collapsed": true
   },
   "outputs": [],
   "source": [
    "spotify = spotify.apply(\n",
    "    lambda x: x if (x[10] in ticket['case_id'].unique()) else None, axis=1)"
   ]
  },
  {
   "cell_type": "code",
   "execution_count": 29,
   "metadata": {
    "collapsed": true
   },
   "outputs": [],
   "source": [
    "with open('./data/processed/ticket.pkl', 'wb')as picklefile:\n",
    "    pickle.dump(ticket, picklefile)\n",
    "with open('./data/processed/solution.pkl', 'wb')as picklefile:\n",
    "    pickle.dump(solution, picklefile)\n",
    "with open('./data/processed/ticket_agg.pkl', 'wb')as picklefile:\n",
    "    pickle.dump(ticket_agg, picklefile)\n",
    "with open('./data/processed/solution_agg.pkl', 'wb')as picklefile:\n",
    "    pickle.dump(solution_agg, picklefile)"
   ]
  },
  {
   "cell_type": "code",
   "execution_count": null,
   "metadata": {
    "collapsed": true
   },
   "outputs": [],
   "source": []
  },
  {
   "cell_type": "markdown",
   "metadata": {},
   "source": [
    "### Perform very basic sentiment analysis on last tweet from customer"
   ]
  },
  {
   "cell_type": "code",
   "execution_count": 54,
   "metadata": {
    "collapsed": true
   },
   "outputs": [],
   "source": [
    "cust_last_tweet = ticket.groupby('case_id')[['text','emoji', 'emoji_score']].last().reset_index()"
   ]
  },
  {
   "cell_type": "code",
   "execution_count": 55,
   "metadata": {
    "collapsed": true
   },
   "outputs": [],
   "source": [
    "vdanalyzer = vaderSentiment.vaderSentiment.SentimentIntensityAnalyzer()\n",
    "cust_last_tweet['vader_sentiment'] = cust_last_tweet['text'].apply(\n",
    "        lambda x:vdanalyzer.polarity_scores(x)['compound'])"
   ]
  },
  {
   "cell_type": "code",
   "execution_count": 56,
   "metadata": {
    "collapsed": true
   },
   "outputs": [],
   "source": [
    "sentiment_analyzer = nltk.sentiment.vader.SentimentIntensityAnalyzer()\n",
    "cust_last_tweet['ntlk_sentiment'] = cust_last_tweet['text'].apply(\n",
    "        lambda x:sentiment_analyzer.polarity_scores(x)['compound'])"
   ]
  },
  {
   "cell_type": "code",
   "execution_count": 58,
   "metadata": {
    "collapsed": true
   },
   "outputs": [],
   "source": [
    "cust_last_tweet.to_csv('./data/processed/processed_last_tweet_sentiment.csv', index=False)"
   ]
  },
  {
   "cell_type": "code",
   "execution_count": 60,
   "metadata": {
    "collapsed": true
   },
   "outputs": [],
   "source": [
    "cust_last_tweet = pd.read_csv('./data/processed/processed_last_tweet_sentiment.csv', index_col=None)"
   ]
  },
  {
   "cell_type": "code",
   "execution_count": 63,
   "metadata": {
    "collapsed": true
   },
   "outputs": [],
   "source": [
    "def get_overall_sentiment_score(row):\n",
    "    sentiment = ''\n",
    "    if (not math.isnan(row[3])):\n",
    "        if (row[3] >= 0.2):\n",
    "            sentiment = 'POS'\n",
    "        elif ((row[3] < 0.2) & (row[3] > -0.05)):\n",
    "            sentiment = 'NEU'\n",
    "        elif (row[3] <= -0.05):\n",
    "            sentiment = 'NEG'\n",
    "    elif (not math.isnan(row[5])):\n",
    "        if (row[5] >= 0.2):\n",
    "            sentiment = 'POS'\n",
    "        elif ((row[5] < 0.2) & (row[5] > -0.05)):\n",
    "            sentiment = 'NEU'\n",
    "        elif (row[5] <= -0.05):\n",
    "            sentiment = 'NEG'\n",
    "    return sentiment"
   ]
  },
  {
   "cell_type": "code",
   "execution_count": 64,
   "metadata": {
    "collapsed": true
   },
   "outputs": [],
   "source": [
    "cust_last_tweet[['emoji_score', 'ntlk_sentiment']] = cust_last_tweet[['emoji_score', 'ntlk_sentiment']].astype(float)\n",
    "cust_last_tweet['sentiment'] = cust_last_tweet.apply(lambda\n",
    "                        x:get_overall_sentiment_score(x), axis=1)"
   ]
  },
  {
   "cell_type": "code",
   "execution_count": 67,
   "metadata": {
    "collapsed": true
   },
   "outputs": [],
   "source": [
    "cust_last_tweet.to_csv('./data/processed/processed_last_tweet_sentiment.csv', index=False)"
   ]
  },
  {
   "cell_type": "code",
   "execution_count": 68,
   "metadata": {
    "collapsed": true
   },
   "outputs": [],
   "source": [
    "cust_last_tweet = pd.read_csv('./data/processed/processed_last_tweet_sentiment.csv', index_col=None)"
   ]
  },
  {
   "cell_type": "code",
   "execution_count": 70,
   "metadata": {
    "collapsed": true
   },
   "outputs": [],
   "source": [
    "spotify = pd.merge(spotify, cust_last_tweet[['case_id', 'sentiment']],\n",
    "                   left_on='case_id', right_on='case_id',\n",
    "                   how='left')"
   ]
  },
  {
   "cell_type": "code",
   "execution_count": 73,
   "metadata": {
    "collapsed": true
   },
   "outputs": [],
   "source": [
    "with open('./data/processed/tweets_step5_spotify_sentiment.pkl', 'wb')as picklefile:\n",
    "    pickle.dump(spotify, picklefile)"
   ]
  },
  {
   "cell_type": "code",
   "execution_count": 17,
   "metadata": {
    "collapsed": true
   },
   "outputs": [],
   "source": [
    "with open('./data/processed/tweets_step5_spotify_sentiment.pkl', 'rb')as picklefile:\n",
    "    spotify = pickle.load(picklefile)"
   ]
  },
  {
   "cell_type": "markdown",
   "metadata": {},
   "source": [
    "### Tweets preprocessing"
   ]
  },
  {
   "cell_type": "code",
   "execution_count": 4,
   "metadata": {},
   "outputs": [],
   "source": [
    "custom_stopwords = ['http', 'https', 'spotify', 'help', 'hi', 'spotifycares']\n",
    "my_stop_words = (text.ENGLISH_STOP_WORDS.union(custom_stopwords)\n",
    "                 .union(string.punctuation))"
   ]
  },
  {
   "cell_type": "code",
   "execution_count": 19,
   "metadata": {
    "collapsed": true
   },
   "outputs": [],
   "source": [
    "df_ticket = pd.DataFrame(ticket_agg)\n",
    "df_ticket.reset_index(inplace=True)"
   ]
  },
  {
   "cell_type": "code",
   "execution_count": 20,
   "metadata": {
    "collapsed": true
   },
   "outputs": [],
   "source": [
    "df_solution = pd.DataFrame(solution_agg)\n",
    "df_solution.reset_index(inplace=True)"
   ]
  },
  {
   "cell_type": "code",
   "execution_count": 22,
   "metadata": {
    "collapsed": true
   },
   "outputs": [],
   "source": [
    "cust_last_tweet = pd.read_csv('./data/processed/processed_last_tweet_sentiment.csv', index_col=None)"
   ]
  },
  {
   "cell_type": "code",
   "execution_count": 23,
   "metadata": {},
   "outputs": [],
   "source": [
    "df_ticket = pd.merge(df_ticket, cust_last_tweet[['case_id', 'sentiment']], left_on='case_id', right_on='case_id',\n",
    "                   how='left')"
   ]
  },
  {
   "cell_type": "code",
   "execution_count": 24,
   "metadata": {
    "collapsed": true
   },
   "outputs": [],
   "source": [
    "def text_preprocess(text):\n",
    "    tokens = word_tokenize(text)\n",
    "    lemmatize = WordNetLemmatizer()\n",
    "    clean_text = [lemmatize.lemmatize(token.lower().strip(), pos='a') for token in tokens]\n",
    "    clean_text = [x for x in clean_text if x not in my_stop_words]\n",
    "    return ' '.join(clean_text)"
   ]
  },
  {
   "cell_type": "code",
   "execution_count": 25,
   "metadata": {
    "collapsed": true
   },
   "outputs": [],
   "source": [
    "df_ticket['text'] = df_ticket.text.apply(lambda x:text_preprocess(x))"
   ]
  },
  {
   "cell_type": "code",
   "execution_count": 26,
   "metadata": {
    "collapsed": true
   },
   "outputs": [],
   "source": [
    "with open('./data/processed/tweets_step6_ticket_preprocessed.pkl', 'wb')as picklefile:\n",
    "    pickle.dump(df_ticket, picklefile)"
   ]
  },
  {
   "cell_type": "markdown",
   "metadata": {},
   "source": [
    "### Build recommendation engines"
   ]
  },
  {
   "cell_type": "code",
   "execution_count": 3,
   "metadata": {},
   "outputs": [
    {
     "data": {
      "text/plain": [
       "\"\\nwith open('./data/processed/engines.pkl', 'rb') as picklefile:\\n    engines = pickle.load(picklefile)\\n\\nengine_1 = engines[1]\\nengine_2 = engines[2]\\nengine_3 = engines[3]\\n\""
      ]
     },
     "execution_count": 3,
     "metadata": {},
     "output_type": "execute_result"
    }
   ],
   "source": [
    "## Read in files from previous steps\n",
    "with open('./data/processed/tweets_step6_ticket_preprocessed.pkl', 'rb')as picklefile:\n",
    "    df_ticket = pickle.load(picklefile)\n",
    "\n",
    "cust_last_tweet = pd.read_csv('./data/processed/processed_last_tweet_sentiment.csv', index_col=None)\n",
    "\n",
    "with open('./data/processed/ticket.pkl', 'rb')as picklefile:\n",
    "    ticket = pickle.load(picklefile)\n",
    "\n",
    "with open('./data/processed/solution.pkl', 'rb')as picklefile:\n",
    "    solution = pickle.load(picklefile)\n",
    "    \n",
    "with open('./data/processed/ticket_agg.pkl', 'rb')as picklefile:\n",
    "    ticket_agg = pickle.load(picklefile)\n",
    "\n",
    "with open('./data/processed/solution_agg.pkl', 'rb')as picklefile:\n",
    "    solution_agg = pickle.load(picklefile)\n",
    "'''\n",
    "with open('./data/processed/engines.pkl', 'rb') as picklefile:\n",
    "    engines = pickle.load(picklefile)\n",
    "\n",
    "engine_1 = engines[1]\n",
    "engine_2 = engines[2]\n",
    "engine_3 = engines[3]\n",
    "'''    "
   ]
  },
  {
   "cell_type": "code",
   "execution_count": 4,
   "metadata": {
    "collapsed": true
   },
   "outputs": [],
   "source": [
    "custom_stopwords = ['http', 'https', 'spotify', 'help', 'hi', 'spotifycares']\n",
    "my_stop_words = (text.ENGLISH_STOP_WORDS.union(custom_stopwords)\n",
    "                 .union(string.punctuation))"
   ]
  },
  {
   "cell_type": "code",
   "execution_count": 7,
   "metadata": {},
   "outputs": [
    {
     "ename": "AttributeError",
     "evalue": "Can't get attribute 'RecommendationEngine' on <module '__main__'>",
     "output_type": "error",
     "traceback": [
      "\u001b[0;31m---------------------------------------------------------------------------\u001b[0m",
      "\u001b[0;31mAttributeError\u001b[0m                            Traceback (most recent call last)",
      "\u001b[0;32m<ipython-input-7-1b4011677e13>\u001b[0m in \u001b[0;36m<module>\u001b[0;34m()\u001b[0m\n\u001b[1;32m      1\u001b[0m \u001b[0;32mwith\u001b[0m \u001b[0mopen\u001b[0m\u001b[0;34m(\u001b[0m\u001b[0;34m'./data/processed/engines.pkl'\u001b[0m\u001b[0;34m,\u001b[0m \u001b[0;34m'rb'\u001b[0m\u001b[0;34m)\u001b[0m \u001b[0;32mas\u001b[0m \u001b[0mpicklefile\u001b[0m\u001b[0;34m:\u001b[0m\u001b[0;34m\u001b[0m\u001b[0m\n\u001b[0;32m----> 2\u001b[0;31m     \u001b[0mengines\u001b[0m \u001b[0;34m=\u001b[0m \u001b[0mpickle\u001b[0m\u001b[0;34m.\u001b[0m\u001b[0mload\u001b[0m\u001b[0;34m(\u001b[0m\u001b[0mpicklefile\u001b[0m\u001b[0;34m)\u001b[0m\u001b[0;34m\u001b[0m\u001b[0m\n\u001b[0m\u001b[1;32m      3\u001b[0m \u001b[0;34m\u001b[0m\u001b[0m\n\u001b[1;32m      4\u001b[0m \u001b[0mengine_1\u001b[0m \u001b[0;34m=\u001b[0m \u001b[0mengines\u001b[0m\u001b[0;34m[\u001b[0m\u001b[0;36m1\u001b[0m\u001b[0;34m]\u001b[0m\u001b[0;34m\u001b[0m\u001b[0m\n\u001b[1;32m      5\u001b[0m \u001b[0mengine_2\u001b[0m \u001b[0;34m=\u001b[0m \u001b[0mengines\u001b[0m\u001b[0;34m[\u001b[0m\u001b[0;36m2\u001b[0m\u001b[0;34m]\u001b[0m\u001b[0;34m\u001b[0m\u001b[0m\n",
      "\u001b[0;31mAttributeError\u001b[0m: Can't get attribute 'RecommendationEngine' on <module '__main__'>"
     ]
    }
   ],
   "source": [
    "with open('./data/processed/engines.pkl', 'rb') as picklefile:\n",
    "    engines = pickle.load(picklefile)\n",
    "\n",
    "engine_1 = engines[1]\n",
    "engine_2 = engines[2]\n",
    "engine_3 = engines[3]"
   ]
  },
  {
   "cell_type": "code",
   "execution_count": 5,
   "metadata": {
    "collapsed": true
   },
   "outputs": [],
   "source": [
    "class RecommendationEngine:\n",
    "    def __init__(self, vectorizer, n_components, reducer, ticket, solution):\n",
    "        self.vectorizer = vectorizer\n",
    "        self.n_dim = n_components\n",
    "        self.reducer = reducer(n_components)\n",
    "        self.ticket = ticket\n",
    "        self.solution = solution\n",
    "        \n",
    "    def fit(self, df):\n",
    "        self.vector_data = self.vectorizer.fit_transform(df['text'])\n",
    "        self.topic_data = self.reducer.fit_transform(self.vector_data)\n",
    "        self.df = df_ticket\n",
    "    \n",
    "    def _print_recommendations(self, article, rec_list):\n",
    "        p = inflect.engine()\n",
    "        print('NEW MESSAGE:', article)\n",
    "        i = 1\n",
    "        for resp in self.df.loc[rec_list]['case_id']:\n",
    "            print(f'\\n---{p.ordinal(i)} SIMILAR CONVERSATION---\\n')\n",
    "            self._display_conversation(resp)\n",
    "            print('\\n')\n",
    "            i += 1\n",
    "    \n",
    "    def _display_conversation (self, case_id):\n",
    "        cust_conv = self.ticket[self.ticket['case_id'] == case_id][['created_at', 'inbound', 'text']]\n",
    "        agent_conv = self.solution[self.solution['case_id'] == case_id][['created_at', 'inbound', 'text']]\n",
    "        conv_list = pd.concat([cust_conv, agent_conv]).sort_values('created_at')\n",
    "        for i in range(conv_list.shape[0]):\n",
    "            if (conv_list.iloc[i]['inbound']):\n",
    "                print ('CUSTOMER:   ', colored(conv_list.iloc[i]['text'], 'red'))\n",
    "            else:\n",
    "                print ('AGENT:      ', colored(conv_list.iloc[i]['text'], 'green'))\n",
    "        \n",
    "    def recommend(self, article, num_to_return):\n",
    "        article_vectorized = self.vectorizer.transform([article])\n",
    "        article_topic_vector = self.reducer.transform(article_vectorized)\n",
    "        nn = NearestNeighbors(n_neighbors=num_to_return, metric='cosine', algorithm='brute')\n",
    "        \n",
    "        tmp = self.vectorizer.transform(self.df[self.df['sentiment']=='POS'].text)\n",
    "        tmp2 = self.reducer.transform(tmp)\n",
    "        \n",
    "        nn.fit(tmp2)\n",
    "        results = nn.kneighbors(article_topic_vector)\n",
    "        #result_texts = [self.texts[i] for i in results[1][0]]\n",
    "        rec_list = results[1][0]\n",
    "        print ('number of results: ', len(rec_list))\n",
    "        self._print_recommendations(article, rec_list)\n",
    "        \n",
    "        return rec_list\n",
    "    \n",
    "    def display_topics(self, no_top_words, topic_names=None):\n",
    "        feature_names = self.vectorizer.get_feature_names()\n",
    "        for ix, topic in enumerate(self.reducer.components_):\n",
    "            if not topic_names or not topic_names[ix]:\n",
    "                print(\"\\nTopic \", ix)\n",
    "            else:\n",
    "                print(\"\\nTopic: '\",topic_names[ix],\"'\")\n",
    "            print(\", \".join([feature_names[i]\n",
    "                for i in topic.argsort()[:-no_top_words - 1:-1]]))"
   ]
  },
  {
   "cell_type": "code",
   "execution_count": 6,
   "metadata": {
    "collapsed": true
   },
   "outputs": [],
   "source": [
    "ticket_origin = pd.merge(ticket_reserve[['tweet_id', 'created_at', 'inbound', 'text']], ticket[['tweet_id', 'case_id']], left_on='tweet_id', right_on='tweet_id', how='right')\n",
    "solution_origin = pd.merge(solution_reserve[['tweet_id', 'created_at', 'inbound', 'text']], solution[['tweet_id', 'case_id']], left_on='tweet_id', right_on='tweet_id', how='right')"
   ]
  },
  {
   "cell_type": "code",
   "execution_count": 7,
   "metadata": {},
   "outputs": [],
   "source": [
    "tfidf_vectorizer = TfidfVectorizer(ngram_range=(1, 2),  \n",
    "                                   stop_words=my_stop_words, \n",
    "                                   token_pattern=\"\\\\b[a-z][a-z]+\\\\b\",\n",
    "                                   lowercase=True,\n",
    "                                   max_df = 0.6)\n",
    "\n",
    "count_vectorizer = CountVectorizer(ngram_range=(1, 2),  \n",
    "                                   stop_words='english', \n",
    "                                   token_pattern=\"\\\\b[a-z][a-z]+\\\\b\",\n",
    "                                   lowercase=True,\n",
    "                                   max_df = 0.6)\n",
    "\n",
    "\n",
    "#tfidf_data = tfidf_vectorizer.fit_transform(list(df_ticket.text))"
   ]
  },
  {
   "cell_type": "code",
   "execution_count": 8,
   "metadata": {
    "collapsed": true
   },
   "outputs": [],
   "source": [
    "tfidf_data = tfidf_vectorizer.fit_transform(list(df_ticket.text))\n",
    "lsa_tfidf = TruncatedSVD(n_components=50)\n",
    "\n",
    "lsa_tfidf_data = lsa_tfidf.fit_transform(tfidf_data)"
   ]
  },
  {
   "cell_type": "code",
   "execution_count": 56,
   "metadata": {},
   "outputs": [],
   "source": [
    "engine_1 = RecommendationEngine(tfidf_vectorizer, n_components = 20, reducer = TruncatedSVD, ticket = ticket_origin, solution=solution_origin)\n",
    "topic_data = engine_1.fit(df_ticket)"
   ]
  },
  {
   "cell_type": "code",
   "execution_count": 57,
   "metadata": {
    "collapsed": true
   },
   "outputs": [],
   "source": [
    "engine_2 = RecommendationEngine(count_vectorizer, n_components = 20, reducer = NMF, ticket = ticket_origin, solution=solution_origin)\n",
    "engine_2.fit(df_ticket)"
   ]
  },
  {
   "cell_type": "code",
   "execution_count": 58,
   "metadata": {
    "collapsed": true
   },
   "outputs": [],
   "source": [
    "engine_3 = RecommendationEngine(tfidf_vectorizer, n_components = 20, reducer = NMF, ticket = ticket_origin, solution=solution_origin)\n",
    "engine_3.fit(df_ticket)"
   ]
  },
  {
   "cell_type": "code",
   "execution_count": 60,
   "metadata": {},
   "outputs": [],
   "source": [
    "engine_dict = {1:engine_1, 2:engine_2, 3:engine_3}"
   ]
  },
  {
   "cell_type": "code",
   "execution_count": 61,
   "metadata": {
    "collapsed": true
   },
   "outputs": [],
   "source": [
    "with open('./data/processed/engines.pkl', 'wb') as picklefile:\n",
    "    pickle.dump(engine_dict, picklefile)"
   ]
  },
  {
   "cell_type": "code",
   "execution_count": 63,
   "metadata": {
    "collapsed": true
   },
   "outputs": [],
   "source": [
    "cust_first_tweet = ticket.groupby('case_id')[['text']].first().reset_index()\n",
    "sample = cust_first_tweet.text[np.random.choice(cust_first_tweet.shape[0])]"
   ]
  },
  {
   "cell_type": "code",
   "execution_count": 77,
   "metadata": {
    "collapsed": true
   },
   "outputs": [],
   "source": [
    "index = 7"
   ]
  },
  {
   "cell_type": "code",
   "execution_count": 78,
   "metadata": {},
   "outputs": [
    {
     "name": "stdout",
     "output_type": "stream",
     "text": [
      "number of results:  3\n",
      "NEW MESSAGE: why are my devices not doing the cool thing when i play the #strangerthings albums on ?\n",
      "\n",
      "---1st SIMILAR CONVERSATION---\n",
      "\n",
      "CUSTOMER:    \u001b[31m@115888 @126761 @SpotifyCares can you add JLo's song Amor Amor Amor to this playlist https://t.co/BifyTOMt54\u001b[0m\n",
      "AGENT:       \u001b[32m@207448 Hey! Our Curation team are independent &amp; use taste, data, research, and trends to create playlists, but we’ll pass on your suggestion /GU\u001b[0m\n",
      "\n",
      "\n",
      "\n",
      "---2nd SIMILAR CONVERSATION---\n",
      "\n",
      "CUSTOMER:    \u001b[31m@115888 is it possible to get a discount on Spotify Premium for Family by paying for a whole year all at once?\u001b[0m\n",
      "AGENT:       \u001b[32m@262532 Hi Andy! Right now, it isn't possible to sign up for a full year of Premium for Family, but you can sign up for the Annual Discount then upgrade to Premium for Family. Note that this will move your renewal date forward due to the difference in pricing. Hope this helped 🙂 /DB\u001b[0m\n",
      "\n",
      "\n",
      "\n",
      "---3rd SIMILAR CONVERSATION---\n",
      "\n",
      "CUSTOMER:    \u001b[31m@SpotifyCares hey, I already sent you a dm, I'm having some issues with deleting my account (my username is tygersson)\u001b[0m\n",
      "AGENT:       \u001b[32m@208174 Hey there! Apologies for the delay. We've just sent you a bit more info over DM. We'll carry on helping out there /CP\u001b[0m\n",
      "\n",
      "\n"
     ]
    },
    {
     "data": {
      "text/plain": [
       "array([3257, 5458, 3288])"
      ]
     },
     "execution_count": 78,
     "metadata": {},
     "output_type": "execute_result"
    }
   ],
   "source": [
    "engine_1.recommend(cust_first_tweet.text[index], 3)"
   ]
  },
  {
   "cell_type": "code",
   "execution_count": 70,
   "metadata": {},
   "outputs": [
    {
     "name": "stdout",
     "output_type": "stream",
     "text": [
      "\n",
      "Topic  0\n",
      "account, premium, family, student, just, need, email, premium account, app, thanks\n",
      "\n",
      "Topic  1\n",
      "account, premium, student, premium account, charged, email, family, hulu, facebook, hacked\n",
      "\n",
      "Topic  2\n",
      "dm, sent, sent dm, need, check, check dm, thanks, account, email, thank\n",
      "\n",
      "Topic  3\n",
      "premium, dm, student, charged, family, discount, sent, student discount, month, sent dm\n",
      "\n",
      "Topic  4\n",
      "app, iphone, update, student, charged, dm, app iphone, discount, update app, student discount\n",
      "\n",
      "Topic  5\n",
      "need, reputation, student, charged, thank, album, discount, student discount, available, hulu\n",
      "\n",
      "Topic  6\n",
      "need, family, iphone, app, update, premium, plan, family plan, need account, app iphone\n",
      "\n",
      "Topic  7\n",
      "reputation, iphone, update, thank, app, available, reputation available, app iphone, update app, family\n",
      "\n",
      "Topic  8\n",
      "thank, need, family, thank thank, dm thank, iphone, plan, account thank, thank guys, family plan\n",
      "\n",
      "Topic  9\n",
      "thanks, student, family, plan, email, family plan, discount, student discount, charged, update\n",
      "\n",
      "Topic  10\n",
      "thanks, premium, premium account, thank, free, need, cancel, paid, working, paid premium\n",
      "\n",
      "Topic  11\n",
      "email, password, address, email address, premium, reset, log, changed, got, just\n",
      "\n",
      "Topic  12\n",
      "apple, watch, app, apple watch, music, watch app, reputation, account, apple music, thanks\n",
      "\n",
      "Topic  13\n",
      "album, new, new album, apple, watch, apple watch, music, app, watch app, taylor\n",
      "\n",
      "Topic  14\n",
      "having, log, work, working, issues, card, does, payment, having issues, tried\n",
      "\n",
      "Topic  15\n",
      "charged, twice, charged twice, month, fix, got, log, just, free, got charged\n",
      "\n",
      "Topic  16\n",
      "music, payment, update, card, want, just, subscription, listen, credit, update payment\n",
      "\n",
      "Topic  17\n",
      "having, issues, having issues, charged, songs, trouble, having trouble, fix, twice, problem\n",
      "\n",
      "Topic  18\n",
      "log, facebook, playlist, cancel, working, songs, password, login, log account, subscription\n",
      "\n",
      "Topic  19\n",
      "music, log, iphone, having, listen, issues, having issues, facebook, premium, student\n"
     ]
    }
   ],
   "source": [
    "engine_1.display_topics(10)"
   ]
  },
  {
   "cell_type": "code",
   "execution_count": 71,
   "metadata": {},
   "outputs": [
    {
     "name": "stdout",
     "output_type": "stream",
     "text": [
      "number of results:  3\n",
      "NEW MESSAGE: there used to be a useful feature in ios app that allowed user to hear sample of song by touch+hold on song. gone?\n",
      "\n",
      "---1st SIMILAR CONVERSATION---\n",
      "\n",
      "CUSTOMER:    \u001b[31m@SpotifyCares My account suddenly logged me out on all devices, won't let me reset my  password and says account no longer exists... Any ideas on why this is?\u001b[0m\n",
      "AGENT:       \u001b[32m@226669 Hi there! That doesn't sound good. Can you DM us your account's username or email address? We'll take a look under the hood /DN https://t.co/ldFdZRiNAt\u001b[0m\n",
      "\n",
      "\n",
      "\n",
      "---2nd SIMILAR CONVERSATION---\n",
      "\n",
      "CUSTOMER:    \u001b[31m@115888 @SpotifyCares\u001b[0m\n",
      "AGENT:       \u001b[32m@379150 Hey there! We'd love to have it on Spotify, but there's info about content here: https://t.co/0i8GpimuDa /KB\u001b[0m\n",
      "CUSTOMER:    \u001b[31m@SpotifyCares there’s no content warning put it on or i’m leaving your app\u001b[0m\n",
      "AGENT:       \u001b[32m@379150 We hear you. Rest assured, your feedback will be passed on to the right folks /NS\u001b[0m\n",
      "\n",
      "\n",
      "\n",
      "---3rd SIMILAR CONVERSATION---\n",
      "\n",
      "CUSTOMER:    \u001b[31mhey @115888 why isn’t spotify premium for students available to high school students too. we’re struggling too man :/\u001b[0m\n",
      "AGENT:       \u001b[32m@402826 Hey there! We don't have info to share on this, but you can vote for the official idea here: https://t.co/B79Dww7rFK /PB\u001b[0m\n",
      "CUSTOMER:    \u001b[31m@SpotifyCares ok so i understand u making a family discount but that’s not what we wanted bros :/\u001b[0m\n",
      "AGENT:       \u001b[32m@402826 Thanks for sharing your thoughts. No worries, we'll pass the suggestion to the relevant team /PB\u001b[0m\n",
      "CUSTOMER:    \u001b[31m@SpotifyCares thank u i love u\u001b[0m\n",
      "AGENT:       \u001b[32m@402826 Aww, you're making us blush, but we... https://t.co/Rkb5PJblbW. Let us know if you need anything else /PB\u001b[0m\n",
      "\n",
      "\n"
     ]
    },
    {
     "data": {
      "text/plain": [
       "array([ 3977,  9975, 10838])"
      ]
     },
     "execution_count": 71,
     "metadata": {},
     "output_type": "execute_result"
    }
   ],
   "source": [
    "engine_2.recommend(cust_first_tweet.text[index], 3)"
   ]
  },
  {
   "cell_type": "code",
   "execution_count": 72,
   "metadata": {},
   "outputs": [
    {
     "name": "stdout",
     "output_type": "stream",
     "text": [
      "number of results:  3\n",
      "NEW MESSAGE: there used to be a useful feature in ios app that allowed user to hear sample of song by touch+hold on song. gone?\n",
      "\n",
      "---1st SIMILAR CONVERSATION---\n",
      "\n",
      "CUSTOMER:    \u001b[31mWhy is Here we go again - Trina ft Kelly rowland not on @115888 yet 🙄 gummmoonnn\u001b[0m\n",
      "AGENT:       \u001b[32m@413410 Hi there, we're here to help. What country is your account set to? We'll take a look backstage /AK\u001b[0m\n",
      "CUSTOMER:    \u001b[31m@SpotifyCares New Zealand .\u001b[0m\n",
      "AGENT:       \u001b[32m@413410 Thanks. Fingers crossed we'll be able to have it soon, but there's info about Spotify content here: https://t.co/0i8GpimuDa /AK\u001b[0m\n",
      "\n",
      "\n",
      "\n",
      "---2nd SIMILAR CONVERSATION---\n",
      "\n",
      "CUSTOMER:    \u001b[31m@SpotifyCares why do my playlists say \"by Spotify\" all of a sudden? I can't add/edit anymore. Don't want to re-make them. #spotify #help\u001b[0m\n",
      "AGENT:       \u001b[32m@334796 Hey Anahid! Can you send us the link to the playlist that you're trying to edit? Just tap the three dots &gt; Share &gt; Copy Link /MG\u001b[0m\n",
      "CUSTOMER:    \u001b[31m@SpotifyCares It's happened to all my playlists but here's one https://t.co/OSDIkczgLP\u001b[0m\n",
      "AGENT:       \u001b[32m@334796 Thanks! Could you DM us your account's username and email address? We'll take a look backstage /JL https://t.co/ldFdZRiNAt\u001b[0m\n",
      "\n",
      "\n",
      "\n",
      "---3rd SIMILAR CONVERSATION---\n",
      "\n",
      "CUSTOMER:    \u001b[31mi really can’t stand that @SpotifyCares @117168 stopped making certain playlists shuffle-able 🙄\u001b[0m\n",
      "AGENT:       \u001b[32m@278542 Hey, that doesn't sound right. Can you let us know the device, operating system, and Spotify version you're using? We'll check backstage /JE\u001b[0m\n",
      "CUSTOMER:    \u001b[31m@SpotifyCares I have an iPhone 8 running iOS 11.1 and most current Spotify. See a playlist like Rap Caviar. Only a play option, no shuffle.\u001b[0m\n",
      "AGENT:       \u001b[32m@278542 1: Thanks. Everything seems to check out on our end. Can you try tapping a specific song from that playlist...\u001b[0m\n",
      "AGENT:       \u001b[32m@278542 2: then hitting the shuffle button on the Now Playing view? Let us know how everything goes /JE\u001b[0m\n",
      "CUSTOMER:    \u001b[31m@SpotifyCares That works. I just miss the functionality to select \"shuffle\" when first opening a playlist, the way it used to be.\u001b[0m\n",
      "AGENT:       \u001b[32m@278542 We understand. Could you DM us your account's email address or username? We'll take a look behind the scenes /JE https://t.co/ldFdZRiNAt\u001b[0m\n",
      "\n",
      "\n"
     ]
    },
    {
     "data": {
      "text/plain": [
       "array([11295,  8434,  6286])"
      ]
     },
     "execution_count": 72,
     "metadata": {},
     "output_type": "execute_result"
    }
   ],
   "source": [
    "engine_3.recommend(cust_first_tweet.text[index], 3)"
   ]
  },
  {
   "cell_type": "markdown",
   "metadata": {},
   "source": [
    "### Try word2vec model"
   ]
  },
  {
   "cell_type": "code",
   "execution_count": 29,
   "metadata": {
    "collapsed": true
   },
   "outputs": [],
   "source": [
    "# Function to take a document as a list of words and return the document vector\n",
    "def get_doc_vec(words, model):\n",
    "    good_words = []\n",
    "    for word in words:\n",
    "        # Words not in the original model will fail\n",
    "        try:\n",
    "            if model.wv[word] is not None:\n",
    "                good_words.append(word)\n",
    "        except:\n",
    "            continue\n",
    "    # If no words are in the original model\n",
    "    if len(good_words) == 0:\n",
    "        return [0.0]*300\n",
    "    # Return the mean of the vectors for all the good words\n",
    "    return model.wv[good_words].mean(axis=0)"
   ]
  },
  {
   "cell_type": "code",
   "execution_count": 30,
   "metadata": {},
   "outputs": [],
   "source": [
    "google_vec_file = '~/Downloads/GoogleNews-vectors-negative300.bin'\n",
    "google_model = gensim.models.KeyedVectors.load_word2vec_format(google_vec_file, binary=True)"
   ]
  },
  {
   "cell_type": "code",
   "execution_count": 31,
   "metadata": {
    "collapsed": true
   },
   "outputs": [],
   "source": [
    "def print_recommendations(df, article, rec_list):\n",
    "    p = inflect.engine()\n",
    "    print('NEW MESSAGE:', article)\n",
    "    i = 1\n",
    "    for resp in df.loc[rec_list]['case_id']:\n",
    "        print(f'\\n---{p.ordinal(i)} SIMILAR CONVERSATION---\\n')\n",
    "        display_conversation(resp)\n",
    "        print('\\n')\n",
    "        i += 1\n",
    "\n",
    "def display_conversation (case_id):\n",
    "    cust_conv = ticket[ticket['case_id'] == case_id][['created_at', 'inbound', 'text']]\n",
    "    agent_conv = solution[solution['case_id'] == case_id][['created_at', 'inbound', 'text']]\n",
    "    conv_list = pd.concat([cust_conv, agent_conv]).sort_values('created_at')\n",
    "    for i in range(conv_list.shape[0]):\n",
    "        if (conv_list.iloc[i]['inbound']):\n",
    "            print ('CUSTOMER:   ', colored(conv_list.iloc[i]['text'], 'red'))\n",
    "        else:\n",
    "            print ('AGENT:      ', colored(conv_list.iloc[i]['text'], 'green'))"
   ]
  },
  {
   "cell_type": "code",
   "execution_count": 32,
   "metadata": {},
   "outputs": [],
   "source": [
    "def recommend_word2vec(df, model, num_to_return, article):\n",
    "    tmp = df[df['sentiment']=='POS'].text\n",
    "    ticket_google_vecs = tmp.map(lambda x: get_doc_vec(x.split(), model))\n",
    "    df_ticket_google = pd.DataFrame(ticket_google_vecs.values.tolist())\n",
    "    nn = NearestNeighbors(n_neighbors=num_to_return, metric='cosine', algorithm='brute')\n",
    "    nn.fit(df_ticket_google)\n",
    "    new_vecs = get_doc_vec(article.split(), model)\n",
    "    tmp2 = pd.DataFrame([new_vecs.tolist()])\n",
    "    rec_list = nn.kneighbors(tmp2)[1][0].tolist()\n",
    "    \n",
    "    print_recommendations(df, article, rec_list)\n",
    "    return "
   ]
  },
  {
   "cell_type": "code",
   "execution_count": 92,
   "metadata": {},
   "outputs": [
    {
     "name": "stderr",
     "output_type": "stream",
     "text": [
      "/Users/songlin/anaconda2/envs/Python36/lib/python3.6/site-packages/ipykernel_launcher.py:7: DeprecationWarning: Call to deprecated `wv` (Attribute will be removed in 4.0.0, use self instead).\n",
      "  import sys\n",
      "/Users/songlin/anaconda2/envs/Python36/lib/python3.6/site-packages/ipykernel_launcher.py:15: DeprecationWarning: Call to deprecated `wv` (Attribute will be removed in 4.0.0, use self instead).\n",
      "  from ipykernel import kernelapp as app\n"
     ]
    },
    {
     "name": "stdout",
     "output_type": "stream",
     "text": [
      "NEW MESSAGE: why are my devices not doing the cool thing when i play the #strangerthings albums on ?\n",
      "\n",
      "---1st SIMILAR CONVERSATION---\n",
      "\n",
      "CUSTOMER:    \u001b[31many plans to improve queue functionality? (queuing on web player, clearing queue on android)\u001b[0m\n",
      "AGENT:       \u001b[32mhey there! we do not have any info on this right now, but we will let the right team know it is something you had like to see /mx\u001b[0m\n",
      "\n",
      "\n",
      "\n",
      "---2nd SIMILAR CONVERSATION---\n",
      "\n",
      "CUSTOMER:    \u001b[31manyone else's just randomly stop and close on #android. it is daily on my #galaxys8. so annoying. , can you shed light?\u001b[0m\n",
      "AGENT:       \u001b[32mhey dan, help's here! could you dm us your device, operating system, and spotify version? we will take a look /q\u001b[0m\n",
      "\n",
      "\n",
      "\n",
      "---3rd SIMILAR CONVERSATION---\n",
      "\n",
      "CUSTOMER:    \u001b[31mi just paid for premium service via your webpage with facebook login yet my account is still showing only free service.\u001b[0m\n",
      "AGENT:       \u001b[32mhey marcy, we are here to help! could you dm us your account's email address? we will take a look backstage /bx\u001b[0m\n",
      "\n",
      "\n"
     ]
    }
   ],
   "source": [
    "recommend_word2vec(df_ticket, google_model, 3, cust_first_tweet.text[index])"
   ]
  },
  {
   "cell_type": "code",
   "execution_count": 35,
   "metadata": {},
   "outputs": [
    {
     "name": "stderr",
     "output_type": "stream",
     "text": [
      "/Users/songlin/anaconda2/envs/Python36/lib/python3.6/site-packages/ipykernel_launcher.py:7: DeprecationWarning: Call to deprecated `wv` (Attribute will be removed in 4.0.0, use self instead).\n",
      "  import sys\n",
      "/Users/songlin/anaconda2/envs/Python36/lib/python3.6/site-packages/ipykernel_launcher.py:15: DeprecationWarning: Call to deprecated `wv` (Attribute will be removed in 4.0.0, use self instead).\n",
      "  from ipykernel import kernelapp as app\n"
     ]
    }
   ],
   "source": [
    "tmp = df_ticket[df_ticket['sentiment']=='POS'].text\n",
    "ticket_google_vecs = tmp.map(lambda x: get_doc_vec(x.split(), google_model))\n",
    "df_ticket_google = pd.DataFrame(ticket_google_vecs.values.tolist())"
   ]
  },
  {
   "cell_type": "code",
   "execution_count": 38,
   "metadata": {},
   "outputs": [
    {
     "data": {
      "text/plain": [
       "(11981, 300)"
      ]
     },
     "execution_count": 38,
     "metadata": {},
     "output_type": "execute_result"
    }
   ],
   "source": [
    "df_ticket_google.shape"
   ]
  },
  {
   "cell_type": "markdown",
   "metadata": {},
   "source": [
    "### Perform Clustering"
   ]
  },
  {
   "cell_type": "markdown",
   "metadata": {},
   "source": [
    "### DBSCAN"
   ]
  },
  {
   "cell_type": "code",
   "execution_count": 239,
   "metadata": {},
   "outputs": [
    {
     "data": {
      "image/png": "[encoded data removed]",
      "text/plain": [
       "<matplotlib.figure.Figure at 0x1ab6682080>"
      ]
     },
     "metadata": {},
     "output_type": "display_data"
    }
   ],
   "source": [
    "X = StandardScaler().fit_transform(lsa_tfidf_data)\n",
    "db = DBSCAN(eps=0.15, min_samples=3).fit(X)\n",
    "\n",
    "core_samples_mask = np.zeros_like(db.labels_, dtype=bool)\n",
    "core_samples_mask[db.core_sample_indices_] = True\n",
    "labels = db.labels_\n",
    "\n",
    "# Number of clusters in labels, ignoring noise if present.\n",
    "n_clusters_ = len(set(labels)) - (1 if -1 in labels else 0)\n",
    "\n",
    "unique_labels = set(labels)\n",
    "colors = plt.cm.rainbow(np.linspace(0, 1, len(unique_labels)))\n",
    "plt.figure(dpi=200)\n",
    "show_core = True\n",
    "show_non_core = True\n",
    "for k, col in zip(unique_labels, colors):\n",
    "    if k == -1:\n",
    "        # Black used for noise.\n",
    "        col = 'k'\n",
    "\n",
    "    class_member_mask = (labels == k)\n",
    "    if show_core:\n",
    "        xy = X[class_member_mask & core_samples_mask]\n",
    "        x, y = xy[:,0], xy[:,1]\n",
    "        plt.scatter(x, y, c=col, edgecolors='k',  s=20, linewidths=1.1)\n",
    "    \n",
    "    if show_non_core:\n",
    "        xy = X[class_member_mask & ~core_samples_mask]\n",
    "        x, y = xy[:,0], xy[:,1]\n",
    "        plt.scatter(x, y, c=col, s=20, linewidths=1.1)\n",
    "\n",
    "plt.title('Estimated number of clusters: %d' % n_clusters_);"
   ]
  },
  {
   "cell_type": "markdown",
   "metadata": {},
   "source": [
    "### Mean Shift"
   ]
  },
  {
   "cell_type": "code",
   "execution_count": 237,
   "metadata": {},
   "outputs": [
    {
     "name": "stdout",
     "output_type": "stream",
     "text": [
      "number of estimated clusters : 18211\n"
     ]
    }
   ],
   "source": [
    "# The following bandwidth can be automatically detected using\n",
    "bandwidth = estimate_bandwidth(lsa_tfidf_data, quantile=0.2, n_samples=500)\n",
    "\n",
    "ms = MeanShift(bandwidth=bandwidth, bin_seeding=True)\n",
    "ms.fit(X)\n",
    "labels = ms.labels_\n",
    "cluster_centers = ms.cluster_centers_\n",
    "\n",
    "labels_unique = np.unique(labels)\n",
    "n_clusters_ = len(labels_unique)\n",
    "\n",
    "print(\"number of estimated clusters : %d\" % n_clusters_)"
   ]
  },
  {
   "cell_type": "code",
   "execution_count": 240,
   "metadata": {},
   "outputs": [
    {
     "data": {
      "text/plain": [
       "<matplotlib.figure.Figure at 0x1a99553a90>"
      ]
     },
     "metadata": {},
     "output_type": "display_data"
    },
    {
     "data": {
      "image/png": "[encoded data removed]",
      "text/plain": [
       "<matplotlib.figure.Figure at 0x1ad16f1940>"
      ]
     },
     "metadata": {},
     "output_type": "display_data"
    }
   ],
   "source": [
    "\n",
    "\n",
    "plt.figure(1)\n",
    "plt.clf()\n",
    "plt.figure(dpi=200)\n",
    "colors = cycle('byrcmykbgrcmykbgrcmykbgrcmyk')\n",
    "for k, col in zip(range(n_clusters_), colors):\n",
    "    my_members = labels == k\n",
    "    cluster_center = cluster_centers[k]\n",
    "    plt.plot(X[my_members, 0], X[my_members, 1], col + '.')\n",
    "    plt.plot(cluster_center[0], cluster_center[1], 'X', markerfacecolor='k',\n",
    "             markeredgecolor='k', markersize=14)\n",
    "plt.title('Estimated number of clusters: %d' % n_clusters_);"
   ]
  },
  {
   "cell_type": "markdown",
   "metadata": {},
   "source": [
    "### KMeans"
   ]
  },
  {
   "cell_type": "code",
   "execution_count": 13,
   "metadata": {
    "collapsed": true
   },
   "outputs": [],
   "source": [
    "def get_cluster_centers(X, labels, k_num):\n",
    "    CC_list = []\n",
    "    for k in range(k_num):\n",
    "        # get the mean coordinates of each cluster\n",
    "        CC_list.append(np.mean(X[labels == k], axis = 0))\n",
    "    return CC_list\n",
    "\n",
    "# for each cluster substract the mean from each data point to get the error\n",
    "# then get the magnitude of each error, square it, and sum it\n",
    "def get_SSE(X, labels):\n",
    "    k_num = len(np.unique(labels))\n",
    "    CC_list = get_cluster_centers(X, labels, k_num)\n",
    "    CSEs = []\n",
    "    for k in range(k_num):\n",
    "        # for each cluster of k we get the coordinates of how far off each point is to the cluster\n",
    "        error_cords = X[labels == k] - CC_list[k]\n",
    "        # square the coordinates and sum to get the magnitude squared\n",
    "        error_cords_sq = error_cords ** 2\n",
    "        error_mag_sq = np.sum(error_cords_sq, axis = 1)\n",
    "        # since we already have the magnitude of the error squared we can just take the sum for the cluster\n",
    "        CSE = np.sum(error_mag_sq)\n",
    "        CSEs.append(CSE)\n",
    "    # sum each cluster's sum of squared errors\n",
    "    return sum(CSEs)"
   ]
  },
  {
   "cell_type": "code",
   "execution_count": 9,
   "metadata": {},
   "outputs": [
    {
     "data": {
      "text/plain": [
       "(28787, 50)"
      ]
     },
     "execution_count": 9,
     "metadata": {},
     "output_type": "execute_result"
    }
   ],
   "source": [
    "lsa_tfidf_data.shape"
   ]
  },
  {
   "cell_type": "code",
   "execution_count": 42,
   "metadata": {},
   "outputs": [
    {
     "name": "stdout",
     "output_type": "stream",
     "text": [
      "clustering trial: 2\n",
      "clustering trial: 6\n",
      "clustering trial: 10\n",
      "clustering trial: 14\n",
      "clustering trial: 18\n",
      "clustering trial: 22\n",
      "clustering trial: 26\n",
      "clustering trial: 30\n",
      "clustering trial: 34\n",
      "clustering trial: 38\n",
      "clustering trial: 42\n",
      "clustering trial: 46\n",
      "clustering trial: 50\n",
      "clustering trial: 54\n",
      "clustering trial: 58\n",
      "clustering trial: 62\n",
      "clustering trial: 66\n",
      "clustering trial: 70\n",
      "clustering trial: 74\n",
      "clustering trial: 78\n",
      "clustering trial: 82\n",
      "clustering trial: 86\n",
      "clustering trial: 90\n",
      "clustering trial: 94\n",
      "clustering trial: 98\n"
     ]
    }
   ],
   "source": [
    "SSEs = []\n",
    "Sil_coefs = []\n",
    "X = StandardScaler().fit_transform(lsa_tfidf_data)\n",
    "for k in range(2,100,4):\n",
    "    print ('clustering trial:', k)\n",
    "    km = KMeans(n_clusters=k, random_state=1)\n",
    "    km.fit(X)\n",
    "    labels = km.labels_\n",
    "    #Sil_coefs.append(metrics.silhouette_score(lsa_tfidf_data, labels, metric='euclidean'))\n",
    "    SSEs.append(get_SSE(X, labels)) # The SSE is just inertia, we could have just said km.inertia_"
   ]
  },
  {
   "cell_type": "code",
   "execution_count": 43,
   "metadata": {},
   "outputs": [
    {
     "name": "stdout",
     "output_type": "stream",
     "text": [
      "clustering trial: 2\n",
      "clustering trial: 6\n",
      "clustering trial: 10\n",
      "clustering trial: 14\n",
      "clustering trial: 18\n",
      "clustering trial: 22\n",
      "clustering trial: 26\n",
      "clustering trial: 30\n",
      "clustering trial: 34\n",
      "clustering trial: 38\n",
      "clustering trial: 42\n",
      "clustering trial: 46\n",
      "clustering trial: 50\n",
      "clustering trial: 54\n",
      "clustering trial: 58\n",
      "clustering trial: 62\n",
      "clustering trial: 66\n",
      "clustering trial: 70\n",
      "clustering trial: 74\n",
      "clustering trial: 78\n",
      "clustering trial: 82\n",
      "clustering trial: 86\n",
      "clustering trial: 90\n",
      "clustering trial: 94\n",
      "clustering trial: 98\n"
     ]
    }
   ],
   "source": [
    "google_SSEs = []\n",
    "google_X = StandardScaler().fit_transform(df_ticket_google)\n",
    "for k in range(2,100,4):\n",
    "    print ('clustering trial:', k)\n",
    "    km = KMeans(n_clusters=k, random_state=1)\n",
    "    km.fit(google_X)\n",
    "    labels = km.labels_\n",
    "    #Sil_coefs.append(metrics.silhouette_score(lsa_tfidf_data, labels, metric='euclidean'))\n",
    "    google_SSEs.append(get_SSE(google_X, labels)) # The SSE is just inertia, we could have just said km.inertia_"
   ]
  },
  {
   "cell_type": "code",
   "execution_count": 44,
   "metadata": {},
   "outputs": [
    {
     "data": {
      "text/plain": [
       "Text(0.5,1,'SSE vs Clusters')"
      ]
     },
     "execution_count": 44,
     "metadata": {},
     "output_type": "execute_result"
    },
    {
     "data": {
      "image/png": "[encoded data removed]",
      "text/plain": [
       "<matplotlib.figure.Figure at 0x1ba8e91fd0>"
      ]
     },
     "metadata": {},
     "output_type": "display_data"
    }
   ],
   "source": [
    "k_clusters = range(2,100,4)\n",
    "plt.figure(dpi=200)\n",
    "\n",
    "# plot Intertia/SSE on ax2\n",
    "plt.plot(k_clusters, SSEs)\n",
    "plt.xlabel('number of clusters')\n",
    "plt.ylabel('SSE')\n",
    "plt.xticks(np.arange(2, 100, step=4));\n",
    "plt.title ('SSE vs Clusters')"
   ]
  },
  {
   "cell_type": "code",
   "execution_count": 47,
   "metadata": {},
   "outputs": [
    {
     "data": {
      "text/plain": [
       "Text(0.5,1,'SSE vs Google Clusters')"
      ]
     },
     "execution_count": 47,
     "metadata": {},
     "output_type": "execute_result"
    },
    {
     "data": {
      "image/png": "[encoded data removed]",
      "text/plain": [
       "<matplotlib.figure.Figure at 0x1a7c36e080>"
      ]
     },
     "metadata": {},
     "output_type": "display_data"
    }
   ],
   "source": [
    "k_clusters = range(2,100,4)\n",
    "plt.figure(dpi=200)\n",
    "\n",
    "# plot Intertia/SSE on ax2\n",
    "plt.plot(k_clusters, google_SSEs)\n",
    "plt.xlabel('number of clusters')\n",
    "plt.ylabel('google SSE')\n",
    "plt.xticks(np.arange(2, 100, step=4));\n",
    "plt.title ('SSE vs Google Clusters')"
   ]
  },
  {
   "cell_type": "code",
   "execution_count": null,
   "metadata": {},
   "outputs": [],
   "source": [
    "km = KMeans(n_clusters=46)\n",
    "ypred = km.fit_predict(X)\n",
    "plt.figure(dpi=200)\n",
    "plt.scatter(X[:,0],X[:,1],c=plt.cm.rainbow(ypred*20),s=14);"
   ]
  },
  {
   "cell_type": "code",
   "execution_count": 18,
   "metadata": {},
   "outputs": [
    {
     "name": "stdout",
     "output_type": "stream",
     "text": [
      "[t-SNE] Computing 151 nearest neighbors...\n",
      "[t-SNE] Indexed 28787 samples in 0.085s...\n",
      "[t-SNE] Computed neighbors for 28787 samples in 93.061s...\n",
      "[t-SNE] Computed conditional probabilities for sample 1000 / 28787\n",
      "[t-SNE] Computed conditional probabilities for sample 2000 / 28787\n",
      "[t-SNE] Computed conditional probabilities for sample 3000 / 28787\n",
      "[t-SNE] Computed conditional probabilities for sample 4000 / 28787\n",
      "[t-SNE] Computed conditional probabilities for sample 5000 / 28787\n",
      "[t-SNE] Computed conditional probabilities for sample 6000 / 28787\n",
      "[t-SNE] Computed conditional probabilities for sample 7000 / 28787\n",
      "[t-SNE] Computed conditional probabilities for sample 8000 / 28787\n",
      "[t-SNE] Computed conditional probabilities for sample 9000 / 28787\n",
      "[t-SNE] Computed conditional probabilities for sample 10000 / 28787\n",
      "[t-SNE] Computed conditional probabilities for sample 11000 / 28787\n",
      "[t-SNE] Computed conditional probabilities for sample 12000 / 28787\n",
      "[t-SNE] Computed conditional probabilities for sample 13000 / 28787\n",
      "[t-SNE] Computed conditional probabilities for sample 14000 / 28787\n",
      "[t-SNE] Computed conditional probabilities for sample 15000 / 28787\n",
      "[t-SNE] Computed conditional probabilities for sample 16000 / 28787\n",
      "[t-SNE] Computed conditional probabilities for sample 17000 / 28787\n",
      "[t-SNE] Computed conditional probabilities for sample 18000 / 28787\n",
      "[t-SNE] Computed conditional probabilities for sample 19000 / 28787\n",
      "[t-SNE] Computed conditional probabilities for sample 20000 / 28787\n",
      "[t-SNE] Computed conditional probabilities for sample 21000 / 28787\n",
      "[t-SNE] Computed conditional probabilities for sample 22000 / 28787\n",
      "[t-SNE] Computed conditional probabilities for sample 23000 / 28787\n",
      "[t-SNE] Computed conditional probabilities for sample 24000 / 28787\n",
      "[t-SNE] Computed conditional probabilities for sample 25000 / 28787\n",
      "[t-SNE] Computed conditional probabilities for sample 26000 / 28787\n",
      "[t-SNE] Computed conditional probabilities for sample 27000 / 28787\n",
      "[t-SNE] Computed conditional probabilities for sample 28000 / 28787\n",
      "[t-SNE] Computed conditional probabilities for sample 28787 / 28787\n",
      "[t-SNE] Mean sigma: 0.000000\n",
      "[t-SNE] KL divergence after 250 iterations with early exaggeration: 93.302856\n"
     ]
    },
    {
     "ename": "KeyboardInterrupt",
     "evalue": "",
     "output_type": "error",
     "traceback": [
      "\u001b[0;31m---------------------------------------------------------------------------\u001b[0m",
      "\u001b[0;31mKeyboardInterrupt\u001b[0m                         Traceback (most recent call last)",
      "\u001b[0;32m<ipython-input-18-2cf35c142813>\u001b[0m in \u001b[0;36m<module>\u001b[0;34m()\u001b[0m\n\u001b[1;32m      1\u001b[0m \u001b[0;32mfrom\u001b[0m \u001b[0msklearn\u001b[0m\u001b[0;34m.\u001b[0m\u001b[0mmanifold\u001b[0m \u001b[0;32mimport\u001b[0m \u001b[0mTSNE\u001b[0m\u001b[0;34m\u001b[0m\u001b[0m\n\u001b[1;32m      2\u001b[0m \u001b[0;34m\u001b[0m\u001b[0m\n\u001b[0;32m----> 3\u001b[0;31m \u001b[0mX_embedded\u001b[0m \u001b[0;34m=\u001b[0m \u001b[0mTSNE\u001b[0m\u001b[0;34m(\u001b[0m\u001b[0mn_components\u001b[0m\u001b[0;34m=\u001b[0m\u001b[0;36m2\u001b[0m\u001b[0;34m,\u001b[0m \u001b[0mverbose\u001b[0m\u001b[0;34m=\u001b[0m\u001b[0;36m1\u001b[0m\u001b[0;34m,\u001b[0m \u001b[0mperplexity\u001b[0m\u001b[0;34m=\u001b[0m\u001b[0;36m50\u001b[0m\u001b[0;34m)\u001b[0m\u001b[0;34m.\u001b[0m\u001b[0mfit_transform\u001b[0m\u001b[0;34m(\u001b[0m\u001b[0mlsa_tfidf_data\u001b[0m\u001b[0;34m)\u001b[0m\u001b[0;34m\u001b[0m\u001b[0m\n\u001b[0m\u001b[1;32m      4\u001b[0m \u001b[0mX_embedded\u001b[0m\u001b[0;34m.\u001b[0m\u001b[0mshape\u001b[0m\u001b[0;34m\u001b[0m\u001b[0m\n",
      "\u001b[0;32m~/anaconda2/envs/Python36/lib/python3.6/site-packages/sklearn/manifold/t_sne.py\u001b[0m in \u001b[0;36mfit_transform\u001b[0;34m(self, X, y)\u001b[0m\n\u001b[1;32m    856\u001b[0m             \u001b[0mEmbedding\u001b[0m \u001b[0mof\u001b[0m \u001b[0mthe\u001b[0m \u001b[0mtraining\u001b[0m \u001b[0mdata\u001b[0m \u001b[0;32min\u001b[0m \u001b[0mlow\u001b[0m\u001b[0;34m-\u001b[0m\u001b[0mdimensional\u001b[0m \u001b[0mspace\u001b[0m\u001b[0;34m.\u001b[0m\u001b[0;34m\u001b[0m\u001b[0m\n\u001b[1;32m    857\u001b[0m         \"\"\"\n\u001b[0;32m--> 858\u001b[0;31m         \u001b[0membedding\u001b[0m \u001b[0;34m=\u001b[0m \u001b[0mself\u001b[0m\u001b[0;34m.\u001b[0m\u001b[0m_fit\u001b[0m\u001b[0;34m(\u001b[0m\u001b[0mX\u001b[0m\u001b[0;34m)\u001b[0m\u001b[0;34m\u001b[0m\u001b[0m\n\u001b[0m\u001b[1;32m    859\u001b[0m         \u001b[0mself\u001b[0m\u001b[0;34m.\u001b[0m\u001b[0membedding_\u001b[0m \u001b[0;34m=\u001b[0m \u001b[0membedding\u001b[0m\u001b[0;34m\u001b[0m\u001b[0m\n\u001b[1;32m    860\u001b[0m         \u001b[0;32mreturn\u001b[0m \u001b[0mself\u001b[0m\u001b[0;34m.\u001b[0m\u001b[0membedding_\u001b[0m\u001b[0;34m\u001b[0m\u001b[0m\n",
      "\u001b[0;32m~/anaconda2/envs/Python36/lib/python3.6/site-packages/sklearn/manifold/t_sne.py\u001b[0m in \u001b[0;36m_fit\u001b[0;34m(self, X, skip_num_points)\u001b[0m\n\u001b[1;32m    768\u001b[0m                           \u001b[0mX_embedded\u001b[0m\u001b[0;34m=\u001b[0m\u001b[0mX_embedded\u001b[0m\u001b[0;34m,\u001b[0m\u001b[0;34m\u001b[0m\u001b[0m\n\u001b[1;32m    769\u001b[0m                           \u001b[0mneighbors\u001b[0m\u001b[0;34m=\u001b[0m\u001b[0mneighbors_nn\u001b[0m\u001b[0;34m,\u001b[0m\u001b[0;34m\u001b[0m\u001b[0m\n\u001b[0;32m--> 770\u001b[0;31m                           skip_num_points=skip_num_points)\n\u001b[0m\u001b[1;32m    771\u001b[0m \u001b[0;34m\u001b[0m\u001b[0m\n\u001b[1;32m    772\u001b[0m     \u001b[0;34m@\u001b[0m\u001b[0mproperty\u001b[0m\u001b[0;34m\u001b[0m\u001b[0m\n",
      "\u001b[0;32m~/anaconda2/envs/Python36/lib/python3.6/site-packages/sklearn/manifold/t_sne.py\u001b[0m in \u001b[0;36m_tsne\u001b[0;34m(self, P, degrees_of_freedom, n_samples, X_embedded, neighbors, skip_num_points)\u001b[0m\n\u001b[1;32m    825\u001b[0m             \u001b[0mopt_args\u001b[0m\u001b[0;34m[\u001b[0m\u001b[0;34m'n_iter_without_progress'\u001b[0m\u001b[0;34m]\u001b[0m \u001b[0;34m=\u001b[0m \u001b[0mself\u001b[0m\u001b[0;34m.\u001b[0m\u001b[0mn_iter_without_progress\u001b[0m\u001b[0;34m\u001b[0m\u001b[0m\n\u001b[1;32m    826\u001b[0m             params, kl_divergence, it = _gradient_descent(obj_func, params,\n\u001b[0;32m--> 827\u001b[0;31m                                                           **opt_args)\n\u001b[0m\u001b[1;32m    828\u001b[0m \u001b[0;34m\u001b[0m\u001b[0m\n\u001b[1;32m    829\u001b[0m         \u001b[0;31m# Save the final number of iterations\u001b[0m\u001b[0;34m\u001b[0m\u001b[0;34m\u001b[0m\u001b[0m\n",
      "\u001b[0;32m~/anaconda2/envs/Python36/lib/python3.6/site-packages/sklearn/manifold/t_sne.py\u001b[0m in \u001b[0;36m_gradient_descent\u001b[0;34m(objective, p0, it, n_iter, n_iter_check, n_iter_without_progress, momentum, learning_rate, min_gain, min_grad_norm, verbose, args, kwargs)\u001b[0m\n\u001b[1;32m    337\u001b[0m     \u001b[0mtic\u001b[0m \u001b[0;34m=\u001b[0m \u001b[0mtime\u001b[0m\u001b[0;34m(\u001b[0m\u001b[0;34m)\u001b[0m\u001b[0;34m\u001b[0m\u001b[0m\n\u001b[1;32m    338\u001b[0m     \u001b[0;32mfor\u001b[0m \u001b[0mi\u001b[0m \u001b[0;32min\u001b[0m \u001b[0mrange\u001b[0m\u001b[0;34m(\u001b[0m\u001b[0mit\u001b[0m\u001b[0;34m,\u001b[0m \u001b[0mn_iter\u001b[0m\u001b[0;34m)\u001b[0m\u001b[0;34m:\u001b[0m\u001b[0;34m\u001b[0m\u001b[0m\n\u001b[0;32m--> 339\u001b[0;31m         \u001b[0merror\u001b[0m\u001b[0;34m,\u001b[0m \u001b[0mgrad\u001b[0m \u001b[0;34m=\u001b[0m \u001b[0mobjective\u001b[0m\u001b[0;34m(\u001b[0m\u001b[0mp\u001b[0m\u001b[0;34m,\u001b[0m \u001b[0;34m*\u001b[0m\u001b[0margs\u001b[0m\u001b[0;34m,\u001b[0m \u001b[0;34m**\u001b[0m\u001b[0mkwargs\u001b[0m\u001b[0;34m)\u001b[0m\u001b[0;34m\u001b[0m\u001b[0m\n\u001b[0m\u001b[1;32m    340\u001b[0m         \u001b[0mgrad_norm\u001b[0m \u001b[0;34m=\u001b[0m \u001b[0mlinalg\u001b[0m\u001b[0;34m.\u001b[0m\u001b[0mnorm\u001b[0m\u001b[0;34m(\u001b[0m\u001b[0mgrad\u001b[0m\u001b[0;34m)\u001b[0m\u001b[0;34m\u001b[0m\u001b[0m\n\u001b[1;32m    341\u001b[0m \u001b[0;34m\u001b[0m\u001b[0m\n",
      "\u001b[0;32m~/anaconda2/envs/Python36/lib/python3.6/site-packages/sklearn/manifold/t_sne.py\u001b[0m in \u001b[0;36m_kl_divergence_bh\u001b[0;34m(params, P, degrees_of_freedom, n_samples, n_components, angle, skip_num_points, verbose)\u001b[0m\n\u001b[1;32m    245\u001b[0m     error = _barnes_hut_tsne.gradient(val_P, X_embedded, neighbors, indptr,\n\u001b[1;32m    246\u001b[0m                                       \u001b[0mgrad\u001b[0m\u001b[0;34m,\u001b[0m \u001b[0mangle\u001b[0m\u001b[0;34m,\u001b[0m \u001b[0mn_components\u001b[0m\u001b[0;34m,\u001b[0m \u001b[0mverbose\u001b[0m\u001b[0;34m,\u001b[0m\u001b[0;34m\u001b[0m\u001b[0m\n\u001b[0;32m--> 247\u001b[0;31m                                       dof=degrees_of_freedom)\n\u001b[0m\u001b[1;32m    248\u001b[0m     \u001b[0mc\u001b[0m \u001b[0;34m=\u001b[0m \u001b[0;36m2.0\u001b[0m \u001b[0;34m*\u001b[0m \u001b[0;34m(\u001b[0m\u001b[0mdegrees_of_freedom\u001b[0m \u001b[0;34m+\u001b[0m \u001b[0;36m1.0\u001b[0m\u001b[0;34m)\u001b[0m \u001b[0;34m/\u001b[0m \u001b[0mdegrees_of_freedom\u001b[0m\u001b[0;34m\u001b[0m\u001b[0m\n\u001b[1;32m    249\u001b[0m     \u001b[0mgrad\u001b[0m \u001b[0;34m=\u001b[0m \u001b[0mgrad\u001b[0m\u001b[0;34m.\u001b[0m\u001b[0mravel\u001b[0m\u001b[0;34m(\u001b[0m\u001b[0;34m)\u001b[0m\u001b[0;34m\u001b[0m\u001b[0m\n",
      "\u001b[0;31mKeyboardInterrupt\u001b[0m: "
     ]
    }
   ],
   "source": [
    "from sklearn.manifold import TSNE\n",
    "\n",
    "X_embedded = TSNE(n_components=2, verbose=1, perplexity=50).fit_transform(lsa_tfidf_data)\n",
    "X_embedded.shape"
   ]
  },
  {
   "cell_type": "code",
   "execution_count": 259,
   "metadata": {
    "collapsed": true
   },
   "outputs": [],
   "source": [
    "with open('./data/processed/X_embedded.pkl', 'wb') as picklefile:\n",
    "    pickle.dump(X_embedded, picklefile)"
   ]
  },
  {
   "cell_type": "code",
   "execution_count": 4,
   "metadata": {},
   "outputs": [],
   "source": [
    "with open('./data/processed/X_embedded.pkl', 'rb') as picklefile:\n",
    "    X_embedded = pickle.load(picklefile)"
   ]
  },
  {
   "cell_type": "code",
   "execution_count": null,
   "metadata": {},
   "outputs": [],
   "source": [
    "plt.figure(dpi=250)\n",
    "plt.title(\"TSNE FOR LSA TFIDF DATA\")\n",
    "sns.scatterplot(X_embedded[:, 0], X_embedded[:, 1], ypred,\n",
    "               size = 2, palette = 'rainbow', alpha = 'auto',\n",
    "              markers = '.', legend=\"full\");\n",
    "\n",
    "plt.legend(bbox_to_anchor=(1.05, 1), loc=2, borderaxespad=0.);"
   ]
  },
  {
   "cell_type": "code",
   "execution_count": null,
   "metadata": {
    "collapsed": true
   },
   "outputs": [],
   "source": []
  }
 ],
 "metadata": {
  "kernelspec": {
   "display_name": "Python (conda 3.6)",
   "language": "python",
   "name": "python36"
  },
  "language_info": {
   "codemirror_mode": {
    "name": "ipython",
    "version": 3
   },
   "file_extension": ".py",
   "mimetype": "text/x-python",
   "name": "python",
   "nbconvert_exporter": "python",
   "pygments_lexer": "ipython3",
   "version": "3.6.3"
  }
 },
 "nbformat": 4,
 "nbformat_minor": 2
}
