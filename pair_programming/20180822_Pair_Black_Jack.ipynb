{
 "cells": [
  {
   "cell_type": "code",
   "execution_count": 16,
   "metadata": {
    "collapsed": true
   },
   "outputs": [],
   "source": [
    "import numpy as np\n",
    "from copy import deepcopy"
   ]
  },
  {
   "cell_type": "code",
   "execution_count": 24,
   "metadata": {
    "collapsed": true
   },
   "outputs": [],
   "source": [
    "def remains(hand):\n",
    "    deck = [2, 3, 4, 5, 6, 7, 8, 9, 10, 'J', 'Q', 'K', 'A']\n",
    "    deck = deck + deck + deck + deck\n",
    "    for card in hand:\n",
    "        deck.remove(card)\n",
    "    return deck"
   ]
  },
  {
   "cell_type": "code",
   "execution_count": 34,
   "metadata": {},
   "outputs": [],
   "source": [
    "def prob_next_card_breaks_21(hand):\n",
    "    remain = remains(hand)\n",
    "    result = []\n",
    "    for card in remain:\n",
    "        hand.append(card)\n",
    "        result.append(calc_break_score(hand))\n",
    "        hand.remove(card)\n",
    "    probability = np.sum([card > 21 for card in result])/len(result)\n",
    "    return probability"
   ]
  },
  {
   "cell_type": "code",
   "execution_count": 28,
   "metadata": {},
   "outputs": [],
   "source": [
    "def calc_break_score(hand):\n",
    "    score = 0\n",
    "    for card in hand:\n",
    "        if (card in ['J', 'Q', 'K']):\n",
    "            score = score + 10\n",
    "        elif (card == 'A'):\n",
    "            score = score + 1\n",
    "        else:\n",
    "            score = score + card\n",
    "    return score"
   ]
  },
  {
   "cell_type": "code",
   "execution_count": 91,
   "metadata": {
    "collapsed": true
   },
   "outputs": [],
   "source": [
    "hand = [2, 2, 2, 2, 3, 3, 3, 3]"
   ]
  },
  {
   "cell_type": "code",
   "execution_count": 92,
   "metadata": {},
   "outputs": [
    {
     "data": {
      "text/plain": [
       "0.9090909090909091"
      ]
     },
     "execution_count": 92,
     "metadata": {},
     "output_type": "execute_result"
    }
   ],
   "source": [
    "prob_next_card_breaks_21(hand)"
   ]
  },
  {
   "cell_type": "code",
   "execution_count": 82,
   "metadata": {},
   "outputs": [],
   "source": [
    "def prob_next_card_gets_21(hand):\n",
    "    remain = remains(hand)\n",
    "    result = []\n",
    "    for card in remain:\n",
    "        if (card != 'A'):\n",
    "            hand.append(card)\n",
    "            result.append(calc_break_score(hand) == 21)\n",
    "            hand.remove(card)\n",
    "        if (card == 'A'):\n",
    "            if ((calc_break_score(hand)+1 ==21) | (calc_break_score(hand)+11 ==21)):\n",
    "                result.append(True)\n",
    "            else:\n",
    "                result.append(False)\n",
    "    probability = np.sum(result)/len(result)\n",
    "    return probability"
   ]
  },
  {
   "cell_type": "code",
   "execution_count": 85,
   "metadata": {},
   "outputs": [
    {
     "data": {
      "text/plain": [
       "0.06"
      ]
     },
     "execution_count": 85,
     "metadata": {},
     "output_type": "execute_result"
    }
   ],
   "source": [
    "prob_next_card_gets_21(hand)"
   ]
  },
  {
   "cell_type": "code",
   "execution_count": null,
   "metadata": {
    "collapsed": true
   },
   "outputs": [],
   "source": [
    "10 3A\n",
    "20 3A"
   ]
  },
  {
   "cell_type": "code",
   "execution_count": 86,
   "metadata": {},
   "outputs": [
    {
     "data": {
      "text/plain": [
       "0.12"
      ]
     },
     "execution_count": 86,
     "metadata": {},
     "output_type": "execute_result"
    }
   ],
   "source": [
    "6/50"
   ]
  },
  {
   "cell_type": "code",
   "execution_count": null,
   "metadata": {
    "collapsed": true
   },
   "outputs": [],
   "source": []
  }
 ],
 "metadata": {
  "kernelspec": {
   "display_name": "Python (conda 3.6)",
   "language": "python",
   "name": "python36"
  },
  "language_info": {
   "codemirror_mode": {
    "name": "ipython",
    "version": 3
   },
   "file_extension": ".py",
   "mimetype": "text/x-python",
   "name": "python",
   "nbconvert_exporter": "python",
   "pygments_lexer": "ipython3",
   "version": "3.6.3"
  }
 },
 "nbformat": 4,
 "nbformat_minor": 2
}
