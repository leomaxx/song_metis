{
 "cells": [
  {
   "cell_type": "markdown",
   "metadata": {},
   "source": [
    "**Project plan**\n",
    "\n",
    "*Data preprocessing\n",
    "1. DONE - Detect the english tweets\n",
    "https://github.com/rfk/pyenchant\n",
    "\n",
    "*Sentiment Analysis*\n",
    "1. Find a sentiment analysis NN to rate last tweets\n",
    "2. DONE - Extract the emoji's and incorporate the emoji sentiment <br>\n",
    "https://stackoverflow.com/questions/43852668/using-collections-counter-to-count-emojis-with-different-colors<br>\n",
    "https://stackoverflow.com/questions/48340622/extract-all-emojis-from-string-and-ignore-fitzpatrick-modifiers-skin-tones-etc\n",
    "\n",
    "*Build a pipeline for similar tweet recommender*\n",
    "1. DONE - Implement class for recommend engine\n",
    "2. DONE - Build a pipeline for word embedding, vectorizing, and recommendation\n",
    "3. Try out Glove, Google embedding.. etc\n",
    "\n",
    "*Expansion\n",
    "1. Narrow down recommendation to resolved tickets\n",
    "2. Perform 3 types of clustering\n",
    "3. Perform cluster summarization"
   ]
  },
  {
   "cell_type": "code",
   "execution_count": 1,
   "metadata": {},
   "outputs": [
    {
     "name": "stderr",
     "output_type": "stream",
     "text": [
      "/Users/songlin/anaconda2/envs/Python36/lib/python3.6/importlib/_bootstrap.py:219: RuntimeWarning: numpy.dtype size changed, may indicate binary incompatibility. Expected 96, got 88\n",
      "  return f(*args, **kwds)\n",
      "/Users/songlin/anaconda2/envs/Python36/lib/python3.6/importlib/_bootstrap.py:219: RuntimeWarning: numpy.dtype size changed, may indicate binary incompatibility. Expected 96, got 88\n",
      "  return f(*args, **kwds)\n",
      "/Users/songlin/anaconda2/envs/Python36/lib/python3.6/importlib/_bootstrap.py:219: RuntimeWarning: numpy.dtype size changed, may indicate binary incompatibility. Expected 96, got 88\n",
      "  return f(*args, **kwds)\n",
      "/Users/songlin/anaconda2/envs/Python36/lib/python3.6/importlib/_bootstrap.py:219: RuntimeWarning: numpy.dtype size changed, may indicate binary incompatibility. Expected 96, got 88\n",
      "  return f(*args, **kwds)\n",
      "/Users/songlin/anaconda2/envs/Python36/lib/python3.6/importlib/_bootstrap.py:219: RuntimeWarning: numpy.dtype size changed, may indicate binary incompatibility. Expected 96, got 88\n",
      "  return f(*args, **kwds)\n",
      "/Users/songlin/anaconda2/envs/Python36/lib/python3.6/site-packages/nltk/twitter/__init__.py:20: UserWarning: The twython library has not been installed. Some functionality from the twitter package will not be available.\n",
      "  warnings.warn(\"The twython library has not been installed. \"\n"
     ]
    }
   ],
   "source": [
    "import string\n",
    "import emoji\n",
    "import regex\n",
    "import pickle\n",
    "import re\n",
    "import enchant\n",
    "import math\n",
    "import inflect\n",
    "\n",
    "import numpy as np\n",
    "import pandas as pd\n",
    "import vaderSentiment\n",
    "\n",
    "import matplotlib.pyplot as plt\n",
    "\n",
    "from itertools import compress\n",
    "from tqdm import tqdm_notebook\n",
    "from termcolor import colored\n",
    "\n",
    "\n",
    "# gensim\n",
    "from gensim import corpora, models, similarities, matutils\n",
    "# sklearn\n",
    "from sklearn import datasets\n",
    "from sklearn.feature_extraction.text import CountVectorizer, TfidfVectorizer\n",
    "from sklearn.feature_extraction import text\n",
    "from sklearn.decomposition import NMF, TruncatedSVD\n",
    "import nltk.sentiment.vader\n",
    "from sklearn.neighbors import NearestNeighbors\n",
    "from vaderSentiment.vaderSentiment import SentimentIntensityAnalyzer\n",
    "from nltk.stem import WordNetLemmatizer\n",
    "    \n",
    "from sklearn.cluster import KMeans\n",
    "from nltk.tokenize import word_tokenize\n",
    "\n",
    "%matplotlib inline"
   ]
  },
  {
   "cell_type": "code",
   "execution_count": 2,
   "metadata": {
    "collapsed": true
   },
   "outputs": [],
   "source": [
    "twitter = pd.read_csv(\"./customer-support-on-twitter/twcs.csv\")\n",
    "\n",
    "# Save original message for future recommendation display\n",
    "ticket_reserve = twitter[twitter['inbound'] == True]\n",
    "solution_reserve = twitter[twitter['inbound'] == False]"
   ]
  },
  {
   "cell_type": "markdown",
   "metadata": {},
   "source": [
    "### Exclude tweets with non-English characters"
   ]
  },
  {
   "cell_type": "code",
   "execution_count": 119,
   "metadata": {
    "collapsed": true
   },
   "outputs": [],
   "source": [
    "def fixContractions(text):\n",
    "    with open('./data/helper/contraction_list.pkl', 'rb') as picklefile:\n",
    "        cList = pickle.load(picklefile)\n",
    "    for word in text.split():\n",
    "        if word.lower() in cList:\n",
    "            text = text.replace(word, cList[word.lower()])\n",
    "    return text\n",
    "\n",
    "def clean_text(text):\n",
    "    text = text.lower()\n",
    "    text = re.sub(r'https:\\/\\/t.co\\/\\w{10}', '', text) # Remove URL link\n",
    "    text = re.sub(r'@\\w+', '', text) # Remove @account\n",
    "    text = fixContractions(text) # Expand contractions\n",
    "    return text"
   ]
  },
  {
   "cell_type": "code",
   "execution_count": 121,
   "metadata": {
    "collapsed": true
   },
   "outputs": [],
   "source": [
    "def get_emoji_free_text(text):\n",
    "    text = text.replace(u'\\u200d', '')\n",
    "    allchars = [str for str in text]\n",
    "    emoji_list = [c for c in allchars if c in emoji.UNICODE_EMOJI]\n",
    "    clean_text = ' '.join([str for str in text.split() if not any(i in str for i in emoji_list)])\n",
    "    if (len(emoji_list) == 0):\n",
    "        return np.NaN, clean_text\n",
    "    else:\n",
    "        return emoji_list, clean_text"
   ]
  },
  {
   "cell_type": "code",
   "execution_count": 122,
   "metadata": {
    "collapsed": true
   },
   "outputs": [],
   "source": [
    "twitter['text'] = twitter['text'].apply(lambda x:clean_text(x))\n",
    "twitter[['emoji','text']] = twitter['text'].apply(lambda x:pd.Series(get_emoji_free_text(x)))"
   ]
  },
  {
   "cell_type": "code",
   "execution_count": 123,
   "metadata": {
    "collapsed": true
   },
   "outputs": [],
   "source": [
    "with open('./data/processed/tweets_step1_emoji_extracted.pkl', 'wb')as picklefile:\n",
    "    pickle.dump(twitter, picklefile)"
   ]
  },
  {
   "cell_type": "code",
   "execution_count": null,
   "metadata": {
    "collapsed": true
   },
   "outputs": [],
   "source": [
    "with open('./data/processed/tweets_step1_emoji_extracted.pkl', 'rb')as picklefile:\n",
    "    twitter = pickle.load(picklefile)"
   ]
  },
  {
   "cell_type": "markdown",
   "metadata": {},
   "source": [
    "### Retrieve sentiment score for emoji's\n",
    "ref:http://kt.ijs.si/data/Emoji_sentiment_ranking/"
   ]
  },
  {
   "cell_type": "code",
   "execution_count": 125,
   "metadata": {
    "collapsed": true
   },
   "outputs": [],
   "source": [
    "def build_dict(emoji_table, emoji_sentiment_dict):\n",
    "    type_set = set()\n",
    "    for i in range(emoji_table.shape[0]):\n",
    "        code = emoji_table.loc[i, 'Python Code']\n",
    "        try:\n",
    "            key = chr(int(code[1:], 16))\n",
    "            emoji_sentiment_dict[key] = emoji_table.loc[i, 'Sentiment score']\n",
    "        except:\n",
    "            type_set.add(emoji_table.loc[i, 'Unicode block'])\n",
    "    return emoji_sentiment_dict"
   ]
  },
  {
   "cell_type": "code",
   "execution_count": 127,
   "metadata": {
    "collapsed": true
   },
   "outputs": [],
   "source": [
    "def get_emoji_sentiment(emoji_list):\n",
    "    score = 0\n",
    "    if (type(emoji_list) != float):\n",
    "        for emoji_item in emoji_list:\n",
    "            if (emoji_item in emoji_sentiment_dict.keys()):\n",
    "                score += emoji_sentiment_dict[emoji_item]\n",
    "        if (score == 0):\n",
    "            return np.NaN\n",
    "        else:\n",
    "            return score/len(emoji_list)\n",
    "    else:\n",
    "        return np.NaN"
   ]
  },
  {
   "cell_type": "code",
   "execution_count": 169,
   "metadata": {},
   "outputs": [
    {
     "name": "stdout",
     "output_type": "stream",
     "text": [
      "Number of tweets with emoji score:  161402\n",
      "Number of tweets with emoji but not score:  33223\n"
     ]
    }
   ],
   "source": [
    "emoji_sentiment = pd.read_csv('./data/raw/emoji_nodingbat.csv')\n",
    "emoji_other = pd.read_csv('./data/raw/emoji_other.csv')\n",
    "emoji_sentiment_dict = {}\n",
    "\n",
    "emoji_sentiment_dict = build_dict(emoji_sentiment, emoji_sentiment_dict)\n",
    "emoji_sentiment_dict = build_dict(emoji_other, emoji_sentiment_dict)\n",
    "\n",
    "twitter['emoji_score'] = twitter['emoji'].apply(lambda x:get_emoji_sentiment(x))\n",
    "print ('Number of tweets with emoji score: ', twitter[~twitter['emoji_score'].isnull()].shape[0])\n",
    "print ('Number of tweets with emoji but not score: ', twitter[twitter['emoji_score'].isnull() & (~twitter['emoji'].isnull())].shape[0])"
   ]
  },
  {
   "cell_type": "code",
   "execution_count": 129,
   "metadata": {
    "collapsed": true
   },
   "outputs": [],
   "source": [
    "with open('./data/processed/tweets_step2_emoji_sentiment.pkl', 'wb')as picklefile:\n",
    "    pickle.dump(twitter, picklefile)"
   ]
  },
  {
   "cell_type": "code",
   "execution_count": 167,
   "metadata": {
    "collapsed": true
   },
   "outputs": [],
   "source": [
    "with open('./data/processed/tweets_step2_emoji_sentiment.pkl', 'rb')as picklefile:\n",
    "    twitter = pickle.load(picklefile)"
   ]
  },
  {
   "cell_type": "markdown",
   "metadata": {},
   "source": [
    "### Remove non-English tweets"
   ]
  },
  {
   "cell_type": "code",
   "execution_count": 170,
   "metadata": {
    "collapsed": true
   },
   "outputs": [],
   "source": [
    "# Retrieve elements that are printable in English context - This is a \n",
    "# combination of digits, letters, punctuation, and whitespace.\n",
    "valid_content = set(string.printable)\n",
    "\n",
    "# Include some common non-English punctuations\n",
    "non_English_punctuation = ['‘', '’', 'é', '–','—','“','”','、','。','`','️', '£', '…', '$']\n",
    "\n",
    "# Keep tweets with common non-English punctuations\n",
    "[valid_content.add(x) for x in (non_English_punctuation)]\n",
    "    \n",
    "def isEnglish(tweet):\n",
    "    invalid_index = [x not in valid_content for x in tweet]\n",
    "    if (np.sum(invalid_index)==0):\n",
    "        return True\n",
    "    else:\n",
    "        return False\n",
    "\n",
    "## Removed 78k tweets with non-English characters\n",
    "english_tweets = twitter.text.apply(lambda x:isEnglish(x))\n",
    "tweets = twitter.loc[english_tweets, :]"
   ]
  },
  {
   "cell_type": "code",
   "execution_count": 171,
   "metadata": {
    "collapsed": true
   },
   "outputs": [],
   "source": [
    "# A quick tool to return non-English words\n",
    "def non_English(words):\n",
    "    print (list(compress(list(words), [x not in valid_content for x in words])))"
   ]
  },
  {
   "cell_type": "markdown",
   "metadata": {},
   "source": [
    "### Format the dates"
   ]
  },
  {
   "cell_type": "code",
   "execution_count": 173,
   "metadata": {},
   "outputs": [
    {
     "name": "stderr",
     "output_type": "stream",
     "text": [
      "/Users/songlin/anaconda2/envs/Python36/lib/python3.6/site-packages/ipykernel_launcher.py:2: SettingWithCopyWarning: \n",
      "A value is trying to be set on a copy of a slice from a DataFrame.\n",
      "Try using .loc[row_indexer,col_indexer] = value instead\n",
      "\n",
      "See the caveats in the documentation: http://pandas.pydata.org/pandas-docs/stable/indexing.html#indexing-view-versus-copy\n",
      "  \n"
     ]
    }
   ],
   "source": [
    "# Format the dates\n",
    "tweets['created_at'] = pd.to_datetime(tweets['created_at'], format='%a %b %d %H:%M:%S +0000 %Y')"
   ]
  },
  {
   "cell_type": "code",
   "execution_count": 174,
   "metadata": {},
   "outputs": [
    {
     "name": "stderr",
     "output_type": "stream",
     "text": [
      "/Users/songlin/anaconda2/envs/Python36/lib/python3.6/site-packages/ipykernel_launcher.py:1: SettingWithCopyWarning: \n",
      "A value is trying to be set on a copy of a slice from a DataFrame.\n",
      "Try using .loc[row_indexer,col_indexer] = value instead\n",
      "\n",
      "See the caveats in the documentation: http://pandas.pydata.org/pandas-docs/stable/indexing.html#indexing-view-versus-copy\n",
      "  \"\"\"Entry point for launching an IPython kernel.\n",
      "/Users/songlin/anaconda2/envs/Python36/lib/python3.6/site-packages/ipykernel_launcher.py:2: SettingWithCopyWarning: \n",
      "A value is trying to be set on a copy of a slice from a DataFrame.\n",
      "Try using .loc[row_indexer,col_indexer] = value instead\n",
      "\n",
      "See the caveats in the documentation: http://pandas.pydata.org/pandas-docs/stable/indexing.html#indexing-view-versus-copy\n",
      "  \n",
      "/Users/songlin/anaconda2/envs/Python36/lib/python3.6/site-packages/ipykernel_launcher.py:3: SettingWithCopyWarning: \n",
      "A value is trying to be set on a copy of a slice from a DataFrame.\n",
      "Try using .loc[row_indexer,col_indexer] = value instead\n",
      "\n",
      "See the caveats in the documentation: http://pandas.pydata.org/pandas-docs/stable/indexing.html#indexing-view-versus-copy\n",
      "  This is separate from the ipykernel package so we can avoid doing imports until\n"
     ]
    }
   ],
   "source": [
    "tweets['in_response_to_tweet_id'] = tweets['in_response_to_tweet_id'].fillna(-1)\n",
    "tweets['in_response_to_tweet_id'] = tweets['in_response_to_tweet_id'].astype(int)\n",
    "tweets['response_tweet_id'] = tweets['response_tweet_id'].fillna(-1)"
   ]
  },
  {
   "cell_type": "code",
   "execution_count": 175,
   "metadata": {
    "collapsed": true
   },
   "outputs": [],
   "source": [
    "with open('./data/processed/tweets_step3_english.pkl', 'wb')as picklefile:\n",
    "    pickle.dump(tweets, picklefile)"
   ]
  },
  {
   "cell_type": "code",
   "execution_count": 176,
   "metadata": {
    "collapsed": true
   },
   "outputs": [],
   "source": [
    "with open('./data/processed/tweets_step3_english.pkl', 'rb')as picklefile:\n",
    "    tweets = pickle.load(picklefile)"
   ]
  },
  {
   "cell_type": "markdown",
   "metadata": {},
   "source": [
    "### Add custom_id and brand_id columns"
   ]
  },
  {
   "cell_type": "code",
   "execution_count": 198,
   "metadata": {
    "collapsed": true
   },
   "outputs": [],
   "source": [
    "# Add custom_id column\n",
    "tweets = pd.merge(tweets,pd.DataFrame(tweets[['tweet_id', 'author_id']]),left_on='in_response_to_tweet_id', right_on='tweet_id', how='left')\n",
    "tweets.loc[tweets['inbound'] == True, 'author_id_y'] = tweets.loc[tweets['inbound'] == True, 'author_id_x']\n",
    "tweets['author_id_y'] = tweets['author_id_y'].fillna(-1)\n",
    "tweets.drop('tweet_id_y', axis=1, inplace=True)\n",
    "tweets.rename(columns={'author_id_y':'cust_id', \n",
    "                       'author_id_x':'author_id',\n",
    "                      'tweet_id_x':'tweet_id'}, inplace=True)\n",
    "\n",
    "# Drop the tweets without customer id, those are usually promotional tweets initiated by\n",
    "# brands agent or customers not in the datase: Number of such tweets: 71255\n",
    "tweets = tweets[~tweets['cust_id'].isnull()]"
   ]
  },
  {
   "cell_type": "code",
   "execution_count": 227,
   "metadata": {
    "collapsed": true
   },
   "outputs": [],
   "source": [
    "# Add brand_id column\n",
    "\n",
    "# Carve out the first tweet id when there are multiples in response_tweet_id\n",
    "tweets['processed_response_id'] = tweets['response_tweet_id'].apply(\n",
    "    lambda x: x if (isinstance(x,int)) else x.split(',')[0])\n",
    "tweets['processed_response_id'] = tweets['processed_response_id'].astype(int)\n",
    "\n",
    "# Retrieve the author id of the responde tweet\n",
    "tweets = pd.merge(tweets,pd.DataFrame(tweets[['tweet_id', 'author_id']]),\n",
    "                  left_on='processed_response_id', \n",
    "                  right_on='tweet_id', \n",
    "                  how='left')\n",
    "\n",
    "tweets.drop('tweet_id_y', axis=1, inplace=True)\n",
    "tweets.rename(columns={'author_id_y':'brand_id', \n",
    "                       'author_id_x':'author_id',\n",
    "                      'tweet_id_x':'tweet_id'}, inplace=True)\n",
    "\n",
    "tweets = pd.merge(tweets,pd.DataFrame(tweets[['tweet_id', 'author_id']]),left_on='in_response_to_tweet_id', right_on='tweet_id', how='left')\n",
    "tweets.loc[(tweets['inbound'] & (tweets['processed_response_id'] == -1)), 'brand_id'] = (\n",
    "    tweets.loc[(tweets['inbound'] & (tweets['processed_response_id'] == -1)), 'author_id_y'])\n",
    "tweets.rename(columns={'tweet_id_x':'tweet_id', \n",
    "                       'author_id_x':'author_id'}, inplace=True)\n",
    "\n",
    "tweets.loc[tweets['inbound'] == False, 'brand_id'] = tweets.loc[tweets['inbound'] == False, 'author_id']\n",
    "tweets.drop(['processed_response_id', 'tweet_id_y', 'author_id_y'], axis=1, inplace=True)\n",
    "\n",
    "# could use some more logic to extract the account name in tweet text"
   ]
  },
  {
   "cell_type": "code",
   "execution_count": 233,
   "metadata": {
    "collapsed": true
   },
   "outputs": [],
   "source": [
    "# Tweets with no response is 3880\n",
    "print (tweets[tweets['brand_id'].isnull() & (tweets['response_tweet_id'] == -1)].shape)\n",
    "\n",
    "# Tweets with response outside the dataset is 42764\n",
    "print (tweets[tweets['brand_id'].isnull() & (tweets['response_tweet_id'] != -1)].shape)\n",
    "\n",
    "# Drop the tweets without brand_id\n",
    "tweets = tweets[~tweets['brand_id'].isnull()]"
   ]
  },
  {
   "cell_type": "code",
   "execution_count": 6,
   "metadata": {
    "collapsed": true
   },
   "outputs": [],
   "source": [
    "# Identify which tweets are in the same conversation (customer case)\n",
    "tweets.sort_values(['cust_id', 'created_at'], inplace=True)\n",
    "tweets.reset_index(inplace=True)\n",
    "\n",
    "# Calculate the time difference (in seconds) bwetween a tweet and its previous tweet\n",
    "tweets['time_diff'] = tweets['created_at'].diff()\n",
    "tweets['time_diff'] = tweets['time_diff'].apply(lambda x:x.total_seconds())\n",
    "tweets['time_diff'] = tweets['time_diff'].apply(lambda x: 0 if x <0 else x)\n",
    "tweets['time_diff'] = tweets['time_diff'].fillna(0)\n",
    "\n",
    "tweets['case_id'] = 0\n",
    "tweets['time_diff'] = tweets['time_diff'].fillna(0) "
   ]
  },
  {
   "cell_type": "code",
   "execution_count": null,
   "metadata": {
    "collapsed": true
   },
   "outputs": [],
   "source": [
    "with open('./data/processed/tweets_step4_brand_cust.pkl', 'wb')as picklefile:\n",
    "    pickle.dump(tweets, picklefile)"
   ]
  },
  {
   "cell_type": "code",
   "execution_count": null,
   "metadata": {
    "collapsed": true
   },
   "outputs": [],
   "source": [
    "with open('./data/processed/tweets_step4_brand_cust.pkl', 'rb')as picklefile:\n",
    "    tweets = pickle.load(picklefile)"
   ]
  },
  {
   "cell_type": "markdown",
   "metadata": {},
   "source": [
    "### Carve out the support data for a particular brand"
   ]
  },
  {
   "cell_type": "code",
   "execution_count": 7,
   "metadata": {
    "collapsed": true
   },
   "outputs": [],
   "source": [
    "def analyze_brand(tweets, brand_cc_name):\n",
    "    ## Subset tweets according to brand\n",
    "    brand = tweets[tweets['brand_id'] == brand_cc_name]\n",
    "    brand.reset_index(inplace=True)\n",
    "    \n",
    "    ## Assign unique caseid for each conversation (interchange of tweets)\n",
    "    ## To avoid grouping different cases raised by the same customer at different time\n",
    "    ## We set the max threshold between subsequent tweets in a conversation as 2 days\n",
    "    caseid = 1\n",
    "    brand.loc[0, 'case_id'] = caseid\n",
    "    for row in range(1, brand.shape[0]):\n",
    "        if (row%1000 == 0):\n",
    "            print (row)\n",
    "        if ((brand.loc[row, 'cust_id'] != brand.loc[row-1, 'cust_id']) |\n",
    "            (brand.loc[row, 'time_diff'] > 3600*24*2)):\n",
    "            caseid = caseid + 1\n",
    "            brand.loc[row, 'time_diff'] = 0 # Set time between conversations as 0\n",
    "            brand.loc[row, 'case_id'] = caseid\n",
    "        else:\n",
    "            brand.loc[row, 'case_id'] = caseid\n",
    "    return brand"
   ]
  },
  {
   "cell_type": "code",
   "execution_count": 8,
   "metadata": {},
   "outputs": [
    {
     "name": "stderr",
     "output_type": "stream",
     "text": [
      "/Users/songlin/anaconda2/envs/Python36/lib/python3.6/site-packages/pandas/core/indexing.py:517: SettingWithCopyWarning: \n",
      "A value is trying to be set on a copy of a slice from a DataFrame.\n",
      "Try using .loc[row_indexer,col_indexer] = value instead\n",
      "\n",
      "See the caveats in the documentation: http://pandas.pydata.org/pandas-docs/stable/indexing.html#indexing-view-versus-copy\n",
      "  self.obj[item] = s\n"
     ]
    },
    {
     "name": "stdout",
     "output_type": "stream",
     "text": [
      "1000\n",
      "2000\n",
      "3000\n",
      "4000\n",
      "5000\n",
      "6000\n",
      "7000\n",
      "8000\n",
      "9000\n",
      "10000\n",
      "11000\n",
      "12000\n",
      "13000\n",
      "14000\n",
      "15000\n",
      "16000\n",
      "17000\n",
      "18000\n",
      "19000\n",
      "20000\n",
      "21000\n",
      "22000\n",
      "23000\n",
      "24000\n",
      "25000\n",
      "26000\n",
      "27000\n",
      "28000\n",
      "29000\n",
      "30000\n",
      "31000\n",
      "32000\n",
      "33000\n",
      "34000\n",
      "35000\n",
      "36000\n",
      "37000\n",
      "38000\n",
      "39000\n",
      "40000\n",
      "41000\n",
      "42000\n",
      "43000\n",
      "44000\n",
      "45000\n",
      "46000\n",
      "47000\n",
      "48000\n",
      "49000\n",
      "50000\n",
      "51000\n",
      "52000\n",
      "53000\n",
      "54000\n",
      "55000\n",
      "56000\n",
      "57000\n",
      "58000\n",
      "59000\n",
      "60000\n",
      "61000\n",
      "62000\n",
      "63000\n",
      "64000\n",
      "65000\n",
      "66000\n",
      "67000\n",
      "68000\n",
      "69000\n",
      "70000\n",
      "71000\n",
      "72000\n",
      "73000\n",
      "74000\n",
      "75000\n",
      "76000\n",
      "77000\n",
      "78000\n",
      "79000\n",
      "80000\n",
      "81000\n",
      "82000\n",
      "83000\n",
      "84000\n",
      "85000\n",
      "86000\n"
     ]
    }
   ],
   "source": [
    "# CAUTION! This function takes SUPER LONG TIME to run, 80k row takes 3 hours!\n",
    "spotify = analyze_brand(tweets, 'SpotifyCares')"
   ]
  },
  {
   "cell_type": "code",
   "execution_count": 9,
   "metadata": {
    "collapsed": true
   },
   "outputs": [],
   "source": [
    "with open('./data/processed/spotify.pkl', 'wb')as picklefile:\n",
    "    pickle.dump(spotify, picklefile)"
   ]
  },
  {
   "cell_type": "code",
   "execution_count": 3,
   "metadata": {
    "collapsed": true
   },
   "outputs": [],
   "source": [
    "with open('./data/processed/spotify.pkl', 'rb')as picklefile:\n",
    "    spotify = pickle.load(picklefile)"
   ]
  },
  {
   "cell_type": "markdown",
   "metadata": {},
   "source": [
    "### Remove ticket without solution and solution without ticket"
   ]
  },
  {
   "cell_type": "code",
   "execution_count": 4,
   "metadata": {
    "collapsed": true
   },
   "outputs": [],
   "source": [
    "conv_count = spotify.groupby('case_id')['case_id'].count()\n",
    "single_conv_index = conv_count[conv_count==1].index.tolist()\n",
    "spotify['single_conv'] = spotify['case_id'].apply(\n",
    "    lambda x: True if x in single_conv_index else False)\n",
    "\n",
    "# Remove the conversations with only one tweet (424 ) \n",
    "spotify = spotify[~spotify['single_conv']]\n",
    "spotify.drop('single_conv', axis=1, inplace=True)\n",
    "\n",
    "spotify.drop(['level_0', 'index'], axis=1, inplace=True)"
   ]
  },
  {
   "cell_type": "code",
   "execution_count": 5,
   "metadata": {
    "collapsed": true
   },
   "outputs": [],
   "source": [
    "ticket = spotify[spotify['inbound'] == True]\n",
    "solution = spotify[spotify['inbound'] == False]"
   ]
  },
  {
   "cell_type": "code",
   "execution_count": 10,
   "metadata": {},
   "outputs": [
    {
     "name": "stdout",
     "output_type": "stream",
     "text": [
      "28796\n"
     ]
    },
    {
     "data": {
      "text/plain": [
       "28794"
      ]
     },
     "execution_count": 10,
     "metadata": {},
     "output_type": "execute_result"
    }
   ],
   "source": [
    "print (len(ticket.case_id.unique()))\n",
    "len(solution.case_id.unique())"
   ]
  },
  {
   "cell_type": "code",
   "execution_count": 11,
   "metadata": {
    "collapsed": true
   },
   "outputs": [],
   "source": [
    "# Remove ticket without solution or solution without ticket \n",
    "# conversations with tweets from only customer or customer agents\n",
    "\n",
    "ticket = ticket.apply(\n",
    "    lambda x: x if (x[12] in solution['case_id'].unique()) else None, axis = 1)\n",
    "solution = solution.apply(\n",
    "    lambda x: x if (x[12] in ticket['case_id'].unique()) else None, axis = 1)"
   ]
  },
  {
   "cell_type": "code",
   "execution_count": 14,
   "metadata": {},
   "outputs": [
    {
     "data": {
      "text/html": [
       "<div>\n",
       "<style>\n",
       "    .dataframe thead tr:only-child th {\n",
       "        text-align: right;\n",
       "    }\n",
       "\n",
       "    .dataframe thead th {\n",
       "        text-align: left;\n",
       "    }\n",
       "\n",
       "    .dataframe tbody tr th {\n",
       "        vertical-align: top;\n",
       "    }\n",
       "</style>\n",
       "<table border=\"1\" class=\"dataframe\">\n",
       "  <thead>\n",
       "    <tr style=\"text-align: right;\">\n",
       "      <th></th>\n",
       "      <th>tweet_id</th>\n",
       "      <th>text</th>\n",
       "      <th>case_id</th>\n",
       "    </tr>\n",
       "  </thead>\n",
       "  <tbody>\n",
       "    <tr>\n",
       "      <th>0</th>\n",
       "      <td>2747480.0</td>\n",
       "      <td>uh why is there a limit on how many songs i ca...</td>\n",
       "      <td>1.0</td>\n",
       "    </tr>\n",
       "    <tr>\n",
       "      <th>2</th>\n",
       "      <td>2747479.0</td>\n",
       "      <td>cool cool cool i think i am finally ready to s...</td>\n",
       "      <td>1.0</td>\n",
       "    </tr>\n",
       "    <tr>\n",
       "      <th>4</th>\n",
       "      <td>2606352.0</td>\n",
       "      <td>there used to be a useful feature in ios app t...</td>\n",
       "      <td>2.0</td>\n",
       "    </tr>\n",
       "    <tr>\n",
       "      <th>6</th>\n",
       "      <td>2606351.0</td>\n",
       "      <td>taking features away will only make it easier ...</td>\n",
       "      <td>2.0</td>\n",
       "    </tr>\n",
       "    <tr>\n",
       "      <th>8</th>\n",
       "      <td>855.0</td>\n",
       "      <td>i’m pissed my shuffle and repeat button just d...</td>\n",
       "      <td>3.0</td>\n",
       "    </tr>\n",
       "    <tr>\n",
       "      <th>10</th>\n",
       "      <td>853.0</td>\n",
       "      <td>iphone 7+ and i have the most recent update fo...</td>\n",
       "      <td>3.0</td>\n",
       "    </tr>\n",
       "    <tr>\n",
       "      <th>12</th>\n",
       "      <td>850.0</td>\n",
       "      <td>premium &amp;amp; when i️ have it on shuffle it tu...</td>\n",
       "      <td>3.0</td>\n",
       "    </tr>\n",
       "    <tr>\n",
       "      <th>14</th>\n",
       "      <td>849.0</td>\n",
       "      <td>doesn’t work and i even tried deleting the app</td>\n",
       "      <td>3.0</td>\n",
       "    </tr>\n",
       "    <tr>\n",
       "      <th>16</th>\n",
       "      <td>862.0</td>\n",
       "      <td>groove music quits &amp;amp; redirect to spotify. ...</td>\n",
       "      <td>4.0</td>\n",
       "    </tr>\n",
       "    <tr>\n",
       "      <th>18</th>\n",
       "      <td>861.0</td>\n",
       "      <td>version is 5.2.4.0. 7 of 10 app starts it says...</td>\n",
       "      <td>4.0</td>\n",
       "    </tr>\n",
       "    <tr>\n",
       "      <th>19</th>\n",
       "      <td>858.0</td>\n",
       "      <td>2/2... and there is no way to manage albums (r...</td>\n",
       "      <td>4.0</td>\n",
       "    </tr>\n",
       "    <tr>\n",
       "      <th>21</th>\n",
       "      <td>857.0</td>\n",
       "      <td>yes, multiple times. no changes. i am premium ...</td>\n",
       "      <td>4.0</td>\n",
       "    </tr>\n",
       "    <tr>\n",
       "      <th>23</th>\n",
       "      <td>866.0</td>\n",
       "      <td>is there a way to find non-explicit songs that...</td>\n",
       "      <td>5.0</td>\n",
       "    </tr>\n",
       "    <tr>\n",
       "      <th>25</th>\n",
       "      <td>864.0</td>\n",
       "      <td>ok thx</td>\n",
       "      <td>5.0</td>\n",
       "    </tr>\n",
       "    <tr>\n",
       "      <th>27</th>\n",
       "      <td>893083.0</td>\n",
       "      <td>hey, im in need of assistance.</td>\n",
       "      <td>6.0</td>\n",
       "    </tr>\n",
       "    <tr>\n",
       "      <th>29</th>\n",
       "      <td>893082.0</td>\n",
       "      <td>i recently applied for student discount and wa...</td>\n",
       "      <td>6.0</td>\n",
       "    </tr>\n",
       "    <tr>\n",
       "      <th>31</th>\n",
       "      <td>893085.0</td>\n",
       "      <td>just sent</td>\n",
       "      <td>6.0</td>\n",
       "    </tr>\n",
       "    <tr>\n",
       "      <th>32</th>\n",
       "      <td>617753.0</td>\n",
       "      <td>i have a question</td>\n",
       "      <td>7.0</td>\n",
       "    </tr>\n",
       "    <tr>\n",
       "      <th>34</th>\n",
       "      <td>1875.0</td>\n",
       "      <td>why are my devices not doing the cool thing wh...</td>\n",
       "      <td>8.0</td>\n",
       "    </tr>\n",
       "    <tr>\n",
       "      <th>36</th>\n",
       "      <td>1869.0</td>\n",
       "      <td>using a macbook pro with os x el capitan and t...</td>\n",
       "      <td>8.0</td>\n",
       "    </tr>\n",
       "    <tr>\n",
       "      <th>38</th>\n",
       "      <td>1870.0</td>\n",
       "      <td>desktop app still not working, but i got to se...</td>\n",
       "      <td>8.0</td>\n",
       "    </tr>\n",
       "    <tr>\n",
       "      <th>40</th>\n",
       "      <td>1872.0</td>\n",
       "      <td>1.0.65.320.gac7a8e02</td>\n",
       "      <td>8.0</td>\n",
       "    </tr>\n",
       "    <tr>\n",
       "      <th>42</th>\n",
       "      <td>1878.0</td>\n",
       "      <td>why are nena's releases between 2002 and 2012 ...</td>\n",
       "      <td>9.0</td>\n",
       "    </tr>\n",
       "    <tr>\n",
       "      <th>44</th>\n",
       "      <td>1877.0</td>\n",
       "      <td>made in germany, du bist gut, cover me and 20 ...</td>\n",
       "      <td>9.0</td>\n",
       "    </tr>\n",
       "    <tr>\n",
       "      <th>47</th>\n",
       "      <td>2799.0</td>\n",
       "      <td>in other news should probs upgrade from shitty...</td>\n",
       "      <td>10.0</td>\n",
       "    </tr>\n",
       "    <tr>\n",
       "      <th>49</th>\n",
       "      <td>637662.0</td>\n",
       "      <td>so, , why did you even send me this email? you...</td>\n",
       "      <td>11.0</td>\n",
       "    </tr>\n",
       "    <tr>\n",
       "      <th>51</th>\n",
       "      <td>637660.0</td>\n",
       "      <td>you could offer the deal in quebec. why isn’t ...</td>\n",
       "      <td>11.0</td>\n",
       "    </tr>\n",
       "    <tr>\n",
       "      <th>53</th>\n",
       "      <td>637658.0</td>\n",
       "      <td>are you saying you can’t say why you’re not of...</td>\n",
       "      <td>11.0</td>\n",
       "    </tr>\n",
       "    <tr>\n",
       "      <th>55</th>\n",
       "      <td>2804.0</td>\n",
       "      <td>so : three days later you’re still advertising...</td>\n",
       "      <td>12.0</td>\n",
       "    </tr>\n",
       "    <tr>\n",
       "      <th>57</th>\n",
       "      <td>2802.0</td>\n",
       "      <td>montreal, where the ad itself says i’m not all...</td>\n",
       "      <td>12.0</td>\n",
       "    </tr>\n",
       "    <tr>\n",
       "      <th>...</th>\n",
       "      <td>...</td>\n",
       "      <td>...</td>\n",
       "      <td>...</td>\n",
       "    </tr>\n",
       "    <tr>\n",
       "      <th>86025</th>\n",
       "      <td>2984782.0</td>\n",
       "      <td>is your website down? keep getting the ‘uh oh’...</td>\n",
       "      <td>29203.0</td>\n",
       "    </tr>\n",
       "    <tr>\n",
       "      <th>86027</th>\n",
       "      <td>2984784.0</td>\n",
       "      <td>dude, i miss the message feature on spotify so...</td>\n",
       "      <td>29204.0</td>\n",
       "    </tr>\n",
       "    <tr>\n",
       "      <th>86029</th>\n",
       "      <td>2985574.0</td>\n",
       "      <td>i cannot find the email address linked to my p...</td>\n",
       "      <td>29205.0</td>\n",
       "    </tr>\n",
       "    <tr>\n",
       "      <th>86031</th>\n",
       "      <td>2985576.0</td>\n",
       "      <td>is there any possible way to shuffle a playlis...</td>\n",
       "      <td>29206.0</td>\n",
       "    </tr>\n",
       "    <tr>\n",
       "      <th>86033</th>\n",
       "      <td>2985578.0</td>\n",
       "      <td>so my spotify activity to facebook mysteriousl...</td>\n",
       "      <td>29207.0</td>\n",
       "    </tr>\n",
       "    <tr>\n",
       "      <th>86035</th>\n",
       "      <td>2985582.0</td>\n",
       "      <td>having trouble logging into my account</td>\n",
       "      <td>29208.0</td>\n",
       "    </tr>\n",
       "    <tr>\n",
       "      <th>86037</th>\n",
       "      <td>2986325.0</td>\n",
       "      <td>i created an account today. i cashed total 14,...</td>\n",
       "      <td>29209.0</td>\n",
       "    </tr>\n",
       "    <tr>\n",
       "      <th>86039</th>\n",
       "      <td>688097.0</td>\n",
       "      <td>49 ribu kalee</td>\n",
       "      <td>29210.0</td>\n",
       "    </tr>\n",
       "    <tr>\n",
       "      <th>86041</th>\n",
       "      <td>2986421.0</td>\n",
       "      <td>i was charged the full spotify premium fee but...</td>\n",
       "      <td>29211.0</td>\n",
       "    </tr>\n",
       "    <tr>\n",
       "      <th>86043</th>\n",
       "      <td>2986432.0</td>\n",
       "      <td>release radar is going off</td>\n",
       "      <td>29212.0</td>\n",
       "    </tr>\n",
       "    <tr>\n",
       "      <th>86045</th>\n",
       "      <td>2986431.0</td>\n",
       "      <td>“going off” meaning playing the good songs</td>\n",
       "      <td>29212.0</td>\n",
       "    </tr>\n",
       "    <tr>\n",
       "      <th>86048</th>\n",
       "      <td>2986557.0</td>\n",
       "      <td>i want to know how to use spotify with the pre...</td>\n",
       "      <td>29214.0</td>\n",
       "    </tr>\n",
       "    <tr>\n",
       "      <th>86050</th>\n",
       "      <td>2986555.0</td>\n",
       "      <td>thank you :*</td>\n",
       "      <td>29214.0</td>\n",
       "    </tr>\n",
       "    <tr>\n",
       "      <th>86052</th>\n",
       "      <td>2986582.0</td>\n",
       "      <td>how does the $0.99 cdn/mth promo work if i am ...</td>\n",
       "      <td>29215.0</td>\n",
       "    </tr>\n",
       "    <tr>\n",
       "      <th>86054</th>\n",
       "      <td>2986599.0</td>\n",
       "      <td>fb error reads “there is an error logging into...</td>\n",
       "      <td>29216.0</td>\n",
       "    </tr>\n",
       "    <tr>\n",
       "      <th>86056</th>\n",
       "      <td>2987399.0</td>\n",
       "      <td>what do i do???</td>\n",
       "      <td>29216.0</td>\n",
       "    </tr>\n",
       "    <tr>\n",
       "      <th>86058</th>\n",
       "      <td>2986606.0</td>\n",
       "      <td>hey i have a question.</td>\n",
       "      <td>29217.0</td>\n",
       "    </tr>\n",
       "    <tr>\n",
       "      <th>86060</th>\n",
       "      <td>2986604.0</td>\n",
       "      <td>well, i’m a premium member of spotify because ...</td>\n",
       "      <td>29217.0</td>\n",
       "    </tr>\n",
       "    <tr>\n",
       "      <th>86062</th>\n",
       "      <td>2987175.0</td>\n",
       "      <td>need help emailed and no the suggestions apply...</td>\n",
       "      <td>29218.0</td>\n",
       "    </tr>\n",
       "    <tr>\n",
       "      <th>86064</th>\n",
       "      <td>2987386.0</td>\n",
       "      <td>just got a 3,000 minute long spotify ad. pleas...</td>\n",
       "      <td>29219.0</td>\n",
       "    </tr>\n",
       "    <tr>\n",
       "      <th>86066</th>\n",
       "      <td>2987390.0</td>\n",
       "      <td>since the update 7 hours ago my app in android...</td>\n",
       "      <td>29220.0</td>\n",
       "    </tr>\n",
       "    <tr>\n",
       "      <th>86068</th>\n",
       "      <td>2987388.0</td>\n",
       "      <td>simple restart of my phone seems to have fixed...</td>\n",
       "      <td>29220.0</td>\n",
       "    </tr>\n",
       "    <tr>\n",
       "      <th>86070</th>\n",
       "      <td>2987392.0</td>\n",
       "      <td>i cannot seem to delete a playlist, and it is ...</td>\n",
       "      <td>29221.0</td>\n",
       "    </tr>\n",
       "    <tr>\n",
       "      <th>86072</th>\n",
       "      <td>2987397.0</td>\n",
       "      <td>got invited to a special invite but my email i...</td>\n",
       "      <td>29222.0</td>\n",
       "    </tr>\n",
       "    <tr>\n",
       "      <th>86074</th>\n",
       "      <td>2987396.0</td>\n",
       "      <td>just messaged!</td>\n",
       "      <td>29222.0</td>\n",
       "    </tr>\n",
       "    <tr>\n",
       "      <th>86075</th>\n",
       "      <td>2987401.0</td>\n",
       "      <td>hey guys, my family members cannot seem to be ...</td>\n",
       "      <td>29223.0</td>\n",
       "    </tr>\n",
       "    <tr>\n",
       "      <th>86077</th>\n",
       "      <td>2987685.0</td>\n",
       "      <td>i tried on many devices and browsers but does ...</td>\n",
       "      <td>29224.0</td>\n",
       "    </tr>\n",
       "    <tr>\n",
       "      <th>86079</th>\n",
       "      <td>2574107.0</td>\n",
       "      <td>here's the latest page, . if yr curious.</td>\n",
       "      <td>29225.0</td>\n",
       "    </tr>\n",
       "    <tr>\n",
       "      <th>86081</th>\n",
       "      <td>2574108.0</td>\n",
       "      <td>to be clear: i do not have you app installed n...</td>\n",
       "      <td>29225.0</td>\n",
       "    </tr>\n",
       "    <tr>\n",
       "      <th>86083</th>\n",
       "      <td>1490391.0</td>\n",
       "      <td></td>\n",
       "      <td>29226.0</td>\n",
       "    </tr>\n",
       "  </tbody>\n",
       "</table>\n",
       "<p>43363 rows × 3 columns</p>\n",
       "</div>"
      ],
      "text/plain": [
       "        tweet_id                                               text  case_id\n",
       "0      2747480.0  uh why is there a limit on how many songs i ca...      1.0\n",
       "2      2747479.0  cool cool cool i think i am finally ready to s...      1.0\n",
       "4      2606352.0  there used to be a useful feature in ios app t...      2.0\n",
       "6      2606351.0  taking features away will only make it easier ...      2.0\n",
       "8          855.0  i’m pissed my shuffle and repeat button just d...      3.0\n",
       "10         853.0  iphone 7+ and i have the most recent update fo...      3.0\n",
       "12         850.0  premium &amp; when i️ have it on shuffle it tu...      3.0\n",
       "14         849.0     doesn’t work and i even tried deleting the app      3.0\n",
       "16         862.0  groove music quits &amp; redirect to spotify. ...      4.0\n",
       "18         861.0  version is 5.2.4.0. 7 of 10 app starts it says...      4.0\n",
       "19         858.0  2/2... and there is no way to manage albums (r...      4.0\n",
       "21         857.0  yes, multiple times. no changes. i am premium ...      4.0\n",
       "23         866.0  is there a way to find non-explicit songs that...      5.0\n",
       "25         864.0                                             ok thx      5.0\n",
       "27      893083.0                     hey, im in need of assistance.      6.0\n",
       "29      893082.0  i recently applied for student discount and wa...      6.0\n",
       "31      893085.0                                          just sent      6.0\n",
       "32      617753.0                                  i have a question      7.0\n",
       "34        1875.0  why are my devices not doing the cool thing wh...      8.0\n",
       "36        1869.0  using a macbook pro with os x el capitan and t...      8.0\n",
       "38        1870.0  desktop app still not working, but i got to se...      8.0\n",
       "40        1872.0                               1.0.65.320.gac7a8e02      8.0\n",
       "42        1878.0  why are nena's releases between 2002 and 2012 ...      9.0\n",
       "44        1877.0  made in germany, du bist gut, cover me and 20 ...      9.0\n",
       "47        2799.0  in other news should probs upgrade from shitty...     10.0\n",
       "49      637662.0  so, , why did you even send me this email? you...     11.0\n",
       "51      637660.0  you could offer the deal in quebec. why isn’t ...     11.0\n",
       "53      637658.0  are you saying you can’t say why you’re not of...     11.0\n",
       "55        2804.0  so : three days later you’re still advertising...     12.0\n",
       "57        2802.0  montreal, where the ad itself says i’m not all...     12.0\n",
       "...          ...                                                ...      ...\n",
       "86025  2984782.0  is your website down? keep getting the ‘uh oh’...  29203.0\n",
       "86027  2984784.0  dude, i miss the message feature on spotify so...  29204.0\n",
       "86029  2985574.0  i cannot find the email address linked to my p...  29205.0\n",
       "86031  2985576.0  is there any possible way to shuffle a playlis...  29206.0\n",
       "86033  2985578.0  so my spotify activity to facebook mysteriousl...  29207.0\n",
       "86035  2985582.0             having trouble logging into my account  29208.0\n",
       "86037  2986325.0  i created an account today. i cashed total 14,...  29209.0\n",
       "86039   688097.0                                      49 ribu kalee  29210.0\n",
       "86041  2986421.0  i was charged the full spotify premium fee but...  29211.0\n",
       "86043  2986432.0                         release radar is going off  29212.0\n",
       "86045  2986431.0         “going off” meaning playing the good songs  29212.0\n",
       "86048  2986557.0  i want to know how to use spotify with the pre...  29214.0\n",
       "86050  2986555.0                                       thank you :*  29214.0\n",
       "86052  2986582.0  how does the $0.99 cdn/mth promo work if i am ...  29215.0\n",
       "86054  2986599.0  fb error reads “there is an error logging into...  29216.0\n",
       "86056  2987399.0                                    what do i do???  29216.0\n",
       "86058  2986606.0                             hey i have a question.  29217.0\n",
       "86060  2986604.0  well, i’m a premium member of spotify because ...  29217.0\n",
       "86062  2987175.0  need help emailed and no the suggestions apply...  29218.0\n",
       "86064  2987386.0  just got a 3,000 minute long spotify ad. pleas...  29219.0\n",
       "86066  2987390.0  since the update 7 hours ago my app in android...  29220.0\n",
       "86068  2987388.0  simple restart of my phone seems to have fixed...  29220.0\n",
       "86070  2987392.0  i cannot seem to delete a playlist, and it is ...  29221.0\n",
       "86072  2987397.0  got invited to a special invite but my email i...  29222.0\n",
       "86074  2987396.0                                     just messaged!  29222.0\n",
       "86075  2987401.0  hey guys, my family members cannot seem to be ...  29223.0\n",
       "86077  2987685.0  i tried on many devices and browsers but does ...  29224.0\n",
       "86079  2574107.0           here's the latest page, . if yr curious.  29225.0\n",
       "86081  2574108.0  to be clear: i do not have you app installed n...  29225.0\n",
       "86083  1490391.0                                                     29226.0\n",
       "\n",
       "[43363 rows x 3 columns]"
      ]
     },
     "execution_count": 14,
     "metadata": {},
     "output_type": "execute_result"
    }
   ],
   "source": [
    "ticket[['tweet_id', 'text', 'case_id']]"
   ]
  },
  {
   "cell_type": "code",
   "execution_count": 15,
   "metadata": {
    "collapsed": true
   },
   "outputs": [],
   "source": [
    "#ticket.text.fillna('', inplace=True)\n",
    "#solution.text.fillna('', inplace=True)\n",
    "ticket_agg = ticket.groupby('case_id')['text'].agg(lambda x:' '.join(x))\n",
    "solution_agg = solution.groupby('case_id')['text'].agg(lambda x:' '.join(x))"
   ]
  },
  {
   "cell_type": "code",
   "execution_count": null,
   "metadata": {
    "collapsed": true
   },
   "outputs": [],
   "source": [
    "spotify = spotify.apply(\n",
    "    lambda x: x if (x[10] in ticket['case_id'].unique()) else None, axis=1)"
   ]
  },
  {
   "cell_type": "code",
   "execution_count": 29,
   "metadata": {
    "collapsed": true
   },
   "outputs": [],
   "source": [
    "with open('./data/processed/ticket.pkl', 'wb')as picklefile:\n",
    "    pickle.dump(ticket, picklefile)\n",
    "with open('./data/processed/solution.pkl', 'wb')as picklefile:\n",
    "    pickle.dump(solution, picklefile)\n",
    "with open('./data/processed/ticket_agg.pkl', 'wb')as picklefile:\n",
    "    pickle.dump(ticket_agg, picklefile)\n",
    "with open('./data/processed/solution_agg.pkl', 'wb')as picklefile:\n",
    "    pickle.dump(solution_agg, picklefile)"
   ]
  },
  {
   "cell_type": "code",
   "execution_count": null,
   "metadata": {
    "collapsed": true
   },
   "outputs": [],
   "source": []
  },
  {
   "cell_type": "markdown",
   "metadata": {},
   "source": [
    "### Perform very basic sentiment analysis on last tweet from customer"
   ]
  },
  {
   "cell_type": "code",
   "execution_count": 54,
   "metadata": {
    "collapsed": true
   },
   "outputs": [],
   "source": [
    "cust_last_tweet = ticket.groupby('case_id')[['text','emoji', 'emoji_score']].last().reset_index()"
   ]
  },
  {
   "cell_type": "code",
   "execution_count": 55,
   "metadata": {
    "collapsed": true
   },
   "outputs": [],
   "source": [
    "vdanalyzer = vaderSentiment.vaderSentiment.SentimentIntensityAnalyzer()\n",
    "cust_last_tweet['vader_sentiment'] = cust_last_tweet['text'].apply(\n",
    "        lambda x:vdanalyzer.polarity_scores(x)['compound'])"
   ]
  },
  {
   "cell_type": "code",
   "execution_count": 56,
   "metadata": {
    "collapsed": true
   },
   "outputs": [],
   "source": [
    "sentiment_analyzer = nltk.sentiment.vader.SentimentIntensityAnalyzer()\n",
    "cust_last_tweet['ntlk_sentiment'] = cust_last_tweet['text'].apply(\n",
    "        lambda x:sentiment_analyzer.polarity_scores(x)['compound'])"
   ]
  },
  {
   "cell_type": "code",
   "execution_count": 58,
   "metadata": {
    "collapsed": true
   },
   "outputs": [],
   "source": [
    "cust_last_tweet.to_csv('./data/processed/processed_last_tweet_sentiment.csv', index=False)"
   ]
  },
  {
   "cell_type": "code",
   "execution_count": 60,
   "metadata": {
    "collapsed": true
   },
   "outputs": [],
   "source": [
    "cust_last_tweet = pd.read_csv('./data/processed/processed_last_tweet_sentiment.csv', index_col=None)"
   ]
  },
  {
   "cell_type": "code",
   "execution_count": 62,
   "metadata": {},
   "outputs": [
    {
     "name": "stdout",
     "output_type": "stream",
     "text": [
      "6    taking features away will only make it easier for users to go. i’ve been a premium user for 4+ years... don’t let me leave.\n",
      "Name: text, dtype: object\n"
     ]
    }
   ],
   "source": [
    "pd.set_option('display.max_colwidth', -1)\n",
    "print (ticket[ticket['tweet_id'] == 2606351.0].text.astype(str))"
   ]
  },
  {
   "cell_type": "code",
   "execution_count": 63,
   "metadata": {
    "collapsed": true
   },
   "outputs": [],
   "source": [
    "def get_overall_sentiment_score(row):\n",
    "    sentiment = ''\n",
    "    if (not math.isnan(row[3])):\n",
    "        if (row[3] >= 0.2):\n",
    "            sentiment = 'POS'\n",
    "        elif ((row[3] < 0.2) & (row[3] > -0.05)):\n",
    "            sentiment = 'NEU'\n",
    "        elif (row[3] <= -0.05):\n",
    "            sentiment = 'NEG'\n",
    "    elif (not math.isnan(row[5])):\n",
    "        if (row[5] >= 0.2):\n",
    "            sentiment = 'POS'\n",
    "        elif ((row[5] < 0.2) & (row[5] > -0.05)):\n",
    "            sentiment = 'NEU'\n",
    "        elif (row[5] <= -0.05):\n",
    "            sentiment = 'NEG'\n",
    "    return sentiment"
   ]
  },
  {
   "cell_type": "code",
   "execution_count": 64,
   "metadata": {
    "collapsed": true
   },
   "outputs": [],
   "source": [
    "cust_last_tweet[['emoji_score', 'ntlk_sentiment']] = cust_last_tweet[['emoji_score', 'ntlk_sentiment']].astype(float)\n",
    "cust_last_tweet['sentiment'] = cust_last_tweet.apply(lambda\n",
    "                        x:get_overall_sentiment_score(x), axis=1)"
   ]
  },
  {
   "cell_type": "code",
   "execution_count": 67,
   "metadata": {
    "collapsed": true
   },
   "outputs": [],
   "source": [
    "cust_last_tweet.to_csv('./data/processed/processed_last_tweet_sentiment.csv', index=False)"
   ]
  },
  {
   "cell_type": "code",
   "execution_count": 68,
   "metadata": {
    "collapsed": true
   },
   "outputs": [],
   "source": [
    "cust_last_tweet = pd.read_csv('./data/processed/processed_last_tweet_sentiment.csv', index_col=None)"
   ]
  },
  {
   "cell_type": "code",
   "execution_count": 70,
   "metadata": {
    "collapsed": true
   },
   "outputs": [],
   "source": [
    "spotify = pd.merge(spotify, cust_last_tweet[['case_id', 'sentiment']],\n",
    "                   left_on='case_id', right_on='case_id',\n",
    "                   how='left')"
   ]
  },
  {
   "cell_type": "code",
   "execution_count": 73,
   "metadata": {
    "collapsed": true
   },
   "outputs": [],
   "source": [
    "with open('./data/processed/tweets_step5_spotify_sentiment.pkl', 'wb')as picklefile:\n",
    "    pickle.dump(spotify, picklefile)"
   ]
  },
  {
   "cell_type": "code",
   "execution_count": 17,
   "metadata": {
    "collapsed": true
   },
   "outputs": [],
   "source": [
    "with open('./data/processed/tweets_step5_spotify_sentiment.pkl', 'rb')as picklefile:\n",
    "    spotify = pickle.load(picklefile)"
   ]
  },
  {
   "cell_type": "markdown",
   "metadata": {},
   "source": [
    "### Tweets preprocessing"
   ]
  },
  {
   "cell_type": "code",
   "execution_count": 18,
   "metadata": {
    "collapsed": true
   },
   "outputs": [],
   "source": [
    "custom_stopwords = ['http', 'https', 'spotify', 'help', 'hi', 'spotifycares']\n",
    "my_stop_words = (text.ENGLISH_STOP_WORDS.union(custom_stopwords)\n",
    "                 .union(string.punctuation))"
   ]
  },
  {
   "cell_type": "code",
   "execution_count": 19,
   "metadata": {
    "collapsed": true
   },
   "outputs": [],
   "source": [
    "df_ticket = pd.DataFrame(ticket_agg)\n",
    "df_ticket.reset_index(inplace=True)"
   ]
  },
  {
   "cell_type": "code",
   "execution_count": 20,
   "metadata": {
    "collapsed": true
   },
   "outputs": [],
   "source": [
    "df_solution = pd.DataFrame(solution_agg)\n",
    "df_solution.reset_index(inplace=True)"
   ]
  },
  {
   "cell_type": "code",
   "execution_count": 22,
   "metadata": {
    "collapsed": true
   },
   "outputs": [],
   "source": [
    "cust_last_tweet = pd.read_csv('./data/processed/processed_last_tweet_sentiment.csv', index_col=None)"
   ]
  },
  {
   "cell_type": "code",
   "execution_count": 23,
   "metadata": {},
   "outputs": [],
   "source": [
    "df_ticket = pd.merge(df_ticket, cust_last_tweet[['case_id', 'sentiment']], left_on='case_id', right_on='case_id',\n",
    "                   how='left')"
   ]
  },
  {
   "cell_type": "code",
   "execution_count": 24,
   "metadata": {
    "collapsed": true
   },
   "outputs": [],
   "source": [
    "def text_preprocess(text):\n",
    "    tokens = word_tokenize(text)\n",
    "    lemmatize = WordNetLemmatizer()\n",
    "    clean_text = [lemmatize.lemmatize(token.lower().strip(), pos='a') for token in tokens]\n",
    "    clean_text = [x for x in clean_text if x not in my_stop_words]\n",
    "    return ' '.join(clean_text)"
   ]
  },
  {
   "cell_type": "code",
   "execution_count": 25,
   "metadata": {
    "collapsed": true
   },
   "outputs": [],
   "source": [
    "df_ticket['text'] = df_ticket.text.apply(lambda x:text_preprocess(x))"
   ]
  },
  {
   "cell_type": "code",
   "execution_count": 26,
   "metadata": {
    "collapsed": true
   },
   "outputs": [],
   "source": [
    "with open('./data/processed/tweets_step6_ticket_preprocessed.pkl', 'wb')as picklefile:\n",
    "    pickle.dump(df_ticket, picklefile)"
   ]
  },
  {
   "cell_type": "markdown",
   "metadata": {},
   "source": [
    "### Build recommendation engines"
   ]
  },
  {
   "cell_type": "code",
   "execution_count": 30,
   "metadata": {},
   "outputs": [],
   "source": [
    "## Read in files from previous steps\n",
    "with open('./data/processed/tweets_step6_ticket_preprocessed.pkl', 'rb')as picklefile:\n",
    "    df_ticket = pickle.load(picklefile)\n",
    "\n",
    "cust_last_tweet = pd.read_csv('./data/processed/processed_last_tweet_sentiment.csv', index_col=None)\n",
    "\n",
    "with open('./data/processed/ticket.pkl', 'rb')as picklefile:\n",
    "    ticket = pickle.load(picklefile)\n",
    "\n",
    "with open('./data/processed/solution.pkl', 'rb')as picklefile:\n",
    "    solution = pickle.load(picklefile)\n",
    "    \n",
    "with open('./data/processed/ticket_agg.pkl', 'rb')as picklefile:\n",
    "    ticket_agg = pickle.load(picklefile)\n",
    "\n",
    "with open('./data/processed/solution_agg.pkl', 'rb')as picklefile:\n",
    "    solution_agg = pickle.load(picklefile)"
   ]
  },
  {
   "cell_type": "code",
   "execution_count": 33,
   "metadata": {},
   "outputs": [
    {
     "data": {
      "text/html": [
       "<div>\n",
       "<style>\n",
       "    .dataframe thead tr:only-child th {\n",
       "        text-align: right;\n",
       "    }\n",
       "\n",
       "    .dataframe thead th {\n",
       "        text-align: left;\n",
       "    }\n",
       "\n",
       "    .dataframe tbody tr th {\n",
       "        vertical-align: top;\n",
       "    }\n",
       "</style>\n",
       "<table border=\"1\" class=\"dataframe\">\n",
       "  <thead>\n",
       "    <tr style=\"text-align: right;\">\n",
       "      <th></th>\n",
       "      <th>case_id</th>\n",
       "      <th>text</th>\n",
       "      <th>sentiment</th>\n",
       "    </tr>\n",
       "  </thead>\n",
       "  <tbody>\n",
       "    <tr>\n",
       "      <th>0</th>\n",
       "      <td>1.0</td>\n",
       "      <td>uh limit songs `` save '' — supposed track alb...</td>\n",
       "      <td>POS</td>\n",
       "    </tr>\n",
       "    <tr>\n",
       "      <th>1</th>\n",
       "      <td>2.0</td>\n",
       "      <td>used useful feature ios app allowed user hear ...</td>\n",
       "      <td>POS</td>\n",
       "    </tr>\n",
       "    <tr>\n",
       "      <th>4</th>\n",
       "      <td>5.0</td>\n",
       "      <td>way non-explicit songs explicit ok thx</td>\n",
       "      <td>POS</td>\n",
       "    </tr>\n",
       "    <tr>\n",
       "      <th>7</th>\n",
       "      <td>8.0</td>\n",
       "      <td>devices doing cool thing play strangerthings a...</td>\n",
       "      <td>POS</td>\n",
       "    </tr>\n",
       "    <tr>\n",
       "      <th>12</th>\n",
       "      <td>13.0</td>\n",
       "      <td>having party actually amazing</td>\n",
       "      <td>POS</td>\n",
       "    </tr>\n",
       "    <tr>\n",
       "      <th>13</th>\n",
       "      <td>14.0</td>\n",
       "      <td>check dm 's babe</td>\n",
       "      <td>POS</td>\n",
       "    </tr>\n",
       "    <tr>\n",
       "      <th>14</th>\n",
       "      <td>15.0</td>\n",
       "      <td>way block particular ad happy ads/dont want pr...</td>\n",
       "      <td>POS</td>\n",
       "    </tr>\n",
       "    <tr>\n",
       "      <th>17</th>\n",
       "      <td>18.0</td>\n",
       "      <td>booooourns hey hey thanks reaching pascal 's p...</td>\n",
       "      <td>POS</td>\n",
       "    </tr>\n",
       "    <tr>\n",
       "      <th>19</th>\n",
       "      <td>21.0</td>\n",
       "      <td>credit card</td>\n",
       "      <td>POS</td>\n",
       "    </tr>\n",
       "    <tr>\n",
       "      <th>20</th>\n",
       "      <td>22.0</td>\n",
       "      <td>album playable super available 2ne1 playlist c...</td>\n",
       "      <td>POS</td>\n",
       "    </tr>\n",
       "    <tr>\n",
       "      <th>21</th>\n",
       "      <td>23.0</td>\n",
       "      <td>mac os high sierra 10.13 1.0.66.478.g1296534d ...</td>\n",
       "      <td>POS</td>\n",
       "    </tr>\n",
       "    <tr>\n",
       "      <th>22</th>\n",
       "      <td>24.0</td>\n",
       "      <td>hey worked thank issue app fixed guys tho ’ .....</td>\n",
       "      <td>POS</td>\n",
       "    </tr>\n",
       "    <tr>\n",
       "      <th>26</th>\n",
       "      <td>28.0</td>\n",
       "      <td>app killing phone battery fixing problem okay ...</td>\n",
       "      <td>POS</td>\n",
       "    </tr>\n",
       "    <tr>\n",
       "      <th>27</th>\n",
       "      <td>29.0</td>\n",
       "      <td>layout looks nice really isn ’ t friendly left...</td>\n",
       "      <td>POS</td>\n",
       "    </tr>\n",
       "    <tr>\n",
       "      <th>31</th>\n",
       "      <td>33.0</td>\n",
       "      <td>dragged songs playlists aims technology make e...</td>\n",
       "      <td>POS</td>\n",
       "    </tr>\n",
       "    <tr>\n",
       "      <th>33</th>\n",
       "      <td>35.0</td>\n",
       "      <td>hey did `` shook night long '' just piss remov...</td>\n",
       "      <td>POS</td>\n",
       "    </tr>\n",
       "    <tr>\n",
       "      <th>35</th>\n",
       "      <td>37.0</td>\n",
       "      <td>cases thanks advance 2 okay did thanks</td>\n",
       "      <td>POS</td>\n",
       "    </tr>\n",
       "    <tr>\n",
       "      <th>36</th>\n",
       "      <td>38.0</td>\n",
       "      <td>dunno use decides song gon na play- love maybe...</td>\n",
       "      <td>POS</td>\n",
       "    </tr>\n",
       "    <tr>\n",
       "      <th>38</th>\n",
       "      <td>40.0</td>\n",
       "      <td>fathom rid unique useful feature heavy-users f...</td>\n",
       "      <td>POS</td>\n",
       "    </tr>\n",
       "    <tr>\n",
       "      <th>40</th>\n",
       "      <td>42.0</td>\n",
       "      <td>sign actually iphone 7 ios 11.0.3 version 8.4....</td>\n",
       "      <td>POS</td>\n",
       "    </tr>\n",
       "    <tr>\n",
       "      <th>42</th>\n",
       "      <td>44.0</td>\n",
       "      <td>songs disappeared songs playlist able view pho...</td>\n",
       "      <td>POS</td>\n",
       "    </tr>\n",
       "    <tr>\n",
       "      <th>46</th>\n",
       "      <td>48.0</td>\n",
       "      <td>im paying premium time log keeps saying free s...</td>\n",
       "      <td>POS</td>\n",
       "    </tr>\n",
       "    <tr>\n",
       "      <th>47</th>\n",
       "      <td>49.0</td>\n",
       "      <td>watch ad video say 30 mins ad free expect 30 m...</td>\n",
       "      <td>POS</td>\n",
       "    </tr>\n",
       "    <tr>\n",
       "      <th>48</th>\n",
       "      <td>50.0</td>\n",
       "      <td>excuse songs available commercially available ...</td>\n",
       "      <td>POS</td>\n",
       "    </tr>\n",
       "    <tr>\n",
       "      <th>50</th>\n",
       "      <td>52.0</td>\n",
       "      <td>boy shot thanks</td>\n",
       "      <td>POS</td>\n",
       "    </tr>\n",
       "    <tr>\n",
       "      <th>52</th>\n",
       "      <td>54.0</td>\n",
       "      <td>card payment provider checked card 100 fine fix</td>\n",
       "      <td>POS</td>\n",
       "    </tr>\n",
       "    <tr>\n",
       "      <th>61</th>\n",
       "      <td>63.0</td>\n",
       "      <td>option say artists want hear playlists lovely ...</td>\n",
       "      <td>POS</td>\n",
       "    </tr>\n",
       "    <tr>\n",
       "      <th>62</th>\n",
       "      <td>64.0</td>\n",
       "      <td>guys trying make hard load local music `` brow...</td>\n",
       "      <td>POS</td>\n",
       "    </tr>\n",
       "    <tr>\n",
       "      <th>63</th>\n",
       "      <td>65.0</td>\n",
       "      <td>love noticing random songs disappearing playlists</td>\n",
       "      <td>POS</td>\n",
       "    </tr>\n",
       "    <tr>\n",
       "      <th>65</th>\n",
       "      <td>67.0</td>\n",
       "      <td>added india</td>\n",
       "      <td>POS</td>\n",
       "    </tr>\n",
       "    <tr>\n",
       "      <th>...</th>\n",
       "      <td>...</td>\n",
       "      <td>...</td>\n",
       "      <td>...</td>\n",
       "    </tr>\n",
       "    <tr>\n",
       "      <th>28713</th>\n",
       "      <td>29152.0</td>\n",
       "      <td>wtf music plays phone app open screen locked ’...</td>\n",
       "      <td>POS</td>\n",
       "    </tr>\n",
       "    <tr>\n",
       "      <th>28715</th>\n",
       "      <td>29154.0</td>\n",
       "      <td>love displaying spanish ads listen exactly 0 s...</td>\n",
       "      <td>POS</td>\n",
       "    </tr>\n",
       "    <tr>\n",
       "      <th>28718</th>\n",
       "      <td>29157.0</td>\n",
       "      <td>kelvin mockingbird sacred experiencing occasio...</td>\n",
       "      <td>POS</td>\n",
       "    </tr>\n",
       "    <tr>\n",
       "      <th>28721</th>\n",
       "      <td>29160.0</td>\n",
       "      <td>good day way add devices premuim account upgra...</td>\n",
       "      <td>POS</td>\n",
       "    </tr>\n",
       "    <tr>\n",
       "      <th>28723</th>\n",
       "      <td>29162.0</td>\n",
       "      <td>freaking perfect velvet album okay guess ’ for...</td>\n",
       "      <td>POS</td>\n",
       "    </tr>\n",
       "    <tr>\n",
       "      <th>28726</th>\n",
       "      <td>29165.0</td>\n",
       "      <td>trying buy premium membership won ’ t let sign...</td>\n",
       "      <td>POS</td>\n",
       "    </tr>\n",
       "    <tr>\n",
       "      <th>28729</th>\n",
       "      <td>29168.0</td>\n",
       "      <td>worry did application 's job took startup list...</td>\n",
       "      <td>POS</td>\n",
       "    </tr>\n",
       "    <tr>\n",
       "      <th>28730</th>\n",
       "      <td>29169.0</td>\n",
       "      <td>try upgrade account premium version using phon...</td>\n",
       "      <td>POS</td>\n",
       "    </tr>\n",
       "    <tr>\n",
       "      <th>28731</th>\n",
       "      <td>29170.0</td>\n",
       "      <td>saya daritadi mau melakukan pembayaran pulsa g...</td>\n",
       "      <td>POS</td>\n",
       "    </tr>\n",
       "    <tr>\n",
       "      <th>28734</th>\n",
       "      <td>29173.0</td>\n",
       "      <td>mistake meant upgrade single premium family pr...</td>\n",
       "      <td>POS</td>\n",
       "    </tr>\n",
       "    <tr>\n",
       "      <th>28737</th>\n",
       "      <td>29176.0</td>\n",
       "      <td>fine id buy music support artist ipod broken r...</td>\n",
       "      <td>POS</td>\n",
       "    </tr>\n",
       "    <tr>\n",
       "      <th>28738</th>\n",
       "      <td>29177.0</td>\n",
       "      <td>hello free althought subscribe</td>\n",
       "      <td>POS</td>\n",
       "    </tr>\n",
       "    <tr>\n",
       "      <th>28740</th>\n",
       "      <td>29179.0</td>\n",
       "      <td>just took away premium ’ s supposed gone till ...</td>\n",
       "      <td>POS</td>\n",
       "    </tr>\n",
       "    <tr>\n",
       "      <th>28741</th>\n",
       "      <td>29180.0</td>\n",
       "      <td>having problems apple carplay working brillian...</td>\n",
       "      <td>POS</td>\n",
       "    </tr>\n",
       "    <tr>\n",
       "      <th>28742</th>\n",
       "      <td>29181.0</td>\n",
       "      <td>wrong pretty sure spelt `` linking park ''</td>\n",
       "      <td>POS</td>\n",
       "    </tr>\n",
       "    <tr>\n",
       "      <th>28745</th>\n",
       "      <td>29184.0</td>\n",
       "      <td>expect songs 2017 cool speediness efforts appr...</td>\n",
       "      <td>POS</td>\n",
       "    </tr>\n",
       "    <tr>\n",
       "      <th>28746</th>\n",
       "      <td>29185.0</td>\n",
       "      <td>app android allow owner access follows certain...</td>\n",
       "      <td>POS</td>\n",
       "    </tr>\n",
       "    <tr>\n",
       "      <th>28749</th>\n",
       "      <td>29188.0</td>\n",
       "      <td>yo wtf sucks point having premium subscription...</td>\n",
       "      <td>POS</td>\n",
       "    </tr>\n",
       "    <tr>\n",
       "      <th>28750</th>\n",
       "      <td>29189.0</td>\n",
       "      <td>paying y ’ money y ’ just gon na playing album...</td>\n",
       "      <td>POS</td>\n",
       "    </tr>\n",
       "    <tr>\n",
       "      <th>28751</th>\n",
       "      <td>29190.0</td>\n",
       "      <td>guys add 's songs new album `` warm winter '' ...</td>\n",
       "      <td>POS</td>\n",
       "    </tr>\n",
       "    <tr>\n",
       "      <th>28752</th>\n",
       "      <td>29191.0</td>\n",
       "      <td>direct suggestions love history notes section ...</td>\n",
       "      <td>POS</td>\n",
       "    </tr>\n",
       "    <tr>\n",
       "      <th>28753</th>\n",
       "      <td>29192.0</td>\n",
       "      <td>kindly check dm need thanks</td>\n",
       "      <td>POS</td>\n",
       "    </tr>\n",
       "    <tr>\n",
       "      <th>28760</th>\n",
       "      <td>29199.0</td>\n",
       "      <td>need christmas album</td>\n",
       "      <td>POS</td>\n",
       "    </tr>\n",
       "    <tr>\n",
       "      <th>28761</th>\n",
       "      <td>29200.0</td>\n",
       "      <td>acting im just tryna listen music peace</td>\n",
       "      <td>POS</td>\n",
       "    </tr>\n",
       "    <tr>\n",
       "      <th>28773</th>\n",
       "      <td>29212.0</td>\n",
       "      <td>release radar going “ going ” meaning playing ...</td>\n",
       "      <td>POS</td>\n",
       "    </tr>\n",
       "    <tr>\n",
       "      <th>28774</th>\n",
       "      <td>29214.0</td>\n",
       "      <td>want know use premium feature answer thank</td>\n",
       "      <td>POS</td>\n",
       "    </tr>\n",
       "    <tr>\n",
       "      <th>28777</th>\n",
       "      <td>29217.0</td>\n",
       "      <td>hey question ’ m premium member ’ s 200 worth ...</td>\n",
       "      <td>POS</td>\n",
       "    </tr>\n",
       "    <tr>\n",
       "      <th>28779</th>\n",
       "      <td>29219.0</td>\n",
       "      <td>just got 3,000 minute long ad explain</td>\n",
       "      <td>POS</td>\n",
       "    </tr>\n",
       "    <tr>\n",
       "      <th>28784</th>\n",
       "      <td>29224.0</td>\n",
       "      <td>tried devices browsers does work really frustr...</td>\n",
       "      <td>POS</td>\n",
       "    </tr>\n",
       "    <tr>\n",
       "      <th>28785</th>\n",
       "      <td>29225.0</td>\n",
       "      <td>'s late page yr curious clear app installed wa...</td>\n",
       "      <td>POS</td>\n",
       "    </tr>\n",
       "  </tbody>\n",
       "</table>\n",
       "<p>11981 rows × 3 columns</p>\n",
       "</div>"
      ],
      "text/plain": [
       "       case_id                                               text sentiment\n",
       "0          1.0  uh limit songs `` save '' — supposed track alb...       POS\n",
       "1          2.0  used useful feature ios app allowed user hear ...       POS\n",
       "4          5.0             way non-explicit songs explicit ok thx       POS\n",
       "7          8.0  devices doing cool thing play strangerthings a...       POS\n",
       "12        13.0                      having party actually amazing       POS\n",
       "13        14.0                                   check dm 's babe       POS\n",
       "14        15.0  way block particular ad happy ads/dont want pr...       POS\n",
       "17        18.0  booooourns hey hey thanks reaching pascal 's p...       POS\n",
       "19        21.0                                        credit card       POS\n",
       "20        22.0  album playable super available 2ne1 playlist c...       POS\n",
       "21        23.0  mac os high sierra 10.13 1.0.66.478.g1296534d ...       POS\n",
       "22        24.0  hey worked thank issue app fixed guys tho ’ .....       POS\n",
       "26        28.0  app killing phone battery fixing problem okay ...       POS\n",
       "27        29.0  layout looks nice really isn ’ t friendly left...       POS\n",
       "31        33.0  dragged songs playlists aims technology make e...       POS\n",
       "33        35.0  hey did `` shook night long '' just piss remov...       POS\n",
       "35        37.0             cases thanks advance 2 okay did thanks       POS\n",
       "36        38.0  dunno use decides song gon na play- love maybe...       POS\n",
       "38        40.0  fathom rid unique useful feature heavy-users f...       POS\n",
       "40        42.0  sign actually iphone 7 ios 11.0.3 version 8.4....       POS\n",
       "42        44.0  songs disappeared songs playlist able view pho...       POS\n",
       "46        48.0  im paying premium time log keeps saying free s...       POS\n",
       "47        49.0  watch ad video say 30 mins ad free expect 30 m...       POS\n",
       "48        50.0  excuse songs available commercially available ...       POS\n",
       "50        52.0                                    boy shot thanks       POS\n",
       "52        54.0    card payment provider checked card 100 fine fix       POS\n",
       "61        63.0  option say artists want hear playlists lovely ...       POS\n",
       "62        64.0  guys trying make hard load local music `` brow...       POS\n",
       "63        65.0  love noticing random songs disappearing playlists       POS\n",
       "65        67.0                                        added india       POS\n",
       "...        ...                                                ...       ...\n",
       "28713  29152.0  wtf music plays phone app open screen locked ’...       POS\n",
       "28715  29154.0  love displaying spanish ads listen exactly 0 s...       POS\n",
       "28718  29157.0  kelvin mockingbird sacred experiencing occasio...       POS\n",
       "28721  29160.0  good day way add devices premuim account upgra...       POS\n",
       "28723  29162.0  freaking perfect velvet album okay guess ’ for...       POS\n",
       "28726  29165.0  trying buy premium membership won ’ t let sign...       POS\n",
       "28729  29168.0  worry did application 's job took startup list...       POS\n",
       "28730  29169.0  try upgrade account premium version using phon...       POS\n",
       "28731  29170.0  saya daritadi mau melakukan pembayaran pulsa g...       POS\n",
       "28734  29173.0  mistake meant upgrade single premium family pr...       POS\n",
       "28737  29176.0  fine id buy music support artist ipod broken r...       POS\n",
       "28738  29177.0                     hello free althought subscribe       POS\n",
       "28740  29179.0  just took away premium ’ s supposed gone till ...       POS\n",
       "28741  29180.0  having problems apple carplay working brillian...       POS\n",
       "28742  29181.0         wrong pretty sure spelt `` linking park ''       POS\n",
       "28745  29184.0  expect songs 2017 cool speediness efforts appr...       POS\n",
       "28746  29185.0  app android allow owner access follows certain...       POS\n",
       "28749  29188.0  yo wtf sucks point having premium subscription...       POS\n",
       "28750  29189.0  paying y ’ money y ’ just gon na playing album...       POS\n",
       "28751  29190.0  guys add 's songs new album `` warm winter '' ...       POS\n",
       "28752  29191.0  direct suggestions love history notes section ...       POS\n",
       "28753  29192.0                        kindly check dm need thanks       POS\n",
       "28760  29199.0                               need christmas album       POS\n",
       "28761  29200.0            acting im just tryna listen music peace       POS\n",
       "28773  29212.0  release radar going “ going ” meaning playing ...       POS\n",
       "28774  29214.0         want know use premium feature answer thank       POS\n",
       "28777  29217.0  hey question ’ m premium member ’ s 200 worth ...       POS\n",
       "28779  29219.0              just got 3,000 minute long ad explain       POS\n",
       "28784  29224.0  tried devices browsers does work really frustr...       POS\n",
       "28785  29225.0  's late page yr curious clear app installed wa...       POS\n",
       "\n",
       "[11981 rows x 3 columns]"
      ]
     },
     "execution_count": 33,
     "metadata": {},
     "output_type": "execute_result"
    }
   ],
   "source": [
    "df_ticket[df_ticket['sentiment'] == 'POS'] "
   ]
  },
  {
   "cell_type": "code",
   "execution_count": 221,
   "metadata": {
    "collapsed": true
   },
   "outputs": [],
   "source": [
    "class RecommendationEngine:\n",
    "    def __init__(self, vectorizer, n_components, reducer, ticket, solution):\n",
    "        self.vectorizer = vectorizer\n",
    "        self.n_dim = n_components\n",
    "        self.reducer = reducer(n_components)\n",
    "        self.ticket = ticket\n",
    "        self.solution = solution\n",
    "        \n",
    "    def fit(self, df):\n",
    "        self.vector_data = self.vectorizer.fit_transform(df['text'])\n",
    "        self.topic_data = self.reducer.fit_transform(self.vector_data)\n",
    "        self.df = df_ticket\n",
    "    \n",
    "    def _print_recommendations(self, article, rec_list):\n",
    "        p = inflect.engine()\n",
    "        print('NEW MESSAGE:', article)\n",
    "        i = 1\n",
    "        for resp in self.df.loc[rec_list]['case_id']:\n",
    "            print(f'\\n---{p.ordinal(i)} SIMILAR CONVERSATION---\\n')\n",
    "            self._display_conversation(resp)\n",
    "            print('\\n')\n",
    "            i += 1\n",
    "    \n",
    "    def _display_conversation (self, case_id):\n",
    "        cust_conv = self.ticket[self.ticket['case_id'] == case_id][['created_at', 'inbound', 'text']]\n",
    "        agent_conv = self.solution[self.solution['case_id'] == case_id][['created_at', 'inbound', 'text']]\n",
    "        conv_list = pd.concat([cust_conv, agent_conv]).sort_values('created_at')\n",
    "        for i in range(conv_list.shape[0]):\n",
    "            if (conv_list.iloc[i]['inbound']):\n",
    "                print ('CUSTOMER:   ', colored(conv_list.iloc[i]['text'], 'red'))\n",
    "            else:\n",
    "                print ('AGENT:      ', colored(conv_list.iloc[i]['text'], 'green'))\n",
    "        \n",
    "    def recommend(self, article, num_to_return):\n",
    "        article_vectorized = self.vectorizer.transform([article])\n",
    "        article_topic_vector = self.reducer.transform(article_vectorized)\n",
    "        nn = NearestNeighbors(n_neighbors=num_to_return, metric='cosine', algorithm='brute')\n",
    "        \n",
    "        tmp = self.vectorizer.transform(self.df[self.df['sentiment']=='POS'].text)\n",
    "        tmp2 = self.reducer.transform(tmp)\n",
    "        \n",
    "        nn.fit(tmp2)\n",
    "        results = nn.kneighbors(article_topic_vector)\n",
    "        #result_texts = [self.texts[i] for i in results[1][0]]\n",
    "        rec_list = results[1][0]\n",
    "        print ('number of results: ', len(rec_list))\n",
    "        self._print_recommendations(article, rec_list)\n",
    "        \n",
    "        return rec_list\n",
    "    \n",
    "    def display_topics(self, no_top_words, topic_names=None):\n",
    "        feature_names = self.vectorizer.get_feature_names()\n",
    "        for ix, topic in enumerate(self.reducer.components_):\n",
    "            if not topic_names or not topic_names[ix]:\n",
    "                print(\"\\nTopic \", ix)\n",
    "            else:\n",
    "                print(\"\\nTopic: '\",topic_names[ix],\"'\")\n",
    "            print(\", \".join([feature_names[i]\n",
    "                for i in topic.argsort()[:-no_top_words - 1:-1]]))"
   ]
  },
  {
   "cell_type": "code",
   "execution_count": 37,
   "metadata": {
    "collapsed": true
   },
   "outputs": [],
   "source": [
    "ticket_origin = pd.merge(ticket_reserve[['tweet_id', 'created_at', 'inbound', 'text']], ticket[['tweet_id', 'case_id']], left_on='tweet_id', right_on='tweet_id', how='right')\n",
    "solution_origin = pd.merge(solution_reserve[['tweet_id', 'created_at', 'inbound', 'text']], solution[['tweet_id', 'case_id']], left_on='tweet_id', right_on='tweet_id', how='right')"
   ]
  },
  {
   "cell_type": "code",
   "execution_count": 38,
   "metadata": {
    "collapsed": true
   },
   "outputs": [],
   "source": [
    "tfidf_vectorizer = TfidfVectorizer(ngram_range=(1, 2),  \n",
    "                                   stop_words=my_stop_words, \n",
    "                                   token_pattern=\"\\\\b[a-z][a-z]+\\\\b\",\n",
    "                                   lowercase=True,\n",
    "                                   max_df = 0.6)\n",
    "\n",
    "count_vectorizer = CountVectorizer(ngram_range=(1, 2),  \n",
    "                                   stop_words='english', \n",
    "                                   token_pattern=\"\\\\b[a-z][a-z]+\\\\b\",\n",
    "                                   lowercase=True,\n",
    "                                   max_df = 0.6)\n",
    "\n",
    "\n",
    "#tfidf_data = tfidf_vectorizer.fit_transform(list(df_ticket.text))"
   ]
  },
  {
   "cell_type": "code",
   "execution_count": 60,
   "metadata": {
    "collapsed": true
   },
   "outputs": [],
   "source": [
    "tfidf_data = tfidf_vectorizer.fit_transform(list(df_ticket.text))\n",
    "lsa_tfidf = TruncatedSVD(n_components=10)\n",
    "\n",
    "lsa_tfidf_data = lsa_tfidf.fit_transform(tfidf_data)"
   ]
  },
  {
   "cell_type": "code",
   "execution_count": 225,
   "metadata": {},
   "outputs": [],
   "source": [
    "engine_1 = RecommendationEngine(tfidf_vectorizer, n_components = 8, reducer = TruncatedSVD, ticket = ticket_origin, solution=solution_origin)\n",
    "topic_data = engine_1.fit(df_ticket)"
   ]
  },
  {
   "cell_type": "code",
   "execution_count": null,
   "metadata": {
    "collapsed": true
   },
   "outputs": [],
   "source": [
    "engine_2 = RecommendationEngine(count_vectorizer, n_components = 20, reducer = NMF, ticket = ticket_origin, solution=solution_origin)\n",
    "engine_2.fit(df_ticket)"
   ]
  },
  {
   "cell_type": "code",
   "execution_count": null,
   "metadata": {
    "collapsed": true
   },
   "outputs": [],
   "source": [
    "engine_3 = RecommendationEngine(tfidf_vectorizer, n_components = 100, reducer = NMF, ticket = ticket_origin, solution=solution_origin)\n",
    "engine_3.fit(df_ticket)"
   ]
  },
  {
   "cell_type": "code",
   "execution_count": null,
   "metadata": {
    "collapsed": true
   },
   "outputs": [],
   "source": [
    "engine_dict = {1:engine_1, 2:engine_2, 3:engine_3}"
   ]
  },
  {
   "cell_type": "code",
   "execution_count": null,
   "metadata": {
    "collapsed": true
   },
   "outputs": [],
   "source": [
    "with open('./data/processed/engines.pkl', 'wb') as picklefile:\n",
    "    pickle.dump(engine_dict, picklefile)"
   ]
  },
  {
   "cell_type": "code",
   "execution_count": 204,
   "metadata": {
    "collapsed": true
   },
   "outputs": [],
   "source": [
    "cust_first_tweet = ticket.groupby('case_id')[['text']].first().reset_index()\n",
    "sample = cust_first_tweet.text[np.random.choice(cust_first_tweet.shape[0])]"
   ]
  },
  {
   "cell_type": "code",
   "execution_count": 226,
   "metadata": {},
   "outputs": [
    {
     "name": "stdout",
     "output_type": "stream",
     "text": [
      "number of results:  3\n",
      "NEW MESSAGE: uh why is there a limit on how many songs i can \"save\" — how am i supposed to keep track of the albums i like?\n",
      "\n",
      "---1st SIMILAR CONVERSATION---\n",
      "\n",
      "CUSTOMER:    \u001b[31m@115888 My favorite song from #DavidAllenCoe “If that ain’t country” was recently removed from your library. Why??? #AnswerTime\u001b[0m\n",
      "AGENT:       \u001b[32m@287544 Hey there! Can you DM us your account's email address? We'll take a look /RB https://t.co/ldFdZRiNAt\u001b[0m\n",
      "\n",
      "\n",
      "\n",
      "---2nd SIMILAR CONVERSATION---\n",
      "\n",
      "CUSTOMER:    \u001b[31m@SpotifyCares Please cek DM thanks you 😊🙏\u001b[0m\n",
      "AGENT:       \u001b[32m@142361 We've just sent you a DM 🙂 /AN\u001b[0m\n",
      "CUSTOMER:    \u001b[31m@SpotifyCares Thanks you for you respon and replay my problem admin 😊\u001b[0m\n",
      "AGENT:       \u001b[32m@142361 You're welcome! If you ever need us again, just give us a shout. We'd be... https://t.co/LgAM6ky9Vv /AN\u001b[0m\n",
      "CUSTOMER:    \u001b[31m@118266 admin Spotify sy Premium kenapa ada iklan min? Di next mau play lagu iklan lagi min? Why?\u001b[0m\n",
      "AGENT:       \u001b[32m@142361 Hey! We can help out in English via Twitter, but we also have Indonesian support via email at https://t.co/ZgU70TbP8M /AN\u001b[0m\n",
      "CUSTOMER:    \u001b[31m@SpotifyCares My account spotify is premium, why my account spotify have a advertaising? why? Please respon\u001b[0m\n",
      "AGENT:       \u001b[32m@142361 Got it. Can you DM us your account's email address? We'll take a look under the hood /AN https://t.co/ldFdZRiNAt\u001b[0m\n",
      "\n",
      "\n",
      "\n",
      "---3rd SIMILAR CONVERSATION---\n",
      "\n",
      "CUSTOMER:    \u001b[31m@SpotifyCares Any plans to add the ability to mark podcasts as played or not-played? https://t.co/pEHPrJ8no4\u001b[0m\n",
      "AGENT:       \u001b[32m@417472 Hey Garrett! We don't have any info to share about this now, but rest assured our devs are looking carefully into this idea /JP\u001b[0m\n",
      "\n",
      "\n"
     ]
    },
    {
     "data": {
      "text/plain": [
       "array([ 6674,  1020, 11491])"
      ]
     },
     "execution_count": 226,
     "metadata": {},
     "output_type": "execute_result"
    }
   ],
   "source": [
    "engine_1.recommend(ticket.text[0], 3)"
   ]
  },
  {
   "cell_type": "code",
   "execution_count": 227,
   "metadata": {},
   "outputs": [
    {
     "name": "stdout",
     "output_type": "stream",
     "text": [
      "\n",
      "Topic  0\n",
      "account, premium, family, student, just, need, email, premium account, app, thanks\n",
      "\n",
      "Topic  1\n",
      "account, premium, premium account, student, charged, email, family, hulu, facebook, hacked\n",
      "\n",
      "Topic  2\n",
      "dm, sent, sent dm, need, check, thanks, check dm, email, account, thank\n",
      "\n",
      "Topic  3\n",
      "premium, dm, student, charged, family, discount, sent, month, student discount, sent dm\n",
      "\n",
      "Topic  4\n",
      "family, plan, family plan, premium family, premium, add, family account, family premium, members, invite\n",
      "\n",
      "Topic  5\n",
      "reputation, album, thank, need, available, playlist, new, songs, new album, family\n",
      "\n",
      "Topic  6\n",
      "need, family, update, iphone, premium, plan, app, family plan, need account, premium family\n",
      "\n",
      "Topic  7\n",
      "reputation, thank, iphone, update, app, available, app iphone, update app, reputation available, update iphone\n"
     ]
    }
   ],
   "source": [
    "engine_1.display_topics(10)"
   ]
  },
  {
   "cell_type": "code",
   "execution_count": 157,
   "metadata": {},
   "outputs": [
    {
     "name": "stdout",
     "output_type": "stream",
     "text": [
      "number of results:  3\n",
      "NEW MESSAGE: cool cool cool i think i am finally ready to switch to apple music\n",
      "\n",
      "---1st SIMILAR CONVERSATION---\n",
      "\n",
      "CUSTOMER:    \u001b[31m@115888 how dare you erase Julion Alvarez?!\u001b[0m\n",
      "AGENT:       \u001b[32m@382004 Hey Selene. Thanks for reaching out! There's some info on Spotify content here: https://t.co/0i8GpimuDa /MG\u001b[0m\n",
      "CUSTOMER:    \u001b[31m@SpotifyCares But he’s extremely popular and talented... you need to get him back ASAP\u001b[0m\n",
      "AGENT:       \u001b[32m@382004 We do our best! But sometimes agreements are ongoing, or can't be reached with the content provider. Hopefully we'll have him back soon /RV\u001b[0m\n",
      "\n",
      "\n",
      "\n",
      "---2nd SIMILAR CONVERSATION---\n",
      "\n",
      "CUSTOMER:    \u001b[31m@115888 ok now its doing it to several albums by different artists including THIRD EYE BLIND's SELF TITLED CMON\u001b[0m\n",
      "AGENT:       \u001b[32m@329305 1: Hey, that's not cool. Can you send us the Song Links of the tracks affected? Just tap the three dots &gt; Share &gt; Copy Link.\u001b[0m\n",
      "AGENT:       \u001b[32m@329305 2: Also, what country is your account set to? We'll take a look backstage /JE\u001b[0m\n",
      "CUSTOMER:    \u001b[31m@SpotifyCares US,\n",
      "\n",
      "https://t.co/J0UrCjAWu5\n",
      "\n",
      "https://t.co/d85YQwjHxR\u001b[0m\n",
      "AGENT:       \u001b[32m@329305 Got it! We can confirm those albums are available in the US. What device, operating system, and Spotify version are you using? /JE\u001b[0m\n",
      "\n",
      "\n",
      "\n",
      "---3rd SIMILAR CONVERSATION---\n",
      "\n",
      "CUSTOMER:    \u001b[31m@SpotifyCares SOS I need to switch debit cards in the payment but I was just charged $25\u001b[0m\n",
      "AGENT:       \u001b[32m@249307 Hi Sara. Can you DM us your account's email address? We'll take a look backstage /LM https://t.co/ldFdZRiNAt\u001b[0m\n",
      "\n",
      "\n"
     ]
    },
    {
     "data": {
      "text/plain": [
       "array([10136,  8215,  4807])"
      ]
     },
     "execution_count": 157,
     "metadata": {},
     "output_type": "execute_result"
    }
   ],
   "source": [
    "engine_2.recommend(ticket.text[2], 3)"
   ]
  },
  {
   "cell_type": "code",
   "execution_count": 160,
   "metadata": {},
   "outputs": [
    {
     "name": "stdout",
     "output_type": "stream",
     "text": [
      "number of results:  3\n",
      "NEW MESSAGE: cool cool cool i think i am finally ready to switch to apple music\n",
      "\n",
      "---1st SIMILAR CONVERSATION---\n",
      "\n",
      "CUSTOMER:    \u001b[31m@SpotifyCares Uh why is there a limit on how many songs I can \"save\" — how am I supposed to keep track of the albums I like? https://t.co/bk7Y7Jt93A\u001b[0m\n",
      "AGENT:       \u001b[32m@1084 Hey Nick! There's currently a 10k limit in Your Music (Songs + Albums + Artists). More info here: https://t.co/59ABtm5Ftl /MO\u001b[0m\n",
      "CUSTOMER:    \u001b[31m@SpotifyCares cool cool cool I think I'm finally ready to switch to Apple Music\u001b[0m\n",
      "AGENT:       \u001b[32m@1084 Sorry to hear you feel that way. For now, you can vote for the idea here: https://t.co/8OOl8B2i69 and get support from other users /MO\u001b[0m\n",
      "\n",
      "\n",
      "\n",
      "---2nd SIMILAR CONVERSATION---\n",
      "\n",
      "CUSTOMER:    \u001b[31m@115888 is there a way to remove an block devices from accessing my account because someone has connected there device to my account\u001b[0m\n",
      "AGENT:       \u001b[32m@346030 Hey there! We’re sorry to hear that. Check out https://t.co/QHn3ok8y2n for what to do next /BH\u001b[0m\n",
      "\n",
      "\n",
      "\n",
      "---3rd SIMILAR CONVERSATION---\n",
      "\n",
      "CUSTOMER:    \u001b[31m@115888 why can't you do this for metal, metal-core, hardcore, ect???? https://t.co/4HMjznIFNg\u001b[0m\n",
      "AGENT:       \u001b[32m@384535 Hey there! You might want to check this out: https://t.co/BjO8BUHUBF 🤘 /MU\u001b[0m\n",
      "\n",
      "\n"
     ]
    },
    {
     "data": {
      "text/plain": [
       "array([    0,  8760, 10224])"
      ]
     },
     "execution_count": 160,
     "metadata": {},
     "output_type": "execute_result"
    }
   ],
   "source": [
    "engine_3.recommend(ticket.text[2], 3)"
   ]
  },
  {
   "cell_type": "markdown",
   "metadata": {},
   "source": [
    "### Try word2vec model"
   ]
  },
  {
   "cell_type": "code",
   "execution_count": 151,
   "metadata": {
    "collapsed": true
   },
   "outputs": [],
   "source": [
    "# Function to take a document as a list of words and return the document vector\n",
    "def get_doc_vec(words, model):\n",
    "    good_words = []\n",
    "    for word in words:\n",
    "        # Words not in the original model will fail\n",
    "        try:\n",
    "            if model.wv[word] is not None:\n",
    "                good_words.append(word)\n",
    "        except:\n",
    "            continue\n",
    "    # If no words are in the original model\n",
    "    if len(good_words) == 0:\n",
    "        return [0.0]*300\n",
    "    # Return the mean of the vectors for all the good words\n",
    "    return model.wv[good_words].mean(axis=0)"
   ]
  },
  {
   "cell_type": "code",
   "execution_count": null,
   "metadata": {
    "collapsed": true
   },
   "outputs": [],
   "source": [
    "google_vec_file = './data/raw/GoogleNews-vectors-negative300.bin'\n",
    "google_model = gensim.models.KeyedVectors.load_word2vec_format(google_vec_file, binary=True)"
   ]
  },
  {
   "cell_type": "code",
   "execution_count": 211,
   "metadata": {
    "collapsed": true
   },
   "outputs": [],
   "source": [
    "def print_recommendations(df, article, rec_list):\n",
    "    p = inflect.engine()\n",
    "    print('NEW MESSAGE:', article)\n",
    "    i = 1\n",
    "    for resp in df.loc[rec_list]['case_id']:\n",
    "        print(f'\\n---{p.ordinal(i)} SIMILAR CONVERSATION---\\n')\n",
    "        display_conversation(resp)\n",
    "        print('\\n')\n",
    "        i += 1\n",
    "\n",
    "def display_conversation (case_id):\n",
    "    cust_conv = ticket[ticket['case_id'] == case_id][['created_at', 'inbound', 'text']]\n",
    "    agent_conv = solution[solution['case_id'] == case_id][['created_at', 'inbound', 'text']]\n",
    "    conv_list = pd.concat([cust_conv, agent_conv]).sort_values('created_at')\n",
    "    for i in range(conv_list.shape[0]):\n",
    "        if (conv_list.iloc[i]['inbound']):\n",
    "            print ('CUSTOMER:   ', colored(conv_list.iloc[i]['text'], 'red'))\n",
    "        else:\n",
    "            print ('AGENT:      ', colored(conv_list.iloc[i]['text'], 'green'))"
   ]
  },
  {
   "cell_type": "code",
   "execution_count": 216,
   "metadata": {},
   "outputs": [],
   "source": [
    "def recommend_word2vec(df, model, num_to_return, article):\n",
    "    tmp = df[df['sentiment']=='POS'].text\n",
    "    ticket_google_vecs = tmp.map(lambda x: get_doc_vec(x.split(), model))\n",
    "    df_ticket_google = pd.DataFrame(ticket_google_vecs.values.tolist())\n",
    "    nn = NearestNeighbors(n_neighbors=num_to_return, metric='cosine', algorithm='brute')\n",
    "    nn.fit(df_ticket_google)\n",
    "    new_vecs = get_doc_vec(article.split(), model)\n",
    "    tmp2 = pd.DataFrame([new_vecs.tolist()])\n",
    "    rec_list = nn.kneighbors(tmp2)[1][0].tolist()\n",
    "    \n",
    "    print_recommendations(df, article, rec_list)\n",
    "    return "
   ]
  },
  {
   "cell_type": "code",
   "execution_count": 217,
   "metadata": {},
   "outputs": [
    {
     "name": "stderr",
     "output_type": "stream",
     "text": [
      "/Users/songlin/anaconda2/envs/Python36/lib/python3.6/site-packages/ipykernel_launcher.py:7: DeprecationWarning: Call to deprecated `wv` (Attribute will be removed in 4.0.0, use self instead).\n",
      "  import sys\n",
      "/Users/songlin/anaconda2/envs/Python36/lib/python3.6/site-packages/ipykernel_launcher.py:15: DeprecationWarning: Call to deprecated `wv` (Attribute will be removed in 4.0.0, use self instead).\n",
      "  from ipykernel import kernelapp as app\n"
     ]
    },
    {
     "name": "stdout",
     "output_type": "stream",
     "text": [
      "NEW MESSAGE: cool cool cool i think i am finally ready to switch to apple music\n",
      "\n",
      "---1st SIMILAR CONVERSATION---\n",
      "\n",
      "CUSTOMER:    \u001b[31muh why is there a limit on how many songs i can \"save\" — how am i supposed to keep track of the albums i like?\u001b[0m\n",
      "AGENT:       \u001b[32mhey nick! there is currently a 10k limit in your music (songs + albums + artists). more info here: /mo\u001b[0m\n",
      "CUSTOMER:    \u001b[31mcool cool cool i think i am finally ready to switch to apple music\u001b[0m\n",
      "AGENT:       \u001b[32msorry to hear you feel that way. for now, you can vote for the idea here: and get support from other users /mo\u001b[0m\n",
      "\n",
      "\n",
      "\n",
      "---2nd SIMILAR CONVERSATION---\n",
      "\n",
      "CUSTOMER:    \u001b[31mwhat’s going on with ios 11 and the music widget in the control centre? spotify is not showing when music is being played?\u001b[0m\n",
      "AGENT:       \u001b[32mhey aaron! that is not cool. does logging out &gt; restarting the device &gt; logging back in help? keep us posted /rv\u001b[0m\n",
      "CUSTOMER:    \u001b[31mthat fixed the problem for a few hours then it returned? i’m using an iphone 7 with lastest ios &amp; spotify update. any ideas?\u001b[0m\n",
      "AGENT:       \u001b[32mthanks for the update. can you try the steps here for us: ? it should help with this. let us know how you get on /ji\u001b[0m\n",
      "CUSTOMER:    \u001b[31mstill no change. from what i’m reading online ios 11 &amp; spotify hate each other. any ideas on what to try now?\u001b[0m\n",
      "AGENT:       \u001b[32mthanks for the confirmation aaron. we have let our tech folks know and they are investigating this as we speak. we hope to have a fix soon /ji\u001b[0m\n",
      "\n",
      "\n",
      "\n",
      "---3rd SIMILAR CONVERSATION---\n",
      "\n",
      "CUSTOMER:    \u001b[31mcan you point me in the direction of some highly acclaimed new voices in the scene. super tired of constant edm and rap. looking in the realm of matt corby style of talented music. just want to hear non-synthesized sounds.\u001b[0m\n",
      "AGENT:       \u001b[32mhey josh! you should be able to find some under the indie and folk &amp; americana genres on the app's genres &amp; moods tab. hope this helps /ar\u001b[0m\n",
      "CUSTOMER:    \u001b[31mthanks a ton, found some good stuff :)\u001b[0m\n",
      "AGENT:       \u001b[32myou are welcome! if you ever need help with anything else, just give us a... /ar\u001b[0m\n",
      "\n",
      "\n"
     ]
    }
   ],
   "source": [
    "recommend_word2vec(df_ticket, google_model, 3, ticket.text[2])"
   ]
  },
  {
   "cell_type": "markdown",
   "metadata": {},
   "source": [
    "### Perform Clustering"
   ]
  },
  {
   "cell_type": "code",
   "execution_count": null,
   "metadata": {
    "collapsed": true
   },
   "outputs": [],
   "source": []
  },
  {
   "cell_type": "code",
   "execution_count": null,
   "metadata": {
    "collapsed": true
   },
   "outputs": [],
   "source": []
  },
  {
   "cell_type": "code",
   "execution_count": null,
   "metadata": {
    "collapsed": true
   },
   "outputs": [],
   "source": []
  }
 ],
 "metadata": {
  "kernelspec": {
   "display_name": "Python (conda 3.6)",
   "language": "python",
   "name": "python36"
  },
  "language_info": {
   "codemirror_mode": {
    "name": "ipython",
    "version": 3
   },
   "file_extension": ".py",
   "mimetype": "text/x-python",
   "name": "python",
   "nbconvert_exporter": "python",
   "pygments_lexer": "ipython3",
   "version": "3.6.3"
  }
 },
 "nbformat": 4,
 "nbformat_minor": 2
}
