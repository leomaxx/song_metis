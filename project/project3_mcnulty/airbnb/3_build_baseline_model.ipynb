{
 "cells": [
  {
   "cell_type": "code",
   "execution_count": 41,
   "metadata": {},
   "outputs": [],
   "source": [
    "import pickle\n",
    "import h2o\n",
    "import numpy as np\n",
    "import pandas as pd\n",
    "import matplotlib.pyplot as plt\n",
    "\n",
    "from sklearn.cross_validation import train_test_split\n",
    "from sklearn.preprocessing import StandardScaler\n",
    "from sklearn.grid_search import GridSearchCV\n",
    "from sklearn.pipeline import Pipeline\n",
    "from sklearn.tree import DecisionTreeClassifier, export_graphviz\n",
    "from fancyimpute import MICE as MICE\n",
    "from copy import deepcopy\n",
    "from sklearn.ensemble import RandomForestRegressor\n",
    "from sklearn.metrics import accuracy_score\n",
    "\n",
    "from h2o.estimators.gbm import H2OGradientBoostingEstimator\n",
    "from h2o.estimators.random_forest import H2ORandomForestEstimator\n",
    "from h2o.grid.grid_search import H2OGridSearch\n",
    "\n",
    "\n",
    "%matplotlib inline"
   ]
  },
  {
   "cell_type": "code",
   "execution_count": 2,
   "metadata": {},
   "outputs": [
    {
     "name": "stdout",
     "output_type": "stream",
     "text": [
      "Checking whether there is an H2O instance running at http://localhost:54321..... not found.\n",
      "Attempting to start a local H2O server...\n",
      "  Java Version: openjdk version \"1.8.0_121\"; OpenJDK Runtime Environment (Zulu 8.20.0.5-macosx) (build 1.8.0_121-b15); OpenJDK 64-Bit Server VM (Zulu 8.20.0.5-macosx) (build 25.121-b15, mixed mode)\n",
      "  Starting server from /Users/songlin/anaconda2/envs/Python35/lib/python3.5/site-packages/h2o/backend/bin/h2o.jar\n",
      "  Ice root: /var/folders/zs/j5bf_gzd48g571wnp7g6hdy00000gn/T/tmpxwvfl5on\n",
      "  JVM stdout: /var/folders/zs/j5bf_gzd48g571wnp7g6hdy00000gn/T/tmpxwvfl5on/h2o_songlin_started_from_python.out\n",
      "  JVM stderr: /var/folders/zs/j5bf_gzd48g571wnp7g6hdy00000gn/T/tmpxwvfl5on/h2o_songlin_started_from_python.err\n",
      "  Server is running at http://127.0.0.1:54321\n",
      "Connecting to H2O server at http://127.0.0.1:54321... successful.\n"
     ]
    },
    {
     "data": {
      "text/html": [
       "<div style=\"overflow:auto\"><table style=\"width:50%\"><tr><td>H2O cluster uptime:</td>\n",
       "<td>02 secs</td></tr>\n",
       "<tr><td>H2O cluster timezone:</td>\n",
       "<td>America/Los_Angeles</td></tr>\n",
       "<tr><td>H2O data parsing timezone:</td>\n",
       "<td>UTC</td></tr>\n",
       "<tr><td>H2O cluster version:</td>\n",
       "<td>3.20.0.3</td></tr>\n",
       "<tr><td>H2O cluster version age:</td>\n",
       "<td>21 days, 5 hours and 17 minutes </td></tr>\n",
       "<tr><td>H2O cluster name:</td>\n",
       "<td>H2O_from_python_songlin_b3n9iz</td></tr>\n",
       "<tr><td>H2O cluster total nodes:</td>\n",
       "<td>1</td></tr>\n",
       "<tr><td>H2O cluster free memory:</td>\n",
       "<td>5.333 Gb</td></tr>\n",
       "<tr><td>H2O cluster total cores:</td>\n",
       "<td>4</td></tr>\n",
       "<tr><td>H2O cluster allowed cores:</td>\n",
       "<td>4</td></tr>\n",
       "<tr><td>H2O cluster status:</td>\n",
       "<td>accepting new members, healthy</td></tr>\n",
       "<tr><td>H2O connection url:</td>\n",
       "<td>http://127.0.0.1:54321</td></tr>\n",
       "<tr><td>H2O connection proxy:</td>\n",
       "<td>None</td></tr>\n",
       "<tr><td>H2O internal security:</td>\n",
       "<td>False</td></tr>\n",
       "<tr><td>H2O API Extensions:</td>\n",
       "<td>XGBoost, Algos, AutoML, Core V3, Core V4</td></tr>\n",
       "<tr><td>Python version:</td>\n",
       "<td>3.5.4 final</td></tr></table></div>"
      ],
      "text/plain": [
       "--------------------------  ----------------------------------------\n",
       "H2O cluster uptime:         02 secs\n",
       "H2O cluster timezone:       America/Los_Angeles\n",
       "H2O data parsing timezone:  UTC\n",
       "H2O cluster version:        3.20.0.3\n",
       "H2O cluster version age:    21 days, 5 hours and 17 minutes\n",
       "H2O cluster name:           H2O_from_python_songlin_b3n9iz\n",
       "H2O cluster total nodes:    1\n",
       "H2O cluster free memory:    5.333 Gb\n",
       "H2O cluster total cores:    4\n",
       "H2O cluster allowed cores:  4\n",
       "H2O cluster status:         accepting new members, healthy\n",
       "H2O connection url:         http://127.0.0.1:54321\n",
       "H2O connection proxy:\n",
       "H2O internal security:      False\n",
       "H2O API Extensions:         XGBoost, Algos, AutoML, Core V3, Core V4\n",
       "Python version:             3.5.4 final\n",
       "--------------------------  ----------------------------------------"
      ]
     },
     "metadata": {},
     "output_type": "display_data"
    }
   ],
   "source": [
    "h2o.init(nthreads=-1, min_mem_size=\"2G\", max_mem_size = \"6G\")             #specify max number of bytes. uses all cores by default.\n",
    "h2o.remove_all()                          #clean slate, in case cluster was already running"
   ]
  },
  {
   "cell_type": "code",
   "execution_count": 3,
   "metadata": {},
   "outputs": [],
   "source": [
    "# This cell is just about making things look nice\n",
    "\n",
    "# Make plots bigger by default.\n",
    "# Has to occur after the %matplotlib inline in a different cell. Known issue\n",
    "plt.rc('figure', figsize=(16.0, 10.0))\n",
    "plt.rcParams.update({'font.size': 22})\n",
    "\n",
    "# Make numpy outputs easier to read\n",
    "np.set_printoptions(precision=3, formatter={'float': '{: 8.3f}'.format})"
   ]
  },
  {
   "cell_type": "markdown",
   "metadata": {},
   "source": [
    "### Import imputed data"
   ]
  },
  {
   "cell_type": "code",
   "execution_count": 20,
   "metadata": {},
   "outputs": [],
   "source": [
    "with open('./data/processed/X_train_age_imputed.pkl', 'rb') as picklefile:\n",
    "    X_train = pickle.load(picklefile)\n",
    "with open('./data/processed/y_train_age_completed.pkl', 'rb') as picklefile:\n",
    "    y_train = pickle.load(picklefile)"
   ]
  },
  {
   "cell_type": "code",
   "execution_count": 30,
   "metadata": {},
   "outputs": [],
   "source": [
    "def custom_dummify(df, threshold, scaler=None):\n",
    "    df_concat = pd.DataFrame()\n",
    "    df_noncat = df.select_dtypes(exclude='object')\n",
    "    if (scaler == None):\n",
    "        scaler=StandardScaler()\n",
    "        df_noncat = pd.DataFrame(scaler.fit_transform(df_noncat), columns=df_noncat.columns)\n",
    "    else:\n",
    "        df_noncat = pd.DataFrame(scaler.transform(df_noncat), columns=df_noncat.columns)\n",
    "    # print(df_noncat.shape)\n",
    "    df = df.select_dtypes(include='object')\n",
    "    for column in range(len(df.columns)):\n",
    "        col_name = df.columns[column]\n",
    "        levels = df.iloc[:,column].value_counts()\n",
    "        count_all = np.sum(levels)\n",
    "        significant_cols = []\n",
    "        for level_values in levels.index:\n",
    "            if (levels[level_values]/count_all < threshold):\n",
    "                pass\n",
    "            else:\n",
    "                significant_cols.append(level_values)\n",
    "        df_dummy = pd.get_dummies(df[col_name], prefix=col_name)\n",
    "        cols_to_keep = [(col_name+\"_\"+x) for x in significant_cols]\n",
    "        df_dummy_kept = pd.DataFrame(df_dummy[cols_to_keep], columns=cols_to_keep)\n",
    "        df_dummy_agg = df_dummy.drop((cols_to_keep), axis=1)\n",
    "        df_dummy_agg = pd.DataFrame(df_dummy_agg.sum(axis=1), columns=[col_name+'_catch_all'])\n",
    "        df_unify = pd.concat([df_dummy_kept, df_dummy_agg], axis=1)\n",
    "        df_concat = pd.concat([df_concat, df_unify], axis=1)\n",
    "    # print(df_concat.shape)\n",
    "    return pd.concat([df_noncat, df_concat], axis=1 ), scaler"
   ]
  },
  {
   "cell_type": "markdown",
   "metadata": {},
   "source": [
    "## Build a baseline model based on h2o framework"
   ]
  },
  {
   "cell_type": "code",
   "execution_count": 33,
   "metadata": {},
   "outputs": [
    {
     "name": "stdout",
     "output_type": "stream",
     "text": [
      "Parse progress: |█████████████████████████████████████████████████████████| 100%\n"
     ]
    }
   ],
   "source": [
    "df_train = pd.concat([X_train, y_train], axis=1)\n",
    "h2o_train = h2o.H2OFrame(df_train)\n",
    "train, valid, test = h2o_train.split_frame([0.6, 0.2], seed=1234)\n",
    "X_train_h2o = h2o_train.col_names[:-1]\n",
    "y_train_h2o = h2o_train.col_names[-1]"
   ]
  },
  {
   "cell_type": "code",
   "execution_count": 37,
   "metadata": {},
   "outputs": [],
   "source": [
    "rf_v2 = H2ORandomForestEstimator(\n",
    "    model_id=\"rf_country_v2\",\n",
    "    stopping_rounds = 10,\n",
    "    stopping_tolerance = 0.00001,\n",
    "    stopping_metric = 'auto',\n",
    "    score_each_iteration = True,\n",
    "    balance_classes = True,\n",
    "    seed = 7)"
   ]
  },
  {
   "cell_type": "code",
   "execution_count": 38,
   "metadata": {},
   "outputs": [],
   "source": [
    "hyper_parameters = {'ntrees':[10, 20, 40, 60, 90], \n",
    "                    'max_depth':[5, 10, 30, 50, 80, 90]}"
   ]
  },
  {
   "cell_type": "code",
   "execution_count": 39,
   "metadata": {},
   "outputs": [],
   "source": [
    "criteria = {\"strategy\": \"RandomDiscrete\", \n",
    "            \"stopping_rounds\": 10,\n",
    "            \"stopping_tolerance\": 0.00001,\n",
    "            \"stopping_metric\": \"misclassification\"}"
   ]
  },
  {
   "cell_type": "code",
   "execution_count": 42,
   "metadata": {},
   "outputs": [],
   "source": [
    "grid_search = H2OGridSearch(model = rf_v2, \n",
    "                            hyper_params = hyper_parameters,\n",
    "                            search_criteria = criteria)"
   ]
  },
  {
   "cell_type": "code",
   "execution_count": null,
   "metadata": {},
   "outputs": [],
   "source": [
    "grid_search.train(X_train_h2o,\n",
    "                  y_train_h2o,\n",
    "                  training_frame = train,\n",
    "                  validation_frame = valid)"
   ]
  },
  {
   "cell_type": "code",
   "execution_count": null,
   "metadata": {},
   "outputs": [],
   "source": [
    "sorted_grid = grid_search.get_grid(sort_by='auc', decreasing=False)\n",
    "best_max_depth  = sorted_grid.sorted_metric_table()['max_depth'][0]\n",
    "best_ntrees     = sorted_grid.sorted_metric_table()['ntrees'][0]\n",
    "#print ('Best misclassification score is', sorted_grid.)"
   ]
  },
  {
   "cell_type": "markdown",
   "metadata": {},
   "source": [
    "## Build sklearn model based on dummified variables"
   ]
  },
  {
   "cell_type": "code",
   "execution_count": null,
   "metadata": {},
   "outputs": [],
   "source": [
    "X_train_sk = ?\n",
    "y_train_sk = ?\n",
    "X_test_sk = ?\n",
    "y_test_sk = ?"
   ]
  },
  {
   "cell_type": "code",
   "execution_count": 1,
   "metadata": {},
   "outputs": [
    {
     "data": {
      "text/plain": [
       "0.4188530734632684"
      ]
     },
     "execution_count": 1,
     "metadata": {},
     "output_type": "execute_result"
    }
   ],
   "source": [
    "(2860+3845)/((2860+3845)+(7413+1890))"
   ]
  },
  {
   "cell_type": "code",
   "execution_count": null,
   "metadata": {},
   "outputs": [],
   "source": []
  }
 ],
 "metadata": {
  "kernelspec": {
   "display_name": "Python 3",
   "language": "python",
   "name": "python3"
  },
  "language_info": {
   "codemirror_mode": {
    "name": "ipython",
    "version": 3
   },
   "file_extension": ".py",
   "mimetype": "text/x-python",
   "name": "python",
   "nbconvert_exporter": "python",
   "pygments_lexer": "ipython3",
   "version": "3.5.4"
  }
 },
 "nbformat": 4,
 "nbformat_minor": 2
}
